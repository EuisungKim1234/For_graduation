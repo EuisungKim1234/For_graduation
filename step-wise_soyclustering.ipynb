{
 "cells": [
  {
   "cell_type": "code",
   "execution_count": 2,
   "metadata": {},
   "outputs": [],
   "source": [
    "# nltk data download\n",
    "import nltk"
   ]
  },
  {
   "cell_type": "code",
   "execution_count": 3,
   "metadata": {},
   "outputs": [],
   "source": [
    "import numpy as np\n",
    "import pandas as pd\n",
    "import tensorflow as tf\n",
    "import re\n",
    "\n",
    "import matplotlib.pyplot as plt\n",
    "\n",
    "from nltk.tokenize import sent_tokenize, TreebankWordTokenizer\n",
    "from nltk.stem import WordNetLemmatizer\n",
    "from nltk.corpus import stopwords, wordnet\n",
    "\n",
    "from sklearn.model_selection import train_test_split\n",
    "from sklearn.metrics.pairwise import linear_kernel\n",
    "from sklearn.feature_extraction.text import CountVectorizer\n",
    "from sklearn.feature_extraction.text import TfidfVectorizer\n",
    "from sklearn.decomposition import LatentDirichletAllocation\n",
    "\n",
    "from tensorflow.keras.preprocessing.text import Tokenizer\n",
    "\n",
    "from gensim.matutils import hellinger, jaccard\n",
    "from gensim.models.word2vec import Word2Vec\n",
    "\n",
    "tokenizer = TreebankWordTokenizer()\n",
    "lemmatizer = WordNetLemmatizer()"
   ]
  },
  {
   "cell_type": "code",
   "execution_count": 10,
   "metadata": {},
   "outputs": [],
   "source": [
    "# class for lemmatization\n",
    "\n",
    "class LemmatizationWithPOSTagger(object):\n",
    "    def __init__(self):\n",
    "        pass\n",
    "    def get_wordnet_pos(self,treebank_tag):\n",
    "        \"\"\"\n",
    "        return WORDNET POS compliance to WORDENT lemmatization (a,n,r,v) \n",
    "        \"\"\"\n",
    "        if treebank_tag.startswith('J'):\n",
    "            return wordnet.ADJ\n",
    "        elif treebank_tag.startswith('V'):\n",
    "            return wordnet.VERB\n",
    "        elif treebank_tag.startswith('N'):\n",
    "            return wordnet.NOUN\n",
    "        elif treebank_tag.startswith('R'):\n",
    "            return wordnet.ADV\n",
    "        else:\n",
    "            # As default pos in lemmatization is Noun\n",
    "            return wordnet.NOUN\n",
    "\n",
    "    def pos_tag(self,tokens):\n",
    "        # find the pos tagginf for each tokens [('What', 'WP'), ('can', 'MD'), ('I', 'PRP') ....\n",
    "        pos_tokens = [nltk.pos_tag(token) for token in tokens]\n",
    "\n",
    "        # lemmatization using pos tagg   \n",
    "        # convert into feature set of [('What', 'What', ['WP']), ('can', 'can', ['MD']), ... ie [original WORD, Lemmatized word, POS tag]\n",
    "        pos_tokens = [ [(word, lemmatizer.lemmatize(word,self.get_wordnet_pos(pos_tag)), [pos_tag]) for (word,pos_tag) in pos] for pos in pos_tokens]\n",
    "        return pos_tokens"
   ]
  },
  {
   "cell_type": "code",
   "execution_count": 11,
   "metadata": {},
   "outputs": [
    {
     "name": "stdout",
     "output_type": "stream",
     "text": [
      "<class 'pandas.core.frame.DataFrame'>\n",
      "RangeIndex: 255 entries, 0 to 254\n",
      "Data columns (total 3 columns):\n",
      " #   Column    Non-Null Count  Dtype  \n",
      "---  ------    --------------  -----  \n",
      " 0   Title     255 non-null    object \n",
      " 1   Abstract  235 non-null    object \n",
      " 2   Label     11 non-null     float64\n",
      "dtypes: float64(1), object(2)\n",
      "memory usage: 6.1+ KB\n"
     ]
    }
   ],
   "source": [
    "# Load data\n",
    "df = pd.read_csv('C:/Users/Euisung/Desktop/Artech/Graduation/dataset/dataset_cognitivescience_01_TiAbs.csv', encoding='latin')\n",
    "df[0:10]\n",
    "df.info()"
   ]
  },
  {
   "cell_type": "code",
   "execution_count": 12,
   "metadata": {},
   "outputs": [
    {
     "name": "stdout",
     "output_type": "stream",
     "text": [
      "Title         0\n",
      "Abstract     20\n",
      "Label       244\n",
      "dtype: int64\n",
      "                                                 Title  \\\n",
      "0    About the effectiveness of telehealth procedur...   \n",
      "1    Acceptability of virtual reality interoceptive...   \n",
      "2    Acute anxiolytic effects of quetiapine during ...   \n",
      "3    Age-dependent modulation of sensory reweightin...   \n",
      "4    Allocentric lock in anorexia nervosa: New evid...   \n",
      "..                                                 ...   \n",
      "230  VirtualPhobia: A Model for Virtual Therapy of ...   \n",
      "231  Visualizing ideal self vs. actual self through...   \n",
      "232  Wii Fit is effective in women with bone loss c...   \n",
      "233  Working alliance inventory applied to virtual ...   \n",
      "234  Yohimbine enhancement of exposure therapy for ...   \n",
      "\n",
      "                                              Abstract  \\\n",
      "0    Use of new technologies for psychological trea...   \n",
      "1    Interoceptive exposure (IE) is a standard comp...   \n",
      "2    Anxiety disorders are among the most frequent ...   \n",
      "3    Older adults require more time to reweight sen...   \n",
      "4    Individuals with anorexia nervosa (AN) have a ...   \n",
      "..                                                 ...   \n",
      "230  This study proposes a tool model for phobia tr...   \n",
      "231  The self-discrepancy between one's actual self...   \n",
      "232  The use of exergame for balance competencies w...   \n",
      "233  This study examines the psychometric propertie...   \n",
      "234  Background Preclinical and clinical trials sug...   \n",
      "\n",
      "                                                  Text  Label  \n",
      "0    About the effectiveness of telehealth procedur...    0.0  \n",
      "1    Acceptability of virtual reality interoceptive...    0.0  \n",
      "2    Acute anxiolytic effects of quetiapine during ...    0.0  \n",
      "3    Age-dependent modulation of sensory reweightin...    0.0  \n",
      "4    Allocentric lock in anorexia nervosa: New evid...    0.0  \n",
      "..                                                 ...    ...  \n",
      "230  VirtualPhobia: A Model for Virtual Therapy of ...    0.0  \n",
      "231  Visualizing ideal self vs. actual self through...    0.0  \n",
      "232  Wii Fit is effective in women with bone loss c...    0.0  \n",
      "233  Working alliance inventory applied to virtual ...    0.0  \n",
      "234  Yohimbine enhancement of exposure therapy for ...    0.0  \n",
      "\n",
      "[235 rows x 4 columns]\n"
     ]
    },
    {
     "data": {
      "text/plain": [
       "'About the effectiveness of telehealth procedures in psychological treatments.. Use of new technologies for psychological treatment is currently experiencing considerable growth. From an experimental point of view, the greatest developments have concerned use of virtual reality and online programs. The present study analyzes both types of resources, with a special focus on Internet-based psychological treatment programs. The development of virtual reality has mainly been aimed at treating phobias. This resource has shown similar effectiveness to traditional treatments and even greater clinical efficacy in some cases. Internet-based psychological treatment has had a broader development, although it has been particularly applied to anxiety and depression problems. Systematic reviews and meta-analyses have shown a great heterogeneity of studies; however, some programs have proven to be effective, particularly when compared to a group without treatment and when such programs involve contact with a therapist. These resources have several advantages when compared to traditional methods: they are more accessible, versatile, and affordable. However, a few methodological difficulties must still be overcome to ensure the clinical viability of these technological resources.'"
      ]
     },
     "execution_count": 12,
     "metadata": {},
     "output_type": "execute_result"
    }
   ],
   "source": [
    "# null check & delete\n",
    "print(df.isnull().sum())\n",
    "num_label = df['Label'].sum()  # including된 논문 개수\n",
    "\n",
    "df_nullout = df[['Title', 'Abstract']].dropna().copy() # 파생 dataFrame 메모리 할당\n",
    "df_nullout['Text'] = df_nullout[['Title', 'Abstract']].apply(lambda x: '. '.join(x), axis=1) # Titel + Abstract 합친 열 생성\n",
    "df_nullout['Label'] = df['Label']\n",
    "df_nullout['Label'].fillna(0, inplace=True)\n",
    "df_nullout.reset_index(drop=True, inplace=True) # 행 index 리셋 (Null로 지운 행이 번호 상 빠져있기 때문)\n",
    "print(df_nullout)\n",
    "# print(df_nullout.iloc[215])\n",
    "indices = pd.Series(df_nullout.index, index=df_nullout['Title'])\n",
    "\n",
    "texts = df_nullout.get('Text')\n",
    "texts[0] # doc2vec사용 가능 포멧"
   ]
  },
  {
   "cell_type": "markdown",
   "metadata": {},
   "source": [
    "# Preprocessing"
   ]
  },
  {
   "cell_type": "code",
   "execution_count": 13,
   "metadata": {},
   "outputs": [
    {
     "data": {
      "text/plain": [
       "['About the effectiveness of telehealth procedures in psychological treatments.. Use of new technologies for psychological treatment is currently experiencing considerable growth.',\n",
       " 'From an experimental point of view, the greatest developments have concerned use of virtual reality and online programs.',\n",
       " 'The present study analyzes both types of resources, with a special focus on Internet-based psychological treatment programs.',\n",
       " 'The development of virtual reality has mainly been aimed at treating phobias.',\n",
       " 'This resource has shown similar effectiveness to traditional treatments and even greater clinical efficacy in some cases.',\n",
       " 'Internet-based psychological treatment has had a broader development, although it has been particularly applied to anxiety and depression problems.',\n",
       " 'Systematic reviews and meta-analyses have shown a great heterogeneity of studies; however, some programs have proven to be effective, particularly when compared to a group without treatment and when such programs involve contact with a therapist.',\n",
       " 'These resources have several advantages when compared to traditional methods: they are more accessible, versatile, and affordable.',\n",
       " 'However, a few methodological difficulties must still be overcome to ensure the clinical viability of these technological resources.']"
      ]
     },
     "execution_count": 13,
     "metadata": {},
     "output_type": "execute_result"
    }
   ],
   "source": [
    "paragraphs = []\n",
    "for text in texts.values:\n",
    "    paragraphs.append(sent_tokenize(text))\n",
    "    \n",
    "paragraphs[0]"
   ]
  },
  {
   "cell_type": "code",
   "execution_count": 14,
   "metadata": {},
   "outputs": [],
   "source": [
    "# stop-word custom\n",
    "\n",
    "stop_words = stopwords.words('english')\n",
    "custom_stop_words = [\n",
    "    'doi', 'preprint', 'copyright', 'peer', 'reviewed', 'org', 'https',\n",
    "    'et', 'al', 'figure', 'rights', 'reserved', 'permission', 'used',\n",
    "    'using', 'license', 'fig', 'fig.', 'al.', 'elsevier', 'pmc', 'www'\n",
    "]\n",
    "\n",
    "for w in custom_stop_words:\n",
    "    if w not in stop_words:\n",
    "        stop_words.append(w)"
   ]
  },
  {
   "cell_type": "code",
   "execution_count": 15,
   "metadata": {},
   "outputs": [
    {
     "data": {
      "text/plain": [
       "('effectiveness', 'effectiveness', ['NN'])"
      ]
     },
     "execution_count": 15,
     "metadata": {},
     "output_type": "execute_result"
    }
   ],
   "source": [
    "lemmatization_using_pos_tagger = LemmatizationWithPOSTagger()\n",
    "\n",
    "preprocessed_text = []\n",
    "for i in range(0, len(texts)):\n",
    "    line = []\n",
    "    for string in paragraphs[i]:\n",
    "        normalized_text = re.sub(r\"[^a-z]+\", \" \", string.lower())                 # 텍스트 정규화. 특수문자 제거, 소문자화\n",
    "        if normalized_text == \" \" : continue\n",
    "        tokenized_text = tokenizer.tokenize(normalized_text)                           # 텍스트 토큰화\n",
    "        stopped_text = [token for token in tokenized_text if token not in stop_words]  # 불용어처리\n",
    "        under2_text = [token for token in stopped_text if (len(token)>2 or ('vr' in token))]\n",
    "        line.append(under2_text)\n",
    "    preprocessed_text.append(line)\n",
    "\n",
    "lemmatized_pos_text = []\n",
    "for i in range(0, len(preprocessed_text)):\n",
    "    lemmatized_pos_text.append(lemmatization_using_pos_tagger.pos_tag(preprocessed_text[i]))        # pos_tag 방식으로 표제어추출\n",
    "lemmatized_pos_text[0][0][0]\n",
    "# len(lemmatized_pos_text)"
   ]
  },
  {
   "cell_type": "code",
   "execution_count": 16,
   "metadata": {},
   "outputs": [
    {
     "data": {
      "text/plain": [
       "235"
      ]
     },
     "execution_count": 16,
     "metadata": {},
     "output_type": "execute_result"
    }
   ],
   "source": [
    "token_list = []\n",
    "for i in range(0, len(lemmatized_pos_text)):\n",
    "    line = []\n",
    "    for j in range(0, len(lemmatized_pos_text[i])):\n",
    "        token = []\n",
    "        for k in range(0, len(lemmatized_pos_text[i][j])):\n",
    "            if (len(lemmatized_pos_text[i][j][k][1])>2 or ('vr' in lemmatized_pos_text[i][j][k][1])):\n",
    "#                 print(lemmatized_pos_text[i][j][k][1])\n",
    "                token.append(lemmatized_pos_text[i][j][k][1])\n",
    "        line.append(token)\n",
    "    token_list.append(line)\n",
    "\n",
    "token_list[0]\n",
    "len(token_list)\n",
    "\n",
    "# token_list -> 정규화, 토큰화, 불용어, 표제어추출까지 됨"
   ]
  },
  {
   "cell_type": "code",
   "execution_count": 17,
   "metadata": {},
   "outputs": [
    {
     "data": {
      "text/plain": [
       "235"
      ]
     },
     "execution_count": 17,
     "metadata": {},
     "output_type": "execute_result"
    }
   ],
   "source": [
    "token_forTF = []\n",
    "for i in range(0, len(token_list)):\n",
    "    line = []\n",
    "    for j in range(0, len(token_list[i])):\n",
    "        line.append(\" \".join(token_list[i][j]))\n",
    "    token_forTF.append(\" \".join(line))\n",
    "token_forTF  # list 형식, 한 셀에 패러그래프 그대로 들어가있음\n",
    "\n",
    "token_word = [tokenizer.tokenize(token) for token in token_forTF]  # list 형식, 한 셀에 패러그래프 token화 된 거 들어 있음\n",
    "# token_word\n",
    "# token_forTF\n",
    "len(token_forTF)"
   ]
  },
  {
   "cell_type": "code",
   "execution_count": 18,
   "metadata": {},
   "outputs": [
    {
     "data": {
      "text/plain": [
       "<235x3585 sparse matrix of type '<class 'numpy.float64'>'\n",
       "\twith 19534 stored elements in Compressed Sparse Row format>"
      ]
     },
     "execution_count": 18,
     "metadata": {},
     "output_type": "execute_result"
    }
   ],
   "source": [
    "tfidfVector = TfidfVectorizer(stop_words=None, ngram_range=(1,1)) # ngram_range: (1,1) unigram, (2,2) bigram\n",
    "tfidf_matrix = tfidfVector.fit_transform(token_forTF)\n",
    "tfidf_matrix"
   ]
  },
  {
   "cell_type": "markdown",
   "metadata": {},
   "source": [
    "## Parser -> scispacy 기반"
   ]
  },
  {
   "cell_type": "code",
   "execution_count": 19,
   "metadata": {},
   "outputs": [],
   "source": [
    "import string\n",
    "\n",
    "punctuations = string.punctuation"
   ]
  },
  {
   "cell_type": "code",
   "execution_count": 20,
   "metadata": {},
   "outputs": [],
   "source": [
    "from tqdm import tqdm\n",
    "import scispacy\n",
    "import spacy\n",
    "import en_core_sci_lg\n",
    "\n",
    "parser = en_core_sci_lg.load(disable=[\"tagger\", \"ner\"])\n",
    "parser.max_length = 700000\n",
    "\n",
    "def spacy_tokenizer(sentence):\n",
    "    mytokens = parser(sentence)\n",
    "    mytokens = [ word.lemma_.lower().strip() if word.lemma_ != \"-PRON-\" else word.lower_ for word in mytokens ]\n",
    "    mytokens = [ word for word in mytokens if word not in stop_words and word not in punctuations ]\n",
    "    mytokens = \" \".join([i for i in mytokens])\n",
    "    return mytokens"
   ]
  },
  {
   "cell_type": "code",
   "execution_count": 21,
   "metadata": {},
   "outputs": [
    {
     "name": "stderr",
     "output_type": "stream",
     "text": [
      "C:\\Users\\Euisung\\anaconda3\\lib\\site-packages\\tqdm\\std.py:658: FutureWarning: The Panel class is removed from pandas. Accessing it from the top-level namespace will also be removed in the next version\n",
      "  from pandas import Panel\n",
      "100%|██████████| 235/235 [00:04<00:00, 47.17it/s]\n"
     ]
    }
   ],
   "source": [
    "tqdm.pandas()\n",
    "df_nullout['Preprocessed_text'] = df_nullout['Text'].progress_apply(spacy_tokenizer)"
   ]
  },
  {
   "cell_type": "code",
   "execution_count": 22,
   "metadata": {},
   "outputs": [
    {
     "data": {
      "text/plain": [
       "count    235.000000\n",
       "mean     209.157447\n",
       "std       81.317915\n",
       "min       45.000000\n",
       "25%      161.000000\n",
       "50%      207.000000\n",
       "75%      248.500000\n",
       "max      805.000000\n",
       "Name: abstract_word_count, dtype: float64"
      ]
     },
     "execution_count": 22,
     "metadata": {},
     "output_type": "execute_result"
    },
    {
     "data": {
      "image/png": "[encoded data removed]",
      "text/plain": [
       "<Figure size 432x288 with 1 Axes>"
      ]
     },
     "metadata": {
      "needs_background": "light"
     },
     "output_type": "display_data"
    }
   ],
   "source": [
    "import seaborn as sns\n",
    "\n",
    "df_nullout['abstract_word_count'] = df_nullout['Text'].apply(lambda x: len(x.strip().split()))\n",
    "\n",
    "sns.distplot(df_nullout['abstract_word_count'])\n",
    "df_nullout['abstract_word_count'].describe()"
   ]
  },
  {
   "cell_type": "code",
   "execution_count": 23,
   "metadata": {},
   "outputs": [],
   "source": [
    "def vectorize(text, maxx_features):\n",
    "    \n",
    "    vectorizer = TfidfVectorizer(max_features=maxx_features)\n",
    "    X = vectorizer.fit_transform(text)\n",
    "    \n",
    "    global vocabs\n",
    "    vocabs = [vocab for vocab, idx in sorted(vectorizer.vocabulary_.items(), key=lambda x:x[1])]\n",
    "    return X"
   ]
  },
  {
   "cell_type": "code",
   "execution_count": 24,
   "metadata": {},
   "outputs": [
    {
     "data": {
      "text/plain": [
       "<235x300 sparse matrix of type '<class 'numpy.float64'>'\n",
       "\twith 10452 stored elements in Compressed Sparse Row format>"
      ]
     },
     "execution_count": 24,
     "metadata": {},
     "output_type": "execute_result"
    }
   ],
   "source": [
    "scispacy_text = df_nullout['Preprocessed_text'].values\n",
    "X_t = vectorize(scispacy_text, 300)\n",
    "X_t"
   ]
  },
  {
   "cell_type": "code",
   "execution_count": 25,
   "metadata": {},
   "outputs": [],
   "source": [
    "from sklearn.decomposition import PCA\n",
    "from sklearn.preprocessing import StandardScaler\n",
    "from scipy.sparse import csr_matrix\n",
    "\n",
    "pca = PCA(n_components=0.95, random_state=42)\n",
    "X_reduced= pca.fit_transform(X_t.toarray())\n",
    "X_reduced.shape # array type\n",
    "\n",
    "X_csr = csr_matrix(X_reduced) # sparse matrix type\n",
    "\n",
    "# scaler = StandardScaler()\n",
    "# scaler.fit_transform(X_reduced)"
   ]
  },
  {
   "cell_type": "code",
   "execution_count": 121,
   "metadata": {},
   "outputs": [
    {
     "name": "stdout",
     "output_type": "stream",
     "text": [
      "initialization_time=0.011966 sec, sparsity=0.126\n",
      "n_iter=1, changed=199, inertia=165.508, iter_time=0.013 sec, sparsity=0.237\n",
      "n_iter=2, changed=25, inertia=131.297, iter_time=0.011 sec, sparsity=0.232\n",
      "n_iter=3, changed=12, inertia=128.973, iter_time=0.013 sec, sparsity=0.223\n",
      "n_iter=4, changed=11, inertia=127.777, iter_time=0.013 sec, sparsity=0.217\n",
      "n_iter=5, changed=5, inertia=127.020, iter_time=0.011 sec, sparsity=0.214\n",
      "n_iter=6, changed=1, inertia=126.740, iter_time=0.011 sec, sparsity=0.213\n",
      "Early converged.\n"
     ]
    }
   ],
   "source": [
    "from soyclustering import SphericalKMeans\n",
    "\n",
    "spherical_kmeans = SphericalKMeans(\n",
    "    n_clusters = 10,\n",
    "    max_iter=10,\n",
    "    verbose=1,\n",
    "    init='similar_cut',\n",
    "    sparsity = 'minimum_df',\n",
    "    minimum_df_factor=0.05,\n",
    "    random_state=21)\n",
    "\n",
    "_1st_k = spherical_kmeans.n_clusters  # 1st step의 k값 저장\n",
    "labels = spherical_kmeans.fit_predict(X_t)"
   ]
  },
  {
   "cell_type": "code",
   "execution_count": 122,
   "metadata": {},
   "outputs": [
    {
     "name": "stdout",
     "output_type": "stream",
     "text": [
      "총 문서 수 : 235\n",
      "예측값 분포\n",
      "1    50\n",
      "2    49\n",
      "0    37\n",
      "7    28\n",
      "8    17\n",
      "5    17\n",
      "3    12\n",
      "4    11\n",
      "9     7\n",
      "6     7\n",
      "Name: y, dtype: int64\n",
      "Label=1, 예측값 분포\n",
      "1    11\n",
      "Name: y, dtype: int64\n"
     ]
    }
   ],
   "source": [
    "df_nullout['y'] = labels\n",
    "# print(len(df_nullout[df_nullout['y'].isin(['1'])]))\n",
    "is_Label = df_nullout[df_nullout['Label'].isin(['1'])]\n",
    "sub_df = pd.DataFrame(is_Label)\n",
    "\n",
    "print('총 문서 수 : %d' % len(df_nullout))\n",
    "print('예측값 분포')\n",
    "print(df_nullout['y'].value_counts())\n",
    "print('Label=1, 예측값 분포')\n",
    "print(sub_df['y'].value_counts())\n",
    "# df_nullout[df_nullout['Label'].isin(['1'])]\n",
    "# print(df_nullout[df_nullout['y'].isin(['2'])])"
   ]
  },
  {
   "cell_type": "code",
   "execution_count": 123,
   "metadata": {},
   "outputs": [],
   "source": [
    "from soyclustering import proportion_keywords\n",
    "\n",
    "centers = spherical_kmeans.cluster_centers_\n",
    "labels = spherical_kmeans.labels_\n",
    "\n",
    "keywords = proportion_keywords(\n",
    "    centers,\n",
    "    labels, \n",
    "    index2word=vocabs, stopwords = stop_words)"
   ]
  },
  {
   "cell_type": "code",
   "execution_count": 124,
   "metadata": {},
   "outputs": [
    {
     "name": "stdout",
     "output_type": "stream",
     "text": [
      "cluster#1 : challenge value people activity implementation test donation computer expectancy protocol cortex randomize six experience psychophysiological reaction control expose visual combine eight treatment treat music addition psychological frequency avatar good particularly follow non analysis situation response potential dialogue train significant end measure post life psychotic great component result little technology report four scenario common reduce conclusion blood therapeutic symptom several exposure interaction aim traditional paper primary tension participants long problem conversation time ie consider yohimbine decrease fly relevant session vr week patient although cbt overall improve home need level effective complete high efficacy spider\n",
      "\n",
      "cluster#2 : heart alternative current base maintain prior integrate intervention objective cognitive effect prefrontal criterium due results global activation new 20 stimulus vrcbt therapy free posttreatment panic vivo randomly investigate article year patients therapist conclusions agoraphobia quality difference two evidence week time problem avoidance individual involve procedure effectiveness symptom pre approach compare four little model speak performance virtual life noradrenaline use skill blind background significant diagnosis tcbt suggest aim subject reactivation assign dialogue experimental system acute baseline much evaluate state versus decrease blood examine 16 need complete technique home relevant therapeutic yohimbine trial anxiety however participant several long speech traditional high questionnaire overall sample improve technology tension patient regard effective\n",
      "\n",
      "cluster#6 : methods finding vret different behavioral furthermore guideline learn reported estimation noradrenaline involve system therapist patients anxiety participant aim end regard skin combine visual three spider evidence questionnaire tension\n",
      "\n",
      "cluster#8 : environment scale specific one lack allow present estimation cbt support 15 assign rate social diagnosis blind approach 2015 improvement clinical common include indicate anxiety relative therapeutic quality agoraphobia much healthy however eight controlled session 16 pre participant report trial system use technology situation suggest year datum questionnaire component consider experimental three participants efficacy regard evidence spider\n",
      "\n"
     ]
    },
    {
     "data": {
      "text/plain": [
       "[1, 2, 6, 8]"
      ]
     },
     "execution_count": 124,
     "metadata": {},
     "output_type": "execute_result"
    }
   ],
   "source": [
    "cluster_indices = []\n",
    "for cluster_idx, keyword in enumerate(keywords):\n",
    "    keyword = ' '.join([w for w,_ in keyword])\n",
    "    if 'therap' in keyword:\n",
    "        print('cluster#{} : {}\\n'.format(cluster_idx, keyword))\n",
    "        cluster_indices.append(cluster_idx)\n",
    "#     print('cluster#{} : {}\\n'.format(cluster_idx, keyword))\n",
    "cluster_indices"
   ]
  },
  {
   "cell_type": "code",
   "execution_count": 125,
   "metadata": {},
   "outputs": [
    {
     "data": {
      "image/png": "[encoded data removed]",
      "text/plain": [
       "<Figure size 750x750 with 1 Axes>"
      ]
     },
     "metadata": {
      "needs_background": "light"
     },
     "output_type": "display_data"
    }
   ],
   "source": [
    "from soyclustering import visualize_pairwise_distance\n",
    "\n",
    "# visualize pairwise distance matrix\n",
    "fig = visualize_pairwise_distance(centers, max_dist=.5, sort=True)"
   ]
  },
  {
   "cell_type": "code",
   "execution_count": 126,
   "metadata": {},
   "outputs": [
    {
     "data": {
      "image/png": "[encoded data removed]",
      "text/plain": [
       "<Figure size 750x750 with 1 Axes>"
      ]
     },
     "metadata": {
      "needs_background": "light"
     },
     "output_type": "display_data"
    }
   ],
   "source": [
    "from soyclustering import merge_close_clusters\n",
    "\n",
    "group_centers, groups = merge_close_clusters(centers, labels, max_dist=.5)\n",
    "fig = visualize_pairwise_distance(group_centers, max_dist=.7, sort=True)"
   ]
  },
  {
   "cell_type": "code",
   "execution_count": 127,
   "metadata": {},
   "outputs": [
    {
     "name": "stdout",
     "output_type": "stream",
     "text": [
      "[1, 0]\n",
      "[2]\n",
      "[7]\n",
      "[5]\n",
      "[8]\n",
      "[3]\n",
      "[4]\n",
      "[6]\n",
      "[9]\n"
     ]
    }
   ],
   "source": [
    "for group in groups:\n",
    "    print(group)"
   ]
  },
  {
   "cell_type": "markdown",
   "metadata": {},
   "source": [
    "## 2nd step-wise clustering"
   ]
  },
  {
   "cell_type": "code",
   "execution_count": 128,
   "metadata": {},
   "outputs": [
    {
     "data": {
      "text/plain": [
       "(87, 7)"
      ]
     },
     "execution_count": 128,
     "metadata": {},
     "output_type": "execute_result"
    }
   ],
   "source": [
    "cluster_list = {1,0}\n",
    "is_stepwise = df_nullout['y'].isin(cluster_list)\n",
    "is_stepwise\n",
    "df_second_step = df_nullout[is_stepwise].reset_index().drop('index', axis=1)\n",
    "df_second_step.shape"
   ]
  },
  {
   "cell_type": "code",
   "execution_count": 129,
   "metadata": {},
   "outputs": [
    {
     "data": {
      "text/plain": [
       "(87, 300)"
      ]
     },
     "execution_count": 129,
     "metadata": {},
     "output_type": "execute_result"
    }
   ],
   "source": [
    "scispacy_text_2 = df_second_step['Preprocessed_text'].values\n",
    "X_t2 = vectorize(scispacy_text_2, 300)\n",
    "X_t2.shape"
   ]
  },
  {
   "cell_type": "code",
   "execution_count": 130,
   "metadata": {},
   "outputs": [
    {
     "data": {
      "text/plain": [
       "(87, 68)"
      ]
     },
     "execution_count": 130,
     "metadata": {},
     "output_type": "execute_result"
    }
   ],
   "source": [
    "from sklearn.decomposition import PCA\n",
    "from sklearn.preprocessing import StandardScaler\n",
    "\n",
    "pca = PCA(n_components=0.95, random_state=42)\n",
    "X_reduced2= pca.fit_transform(X_t2.toarray())\n",
    "X_reduced2.shape\n",
    "\n",
    "# scaler = StandardScaler()\n",
    "# scaler.fit_transform(X_reduced)"
   ]
  },
  {
   "cell_type": "code",
   "execution_count": 168,
   "metadata": {},
   "outputs": [
    {
     "name": "stdout",
     "output_type": "stream",
     "text": [
      "initialization_time=0.007982 sec, sparsity=0.17\n",
      "n_iter=1, changed=66, inertia=59.480, iter_time=0.008 sec, sparsity=0.15\n",
      "n_iter=2, changed=8, inertia=46.660, iter_time=0.006 sec, sparsity=0.141\n",
      "n_iter=3, changed=4, inertia=46.016, iter_time=0.006 sec, sparsity=0.142\n",
      "n_iter=4, changed=1, inertia=45.443, iter_time=0.007 sec, sparsity=0.144\n",
      "Early converged.\n"
     ]
    }
   ],
   "source": [
    "\n",
    "spherical_kmeans = SphericalKMeans(\n",
    "    n_clusters = 7,\n",
    "    max_iter=10,\n",
    "    verbose=1,\n",
    "    init='similar_cut',\n",
    "    sparsity = 'minimum_df',\n",
    "    minimum_df_factor=0.05,\n",
    "    random_state=21)\n",
    "\n",
    "labels = spherical_kmeans.fit_predict(X_t2)"
   ]
  },
  {
   "cell_type": "code",
   "execution_count": 169,
   "metadata": {},
   "outputs": [
    {
     "name": "stdout",
     "output_type": "stream",
     "text": [
      "총 문서 수 : 87\n",
      "예측값 분포\n",
      "3    21\n",
      "0    21\n",
      "2    18\n",
      "4    10\n",
      "1     9\n",
      "6     4\n",
      "5     4\n",
      "Name: y, dtype: int64\n",
      "Label=1, 예측값 분포\n",
      "2    6\n",
      "3    5\n",
      "Name: y, dtype: int64\n"
     ]
    }
   ],
   "source": [
    "df_second_step['y'] = labels\n",
    "# print(len(df_nullout[df_nullout['y'].isin(['1'])]))\n",
    "is_Label = df_second_step[df_second_step['Label'].isin(['1'])]\n",
    "sub_df = pd.DataFrame(is_Label)\n",
    "\n",
    "print('총 문서 수 : %d' % len(df_second_step))\n",
    "print('예측값 분포')\n",
    "print(df_second_step['y'].value_counts())\n",
    "print('Label=1, 예측값 분포')\n",
    "print(sub_df['y'].value_counts())\n",
    "# df_second_step[df_second_step['Label'].isin(['1'])]\n",
    "# print(df_nullout[df_nullout['y'].isin(['2'])])"
   ]
  },
  {
   "cell_type": "code",
   "execution_count": 170,
   "metadata": {},
   "outputs": [
    {
     "name": "stdout",
     "output_type": "stream",
     "text": [
      "cluster#0 : technology improvement design rating individual cbt low system randomize panic social furthermore two iv four participant future self follow strategy therapist aim guideline prior moderate hf therapy cycloserine integrate evaluation difference patient either parent end systematic dropout noradrenaline receive socially conversation background vre report six analysis little sample diagnose vivo vret visual indicate subjective relate train participants stimulus vrcbt outcome\n",
      "\n"
     ]
    },
    {
     "data": {
      "text/plain": [
       "[0]"
      ]
     },
     "execution_count": 170,
     "metadata": {},
     "output_type": "execute_result"
    }
   ],
   "source": [
    "#2nd\n",
    "\n",
    "centers = spherical_kmeans.cluster_centers_\n",
    "labels = spherical_kmeans.labels_\n",
    "\n",
    "keywords = proportion_keywords(\n",
    "    centers,\n",
    "    labels, \n",
    "    index2word=vocabs, stopwords = stop_words)\n",
    "\n",
    "cluster_indices = []\n",
    "for cluster_idx, keyword in enumerate(keywords):\n",
    "    keyword = ' '.join([w for w,_ in keyword])\n",
    "    if 'therap' in keyword:\n",
    "        print('cluster#{} : {}\\n'.format(cluster_idx, keyword))\n",
    "        cluster_indices.append(cluster_idx)\n",
    "#     print('cluster#{} : {}\\n'.format(cluster_idx, keyword))\n",
    "cluster_indices"
   ]
  },
  {
   "cell_type": "code",
   "execution_count": 171,
   "metadata": {},
   "outputs": [
    {
     "data": {
      "image/png": "[encoded data removed]",
      "text/plain": [
       "<Figure size 750x750 with 1 Axes>"
      ]
     },
     "metadata": {
      "needs_background": "light"
     },
     "output_type": "display_data"
    }
   ],
   "source": [
    "from soyclustering import visualize_pairwise_distance\n",
    "\n",
    "# visualize pairwise distance matrix\n",
    "fig = visualize_pairwise_distance(centers, max_dist=.7, sort=True)"
   ]
  },
  {
   "cell_type": "code",
   "execution_count": 174,
   "metadata": {},
   "outputs": [
    {
     "data": {
      "image/png": "[encoded data removed]",
      "text/plain": [
       "<Figure size 750x750 with 1 Axes>"
      ]
     },
     "metadata": {
      "needs_background": "light"
     },
     "output_type": "display_data"
    }
   ],
   "source": [
    "from soyclustering import merge_close_clusters\n",
    "\n",
    "group_centers, groups = merge_close_clusters(centers, labels, max_dist=.5)\n",
    "fig = visualize_pairwise_distance(group_centers, max_dist=.7, sort=True)"
   ]
  },
  {
   "cell_type": "code",
   "execution_count": 175,
   "metadata": {},
   "outputs": [
    {
     "name": "stdout",
     "output_type": "stream",
     "text": [
      "[0, 3, 2]\n",
      "[4]\n",
      "[1]\n",
      "[5]\n",
      "[6]\n"
     ]
    }
   ],
   "source": [
    "for group in groups:\n",
    "    print(group)"
   ]
  },
  {
   "cell_type": "markdown",
   "metadata": {},
   "source": [
    "## 3rd step-wise clustering"
   ]
  },
  {
   "cell_type": "code",
   "execution_count": 176,
   "metadata": {},
   "outputs": [
    {
     "data": {
      "text/plain": [
       "(60, 7)"
      ]
     },
     "execution_count": 176,
     "metadata": {},
     "output_type": "execute_result"
    }
   ],
   "source": [
    "cluster_list = {0,2,3}\n",
    "is_stepwise = df_second_step['y'].isin(cluster_list)\n",
    "is_stepwise\n",
    "df_third_step = df_second_step[is_stepwise].reset_index().drop('index', axis=1)\n",
    "df_third_step.shape"
   ]
  },
  {
   "cell_type": "code",
   "execution_count": 177,
   "metadata": {},
   "outputs": [
    {
     "data": {
      "text/plain": [
       "(60, 300)"
      ]
     },
     "execution_count": 177,
     "metadata": {},
     "output_type": "execute_result"
    }
   ],
   "source": [
    "scispacy_text_3 = df_third_step['Preprocessed_text'].values\n",
    "X_t3 = vectorize(scispacy_text_3, 300)\n",
    "X_t3.shape"
   ]
  },
  {
   "cell_type": "code",
   "execution_count": 178,
   "metadata": {},
   "outputs": [
    {
     "data": {
      "text/plain": [
       "(60, 49)"
      ]
     },
     "execution_count": 178,
     "metadata": {},
     "output_type": "execute_result"
    }
   ],
   "source": [
    "from sklearn.decomposition import PCA\n",
    "from sklearn.preprocessing import StandardScaler\n",
    "\n",
    "pca = PCA(n_components=0.95, random_state=42)\n",
    "X_reduced3= pca.fit_transform(X_t3.toarray())\n",
    "X_reduced3.shape\n",
    "\n",
    "# scaler = StandardScaler()\n",
    "# scaler.fit_transform(X_reduced)"
   ]
  },
  {
   "cell_type": "code",
   "execution_count": 185,
   "metadata": {},
   "outputs": [
    {
     "name": "stdout",
     "output_type": "stream",
     "text": [
      "initialization_time=0.004987 sec, sparsity=0.193\n",
      "n_iter=1, changed=47, inertia=39.487, iter_time=0.007 sec, sparsity=0.149\n",
      "n_iter=2, changed=0, inertia=32.420, iter_time=0.007 sec, sparsity=0.149\n",
      "Early converged.\n"
     ]
    }
   ],
   "source": [
    "\n",
    "spherical_kmeans = SphericalKMeans(\n",
    "    n_clusters = 5,\n",
    "    max_iter=10,\n",
    "    verbose=1,\n",
    "    init='similar_cut',\n",
    "    sparsity = 'minimum_df',\n",
    "    minimum_df_factor=0.05,\n",
    "    random_state=23)\n",
    "\n",
    "labels = spherical_kmeans.fit_predict(X_t3)"
   ]
  },
  {
   "cell_type": "code",
   "execution_count": 186,
   "metadata": {},
   "outputs": [
    {
     "name": "stdout",
     "output_type": "stream",
     "text": [
      "총 문서 수 : 60\n",
      "예측값 분포\n",
      "1    34\n",
      "0    13\n",
      "4     5\n",
      "2     5\n",
      "3     3\n",
      "Name: y, dtype: int64\n",
      "Label=1, 예측값 분포\n",
      "1    5\n",
      "0    4\n",
      "4    2\n",
      "Name: y, dtype: int64\n"
     ]
    }
   ],
   "source": [
    "df_third_step['y'] = labels\n",
    "# print(len(df_nullout[df_nullout['y'].isin(['1'])]))\n",
    "is_Label = df_third_step[df_third_step['Label'].isin(['1'])]\n",
    "sub_df = pd.DataFrame(is_Label)\n",
    "\n",
    "print('총 문서 수 : %d' % len(df_third_step))\n",
    "print('예측값 분포')\n",
    "print(df_third_step['y'].value_counts())\n",
    "print('Label=1, 예측값 분포')\n",
    "print(sub_df['y'].value_counts())\n",
    "# df_third_step[df_third_step['Label'].isin(['1'])]\n",
    "# print(df_nullout[df_nullout['y'].isin(['2'])])"
   ]
  },
  {
   "cell_type": "code",
   "execution_count": 187,
   "metadata": {},
   "outputs": [
    {
     "name": "stdout",
     "output_type": "stream",
     "text": [
      "cluster#0 : combine preference psychotic fly three also home computer desensitization reactivation regard stimulus prior sample phobic agoraphobia improvement quality symptom condition vret high flight post behavioral cognitive two group much rate level therapist design show based use participant month study follow system treatment patient effect session therapy fear exposure\n",
      "\n",
      "cluster#1 : social phobia control dialogue research trial measure clinical may effective placebo specific evidence paper technique evaluation one efficacy results improve interaction alliance life work spider result situation people year little report negative yohimbine psychophysiological participants support mindfulness 2012 self however compare conduct vre include sad difference feedback cortisol significant time acute individual intervention experience treat literature old datum yoh pre vrcbt approach speech socially although low heart potential program list process scale real significantly patients investigate identify skill vivo anxiety disorder randomize fear session exposure outcome system follow\n",
      "\n",
      "cluster#2 : performance music expectancy prefrontal train public predictor exploratory quality itbs outcome behavioral effect anxiety cognitive group virtual reality treatment\n",
      "\n",
      "cluster#3 : pharmacological blood child tension donation non diagnosis baseline period dental treatment\n",
      "\n",
      "cluster#4 : panic ie therapeutic article agoraphobia cbt randomize vret disorder vr vivo effect patient reality group virtual treatment therapy exposure\n",
      "\n"
     ]
    },
    {
     "data": {
      "text/plain": [
       "[0, 4]"
      ]
     },
     "execution_count": 187,
     "metadata": {},
     "output_type": "execute_result"
    }
   ],
   "source": [
    "#3rd\n",
    "\n",
    "centers = spherical_kmeans.cluster_centers_\n",
    "labels = spherical_kmeans.labels_\n",
    "\n",
    "keywords = proportion_keywords(\n",
    "    centers,\n",
    "    labels, \n",
    "    index2word=vocabs, stopwords = stop_words)\n",
    "\n",
    "cluster_indices = []\n",
    "for cluster_idx, keyword in enumerate(keywords):\n",
    "    keyword = ' '.join([w for w,_ in keyword])\n",
    "    if 'therap' in keyword:\n",
    "#         print('cluster#{} : {}\\n'.format(cluster_idx, keyword))\n",
    "        cluster_indices.append(cluster_idx)\n",
    "    print('cluster#{} : {}\\n'.format(cluster_idx, keyword))\n",
    "cluster_indices"
   ]
  },
  {
   "cell_type": "code",
   "execution_count": 188,
   "metadata": {},
   "outputs": [
    {
     "data": {
      "image/png": "[encoded data removed]",
      "text/plain": [
       "<Figure size 750x750 with 1 Axes>"
      ]
     },
     "metadata": {
      "needs_background": "light"
     },
     "output_type": "display_data"
    }
   ],
   "source": [
    "from soyclustering import visualize_pairwise_distance\n",
    "\n",
    "# visualize pairwise distance matrix\n",
    "fig = visualize_pairwise_distance(centers, max_dist=.7, sort=True)"
   ]
  },
  {
   "cell_type": "code",
   "execution_count": 192,
   "metadata": {},
   "outputs": [
    {
     "data": {
      "image/png": "[encoded data removed]",
      "text/plain": [
       "<Figure size 750x750 with 1 Axes>"
      ]
     },
     "metadata": {
      "needs_background": "light"
     },
     "output_type": "display_data"
    }
   ],
   "source": [
    "from soyclustering import merge_close_clusters\n",
    "\n",
    "group_centers, groups = merge_close_clusters(centers, labels, max_dist=.6)\n",
    "fig = visualize_pairwise_distance(group_centers, max_dist=.7, sort=True)"
   ]
  },
  {
   "cell_type": "code",
   "execution_count": 193,
   "metadata": {},
   "outputs": [
    {
     "name": "stdout",
     "output_type": "stream",
     "text": [
      "[1, 0, 4]\n",
      "[2]\n",
      "[3]\n"
     ]
    }
   ],
   "source": [
    "for group in groups:\n",
    "    print(group)"
   ]
  },
  {
   "cell_type": "markdown",
   "metadata": {},
   "source": [
    "## 4th step-wise clustering"
   ]
  },
  {
   "cell_type": "code",
   "execution_count": 381,
   "metadata": {},
   "outputs": [
    {
     "data": {
      "text/plain": [
       "(61, 7)"
      ]
     },
     "execution_count": 381,
     "metadata": {},
     "output_type": "execute_result"
    }
   ],
   "source": [
    "cluster_list = {2,3,6,0,1}\n",
    "is_stepwise = df_third_step['y'].isin(cluster_list)\n",
    "is_stepwise\n",
    "df_fourth_step = df_third_step[is_stepwise].reset_index().drop('index', axis=1)\n",
    "df_fourth_step.shape"
   ]
  },
  {
   "cell_type": "code",
   "execution_count": 382,
   "metadata": {},
   "outputs": [
    {
     "data": {
      "text/plain": [
       "(61, 300)"
      ]
     },
     "execution_count": 382,
     "metadata": {},
     "output_type": "execute_result"
    }
   ],
   "source": [
    "scispacy_text_4 = df_fourth_step['Preprocessed_text'].values\n",
    "X_t4 = vectorize(scispacy_text_4, 300)\n",
    "X_t4.shape"
   ]
  },
  {
   "cell_type": "code",
   "execution_count": 383,
   "metadata": {},
   "outputs": [
    {
     "data": {
      "text/plain": [
       "(61, 50)"
      ]
     },
     "execution_count": 383,
     "metadata": {},
     "output_type": "execute_result"
    }
   ],
   "source": [
    "from sklearn.decomposition import PCA\n",
    "from sklearn.preprocessing import StandardScaler\n",
    "\n",
    "pca = PCA(n_components=0.95, random_state=42)\n",
    "X_reduced4= pca.fit_transform(X_t4.toarray())\n",
    "X_reduced4.shape\n",
    "\n",
    "# scaler = StandardScaler()\n",
    "# scaler.fit_transform(X_reduced)"
   ]
  },
  {
   "cell_type": "code",
   "execution_count": 384,
   "metadata": {},
   "outputs": [
    {
     "name": "stdout",
     "output_type": "stream",
     "text": [
      "initialization_time=0.004988 sec, sparsity=0.154\n",
      "n_iter=1, changed=58, inertia=40.853, iter_time=0.004 sec, sparsity=0.169\n",
      "n_iter=2, changed=2, inertia=32.065, iter_time=0.004 sec, sparsity=0.171\n",
      "n_iter=3, changed=0, inertia=31.848, iter_time=0.004 sec, sparsity=0.171\n",
      "Early converged.\n"
     ]
    }
   ],
   "source": [
    "\n",
    "spherical_kmeans = SphericalKMeans(\n",
    "    n_clusters = 5,\n",
    "    max_iter=10,\n",
    "    verbose=1,\n",
    "    init='similar_cut',\n",
    "    sparsity = 'minimum_df',\n",
    "    minimum_df_factor=0.05,\n",
    "    random_state=21)\n",
    "\n",
    "labels = spherical_kmeans.fit_predict(X_t4)"
   ]
  },
  {
   "cell_type": "code",
   "execution_count": 385,
   "metadata": {},
   "outputs": [
    {
     "name": "stdout",
     "output_type": "stream",
     "text": [
      "총 문서 수 : 61\n",
      "예측값 분포\n",
      "1    27\n",
      "2    25\n",
      "4     5\n",
      "0     3\n",
      "3     1\n",
      "Name: y, dtype: int64\n",
      "Label=1, 예측값 분포\n",
      "2    9\n",
      "4    2\n",
      "Name: y, dtype: int64\n"
     ]
    }
   ],
   "source": [
    "df_fourth_step['y'] = labels\n",
    "# print(len(df_nullout[df_nullout['y'].isin(['1'])]))\n",
    "is_Label = df_fourth_step[df_fourth_step['Label'].isin(['1'])]\n",
    "sub_df = pd.DataFrame(is_Label)\n",
    "\n",
    "print('총 문서 수 : %d' % len(df_fourth_step))\n",
    "print('예측값 분포')\n",
    "print(df_fourth_step['y'].value_counts())\n",
    "print('Label=1, 예측값 분포')\n",
    "print(sub_df['y'].value_counts())\n",
    "# df_fourth_step[df_fourth_step['Label'].isin(['1'])]\n",
    "# print(df_nullout[df_nullout['y'].isin(['2'])])"
   ]
  },
  {
   "cell_type": "code",
   "execution_count": 386,
   "metadata": {},
   "outputs": [
    {
     "name": "stdout",
     "output_type": "stream",
     "text": [
      "cluster#0 : ar wai framework var exposition user previous application work system environment use vr\n",
      "\n",
      "cluster#1 : itbs much approach psychological create different treat software tool technique scenario psychophysiological also paper emotional little response 2016 present design method make problem traumatic natural addition involve cost self computer therapeutic investigate form allow situation provide support life useful case since effectiveness behavioural tsst new model enhance need successfully expose experience real stress world help technology may reaction various people traditional environment vr panic include work use disorder spider virtual patient one research reality phobia two effective efficacy anxiety\n",
      "\n",
      "cluster#2 : social vret follow vivo trial outcome dialogue randomize three month report quality term behavior difference sleep scale results change speech condition context based vrcbt yohimbine list test post expectancy low significantly time end assign avatar finding public compare describe improve 12 process agoraphobia individual however specific result system measure session show cbt group improvement flight effect behavioral significant control interaction participant therapist cognitive exposure clinical fear anxiety efficacy effective study two treatment\n",
      "\n",
      "cluster#3 : drive among issue elicit future limitation recent far ability assess discuss relate year examine reserve right application include result panic traditional people various reaction specific may technology however clinical individual agoraphobia help world stress real experience research behavioral disorder use vr phobia\n",
      "\n",
      "cluster#4 : combine prior frequency desensitization live great flight behavioral improvement group show measure cognitive fear treatment study therapy exposure virtual\n",
      "\n"
     ]
    },
    {
     "data": {
      "text/plain": [
       "[1, 2, 4]"
      ]
     },
     "execution_count": 386,
     "metadata": {},
     "output_type": "execute_result"
    }
   ],
   "source": [
    "#4th\n",
    "\n",
    "centers = spherical_kmeans.cluster_centers_\n",
    "labels = spherical_kmeans.labels_\n",
    "\n",
    "keywords = proportion_keywords(\n",
    "    centers,\n",
    "    labels, \n",
    "    index2word=vocabs, stopwords = stop_words)\n",
    "\n",
    "cluster_indices = []\n",
    "for cluster_idx, keyword in enumerate(keywords):\n",
    "    keyword = ' '.join([w for w,_ in keyword])\n",
    "    if 'therap' in keyword:\n",
    "#         print('cluster#{} : {}\\n'.format(cluster_idx, keyword))\n",
    "        cluster_indices.append(cluster_idx)\n",
    "    print('cluster#{} : {}\\n'.format(cluster_idx, keyword))\n",
    "cluster_indices"
   ]
  },
  {
   "cell_type": "code",
   "execution_count": 387,
   "metadata": {},
   "outputs": [
    {
     "data": {
      "image/png": "[encoded data removed]",
      "text/plain": [
       "<Figure size 750x750 with 1 Axes>"
      ]
     },
     "metadata": {
      "needs_background": "light"
     },
     "output_type": "display_data"
    }
   ],
   "source": [
    "from soyclustering import visualize_pairwise_distance\n",
    "\n",
    "# visualize pairwise distance matrix\n",
    "fig = visualize_pairwise_distance(centers, max_dist=.7, sort=True)"
   ]
  },
  {
   "cell_type": "code",
   "execution_count": 392,
   "metadata": {},
   "outputs": [
    {
     "data": {
      "image/png": "[encoded data removed]",
      "text/plain": [
       "<Figure size 750x750 with 1 Axes>"
      ]
     },
     "metadata": {
      "needs_background": "light"
     },
     "output_type": "display_data"
    }
   ],
   "source": [
    "from soyclustering import merge_close_clusters\n",
    "\n",
    "group_centers, groups = merge_close_clusters(centers, labels, max_dist=.7)\n",
    "fig = visualize_pairwise_distance(group_centers, max_dist=.7, sort=True)"
   ]
  },
  {
   "cell_type": "code",
   "execution_count": 393,
   "metadata": {},
   "outputs": [
    {
     "name": "stdout",
     "output_type": "stream",
     "text": [
      "[1, 2, 4]\n",
      "[0]\n",
      "[3]\n"
     ]
    }
   ],
   "source": [
    "for group in groups:\n",
    "    print(group)"
   ]
  },
  {
   "cell_type": "markdown",
   "metadata": {},
   "source": [
    "## 5th step-wise clustering"
   ]
  },
  {
   "cell_type": "code",
   "execution_count": 394,
   "metadata": {},
   "outputs": [
    {
     "data": {
      "text/plain": [
       "(57, 7)"
      ]
     },
     "execution_count": 394,
     "metadata": {},
     "output_type": "execute_result"
    }
   ],
   "source": [
    "cluster_list = {1,2,4}\n",
    "is_stepwise = df_fourth_step['y'].isin(cluster_list)\n",
    "is_stepwise\n",
    "df_fifth_step = df_fourth_step[is_stepwise].reset_index().drop('index', axis=1)\n",
    "df_fifth_step.shape"
   ]
  },
  {
   "cell_type": "code",
   "execution_count": 395,
   "metadata": {},
   "outputs": [
    {
     "data": {
      "text/plain": [
       "(57, 300)"
      ]
     },
     "execution_count": 395,
     "metadata": {},
     "output_type": "execute_result"
    }
   ],
   "source": [
    "scispacy_text_5 = df_fifth_step['Preprocessed_text'].values\n",
    "X_t5 = vectorize(scispacy_text_5, 300)\n",
    "X_t5.shape"
   ]
  },
  {
   "cell_type": "code",
   "execution_count": 396,
   "metadata": {},
   "outputs": [
    {
     "data": {
      "text/plain": [
       "(57, 47)"
      ]
     },
     "execution_count": 396,
     "metadata": {},
     "output_type": "execute_result"
    }
   ],
   "source": [
    "from sklearn.decomposition import PCA\n",
    "from sklearn.preprocessing import StandardScaler\n",
    "\n",
    "pca = PCA(n_components=0.95, random_state=42)\n",
    "X_reduced5= pca.fit_transform(X_t5.toarray())\n",
    "X_reduced5.shape\n",
    "\n",
    "# scaler = StandardScaler()\n",
    "# scaler.fit_transform(X_reduced)"
   ]
  },
  {
   "cell_type": "code",
   "execution_count": 397,
   "metadata": {},
   "outputs": [
    {
     "name": "stdout",
     "output_type": "stream",
     "text": [
      "initialization_time=0.005983 sec, sparsity=0.169\n",
      "n_iter=1, changed=48, inertia=39.370, iter_time=0.006 sec, sparsity=0.184\n",
      "n_iter=2, changed=4, inertia=28.940, iter_time=0.004 sec, sparsity=0.182\n",
      "n_iter=3, changed=1, inertia=28.483, iter_time=0.006 sec, sparsity=0.181\n",
      "Early converged.\n"
     ]
    }
   ],
   "source": [
    "\n",
    "spherical_kmeans = SphericalKMeans(\n",
    "    n_clusters = 5,\n",
    "    max_iter=10,\n",
    "    verbose=1,\n",
    "    init='similar_cut',\n",
    "    sparsity = 'minimum_df',\n",
    "    minimum_df_factor=0.05,\n",
    "    random_state=21)\n",
    "\n",
    "labels = spherical_kmeans.fit_predict(X_t5)"
   ]
  },
  {
   "cell_type": "code",
   "execution_count": 398,
   "metadata": {},
   "outputs": [
    {
     "name": "stdout",
     "output_type": "stream",
     "text": [
      "총 문서 수 : 57\n",
      "예측값 분포\n",
      "1    24\n",
      "2    20\n",
      "0     7\n",
      "4     5\n",
      "3     1\n",
      "Name: y, dtype: int64\n",
      "Label=1, 예측값 분포\n",
      "1    10\n",
      "4     1\n",
      "Name: y, dtype: int64\n"
     ]
    }
   ],
   "source": [
    "df_fifth_step['y'] = labels\n",
    "# print(len(df_nullout[df_nullout['y'].isin(['1'])]))\n",
    "is_Label = df_fifth_step[df_fifth_step['Label'].isin(['1'])]\n",
    "sub_df = pd.DataFrame(is_Label)\n",
    "\n",
    "print('총 문서 수 : %d' % len(df_fifth_step))\n",
    "print('예측값 분포')\n",
    "print(df_fifth_step['y'].value_counts())\n",
    "print('Label=1, 예측값 분포')\n",
    "print(sub_df['y'].value_counts())\n",
    "# df_fifth_step[df_fifth_step['Label'].isin(['1'])]\n",
    "# print(df_nullout[df_nullout['y'].isin(['2'])])"
   ]
  },
  {
   "cell_type": "code",
   "execution_count": 399,
   "metadata": {},
   "outputs": [
    {
     "name": "stdout",
     "output_type": "stream",
     "text": [
      "cluster#0 : itbs psychophysiological sleep memory multiple beneficial reactivation context prior cortisol reaction test spider effect term fear follow vivo session study group vr exposure phobia anxiety treatment\n",
      "\n",
      "cluster#1 : cbt cognitive behavioral flight measure combine three outcome two efficacy month improvement difference fly desensitization one compare panic post condition result behavior ie list scale results year end therapeutic yohimbine vrcbt case include expectancy involve rate pre little imaginal wait assign new public great show report randomize trial approach reduce traditional change clinical participant individual expectation high agoraphobia group session social vivo follow effective vret control treatment term fear significant level exposure interaction patient therapy anxiety\n",
      "\n",
      "cluster#2 : world help experience stress real create software psychological tool paper different computer vres technology application response emotional similar various ethical people 2016 technique research useful method make cost induction natural potential scenario effectiveness self order traumatic allow tsst investigate form problem enhance present environment model design provide therapist vr disorder virtual use much also treat interaction level phobia reality significant\n",
      "\n",
      "cluster#3 : lumbar flexion game pain movement low intervention increase complete baseline standardize within avoidance finding medication 12 elicit late perceive avoid positive ability evidence although assessment develope either participants indicate support however high expectation individual participant clinical provide change fear test traditional design reduce approach model trial significant group randomize report session follow\n",
      "\n",
      "cluster#4 : dialogue system avatar quality mechanism time situation speech control vret effect therapist agoraphobia study patient social therapy reality use exposure virtual anxiety\n",
      "\n"
     ]
    },
    {
     "data": {
      "text/plain": [
       "[1, 2, 4]"
      ]
     },
     "execution_count": 399,
     "metadata": {},
     "output_type": "execute_result"
    }
   ],
   "source": [
    "#5th\n",
    "\n",
    "centers = spherical_kmeans.cluster_centers_\n",
    "labels = spherical_kmeans.labels_\n",
    "\n",
    "keywords = proportion_keywords(\n",
    "    centers,\n",
    "    labels, \n",
    "    index2word=vocabs, stopwords = stop_words)\n",
    "\n",
    "cluster_indices = []\n",
    "for cluster_idx, keyword in enumerate(keywords):\n",
    "    keyword = ' '.join([w for w,_ in keyword])\n",
    "    if 'therap' in keyword:\n",
    "#         print('cluster#{} : {}\\n'.format(cluster_idx, keyword))\n",
    "        cluster_indices.append(cluster_idx)\n",
    "    print('cluster#{} : {}\\n'.format(cluster_idx, keyword))\n",
    "cluster_indices"
   ]
  },
  {
   "cell_type": "code",
   "execution_count": null,
   "metadata": {},
   "outputs": [],
   "source": []
  },
  {
   "cell_type": "code",
   "execution_count": null,
   "metadata": {},
   "outputs": [],
   "source": []
  },
  {
   "cell_type": "code",
   "execution_count": 400,
   "metadata": {},
   "outputs": [
    {
     "data": {
      "image/png": "[encoded data removed]",
      "text/plain": [
       "<Figure size 750x750 with 1 Axes>"
      ]
     },
     "metadata": {
      "needs_background": "light"
     },
     "output_type": "display_data"
    }
   ],
   "source": [
    "from soyclustering import visualize_pairwise_distance\n",
    "\n",
    "# visualize pairwise distance matrix\n",
    "fig = visualize_pairwise_distance(centers, max_dist=.7, sort=True)"
   ]
  },
  {
   "cell_type": "code",
   "execution_count": 409,
   "metadata": {},
   "outputs": [
    {
     "data": {
      "image/png": "[encoded data removed]",
      "text/plain": [
       "<Figure size 750x750 with 1 Axes>"
      ]
     },
     "metadata": {
      "needs_background": "light"
     },
     "output_type": "display_data"
    }
   ],
   "source": [
    "from soyclustering import merge_close_clusters\n",
    "\n",
    "group_centers, groups = merge_close_clusters(centers, labels, max_dist=.5)\n",
    "fig = visualize_pairwise_distance(group_centers, max_dist=.7, sort=True)"
   ]
  },
  {
   "cell_type": "code",
   "execution_count": 410,
   "metadata": {},
   "outputs": [
    {
     "name": "stdout",
     "output_type": "stream",
     "text": [
      "[1]\n",
      "[2]\n",
      "[0]\n",
      "[4]\n",
      "[3]\n"
     ]
    }
   ],
   "source": [
    "for group in groups:\n",
    "    print(group)"
   ]
  },
  {
   "cell_type": "code",
   "execution_count": 327,
   "metadata": {},
   "outputs": [
    {
     "name": "stdout",
     "output_type": "stream",
     "text": [
      "총 문서 수 : 85\n",
      "예측값 분포\n",
      "merge    61\n",
      "4        16\n",
      "2         4\n",
      "0         4\n",
      "Name: y, dtype: int64\n",
      "Label=1, 예측값 분포\n",
      "merge    11\n",
      "Name: y, dtype: int64\n"
     ]
    },
    {
     "data": {
      "text/html": [
       "<div>\n",
       "<style scoped>\n",
       "    .dataframe tbody tr th:only-of-type {\n",
       "        vertical-align: middle;\n",
       "    }\n",
       "\n",
       "    .dataframe tbody tr th {\n",
       "        vertical-align: top;\n",
       "    }\n",
       "\n",
       "    .dataframe thead th {\n",
       "        text-align: right;\n",
       "    }\n",
       "</style>\n",
       "<table border=\"1\" class=\"dataframe\">\n",
       "  <thead>\n",
       "    <tr style=\"text-align: right;\">\n",
       "      <th></th>\n",
       "      <th>Title</th>\n",
       "      <th>Abstract</th>\n",
       "      <th>Text</th>\n",
       "      <th>Label</th>\n",
       "      <th>Preprocessed_text</th>\n",
       "      <th>abstract_word_count</th>\n",
       "      <th>y</th>\n",
       "    </tr>\n",
       "  </thead>\n",
       "  <tbody>\n",
       "    <tr>\n",
       "      <th>8</th>\n",
       "      <td>Cognitive-behavioral treatment and antidepress...</td>\n",
       "      <td>In this study we compared the efficacy of virt...</td>\n",
       "      <td>Cognitive-behavioral treatment and antidepress...</td>\n",
       "      <td>1.0</td>\n",
       "      <td>cognitive-behavioral treatment antidepressant ...</td>\n",
       "      <td>177</td>\n",
       "      <td>merge</td>\n",
       "    </tr>\n",
       "    <tr>\n",
       "      <th>9</th>\n",
       "      <td>The combined use of virtual reality exposure i...</td>\n",
       "      <td>Introduction. This study compares the differen...</td>\n",
       "      <td>The combined use of virtual reality exposure i...</td>\n",
       "      <td>1.0</td>\n",
       "      <td>combine use virtual reality exposure treatment...</td>\n",
       "      <td>145</td>\n",
       "      <td>merge</td>\n",
       "    </tr>\n",
       "    <tr>\n",
       "      <th>10</th>\n",
       "      <td>A controlled study of agoraphobia and the inde...</td>\n",
       "      <td>OBJECTIVES: Past controlled clinical trials ce...</td>\n",
       "      <td>A controlled study of agoraphobia and the inde...</td>\n",
       "      <td>1.0</td>\n",
       "      <td>control study agoraphobia independent effect v...</td>\n",
       "      <td>163</td>\n",
       "      <td>merge</td>\n",
       "    </tr>\n",
       "    <tr>\n",
       "      <th>18</th>\n",
       "      <td>Effectiveness of cognitive behavioral therapy ...</td>\n",
       "      <td>The purpose of the research was to compare the...</td>\n",
       "      <td>Effectiveness of cognitive behavioral therapy ...</td>\n",
       "      <td>1.0</td>\n",
       "      <td>effectiveness cognitive behavioral therapy int...</td>\n",
       "      <td>207</td>\n",
       "      <td>merge</td>\n",
       "    </tr>\n",
       "    <tr>\n",
       "      <th>30</th>\n",
       "      <td>Exposure to virtual social interactions in the...</td>\n",
       "      <td>This randomized controlled trial investigated ...</td>\n",
       "      <td>Exposure to virtual social interactions in the...</td>\n",
       "      <td>1.0</td>\n",
       "      <td>exposure virtual social interaction treatment ...</td>\n",
       "      <td>224</td>\n",
       "      <td>merge</td>\n",
       "    </tr>\n",
       "    <tr>\n",
       "      <th>40</th>\n",
       "      <td>In Vivo versus augmented reality exposure in t...</td>\n",
       "      <td>Although in vivo exposure is the treatment of ...</td>\n",
       "      <td>In Vivo versus augmented reality exposure in t...</td>\n",
       "      <td>1.0</td>\n",
       "      <td>vivo versus augment reality exposure treatment...</td>\n",
       "      <td>284</td>\n",
       "      <td>merge</td>\n",
       "    </tr>\n",
       "    <tr>\n",
       "      <th>47</th>\n",
       "      <td>One session treatment of cognitive and behavio...</td>\n",
       "      <td>This randomized clinical trial aimed to invest...</td>\n",
       "      <td>One session treatment of cognitive and behavio...</td>\n",
       "      <td>1.0</td>\n",
       "      <td>one session treatment cognitive behavioral the...</td>\n",
       "      <td>160</td>\n",
       "      <td>merge</td>\n",
       "    </tr>\n",
       "    <tr>\n",
       "      <th>72</th>\n",
       "      <td>Virtual reality compared with in vivo exposure...</td>\n",
       "      <td>BackgroundPeople with social anxiety disorder ...</td>\n",
       "      <td>Virtual reality compared with in vivo exposure...</td>\n",
       "      <td>1.0</td>\n",
       "      <td>virtual reality compare vivo exposure treatmen...</td>\n",
       "      <td>216</td>\n",
       "      <td>merge</td>\n",
       "    </tr>\n",
       "    <tr>\n",
       "      <th>77</th>\n",
       "      <td>Virtual reality exposure therapy does not prov...</td>\n",
       "      <td>Background: A number of studies have demonstra...</td>\n",
       "      <td>Virtual reality exposure therapy does not prov...</td>\n",
       "      <td>1.0</td>\n",
       "      <td>virtual reality exposure therapy doe provide a...</td>\n",
       "      <td>271</td>\n",
       "      <td>merge</td>\n",
       "    </tr>\n",
       "    <tr>\n",
       "      <th>78</th>\n",
       "      <td>Virtual reality exposure therapy for social an...</td>\n",
       "      <td>OBJECTIVE: This is the first randomized trial ...</td>\n",
       "      <td>Virtual reality exposure therapy for social an...</td>\n",
       "      <td>1.0</td>\n",
       "      <td>virtual reality exposure therapy social anxiet...</td>\n",
       "      <td>255</td>\n",
       "      <td>merge</td>\n",
       "    </tr>\n",
       "    <tr>\n",
       "      <th>80</th>\n",
       "      <td>Virtual reality exposure therapy versus cognit...</td>\n",
       "      <td>our objective was to compare the effects of Vi...</td>\n",
       "      <td>Virtual reality exposure therapy versus cognit...</td>\n",
       "      <td>1.0</td>\n",
       "      <td>virtual reality exposure therapy versus cognit...</td>\n",
       "      <td>168</td>\n",
       "      <td>merge</td>\n",
       "    </tr>\n",
       "  </tbody>\n",
       "</table>\n",
       "</div>"
      ],
      "text/plain": [
       "                                                Title  \\\n",
       "8   Cognitive-behavioral treatment and antidepress...   \n",
       "9   The combined use of virtual reality exposure i...   \n",
       "10  A controlled study of agoraphobia and the inde...   \n",
       "18  Effectiveness of cognitive behavioral therapy ...   \n",
       "30  Exposure to virtual social interactions in the...   \n",
       "40  In Vivo versus augmented reality exposure in t...   \n",
       "47  One session treatment of cognitive and behavio...   \n",
       "72  Virtual reality compared with in vivo exposure...   \n",
       "77  Virtual reality exposure therapy does not prov...   \n",
       "78  Virtual reality exposure therapy for social an...   \n",
       "80  Virtual reality exposure therapy versus cognit...   \n",
       "\n",
       "                                             Abstract  \\\n",
       "8   In this study we compared the efficacy of virt...   \n",
       "9   Introduction. This study compares the differen...   \n",
       "10  OBJECTIVES: Past controlled clinical trials ce...   \n",
       "18  The purpose of the research was to compare the...   \n",
       "30  This randomized controlled trial investigated ...   \n",
       "40  Although in vivo exposure is the treatment of ...   \n",
       "47  This randomized clinical trial aimed to invest...   \n",
       "72  BackgroundPeople with social anxiety disorder ...   \n",
       "77  Background: A number of studies have demonstra...   \n",
       "78  OBJECTIVE: This is the first randomized trial ...   \n",
       "80  our objective was to compare the effects of Vi...   \n",
       "\n",
       "                                                 Text  Label  \\\n",
       "8   Cognitive-behavioral treatment and antidepress...    1.0   \n",
       "9   The combined use of virtual reality exposure i...    1.0   \n",
       "10  A controlled study of agoraphobia and the inde...    1.0   \n",
       "18  Effectiveness of cognitive behavioral therapy ...    1.0   \n",
       "30  Exposure to virtual social interactions in the...    1.0   \n",
       "40  In Vivo versus augmented reality exposure in t...    1.0   \n",
       "47  One session treatment of cognitive and behavio...    1.0   \n",
       "72  Virtual reality compared with in vivo exposure...    1.0   \n",
       "77  Virtual reality exposure therapy does not prov...    1.0   \n",
       "78  Virtual reality exposure therapy for social an...    1.0   \n",
       "80  Virtual reality exposure therapy versus cognit...    1.0   \n",
       "\n",
       "                                    Preprocessed_text  abstract_word_count  \\\n",
       "8   cognitive-behavioral treatment antidepressant ...                  177   \n",
       "9   combine use virtual reality exposure treatment...                  145   \n",
       "10  control study agoraphobia independent effect v...                  163   \n",
       "18  effectiveness cognitive behavioral therapy int...                  207   \n",
       "30  exposure virtual social interaction treatment ...                  224   \n",
       "40  vivo versus augment reality exposure treatment...                  284   \n",
       "47  one session treatment cognitive behavioral the...                  160   \n",
       "72  virtual reality compare vivo exposure treatmen...                  216   \n",
       "77  virtual reality exposure therapy doe provide a...                  271   \n",
       "78  virtual reality exposure therapy social anxiet...                  255   \n",
       "80  virtual reality exposure therapy versus cognit...                  168   \n",
       "\n",
       "        y  \n",
       "8   merge  \n",
       "9   merge  \n",
       "10  merge  \n",
       "18  merge  \n",
       "30  merge  \n",
       "40  merge  \n",
       "47  merge  \n",
       "72  merge  \n",
       "77  merge  \n",
       "78  merge  \n",
       "80  merge  "
      ]
     },
     "execution_count": 327,
     "metadata": {},
     "output_type": "execute_result"
    }
   ],
   "source": [
    "df_final_merge = pd.DataFrame(df_fifth_step)\n",
    "\n",
    "df_final_merge.loc[df_final_merge['y']==1, 'y'] = 'merge'\n",
    "df_final_merge.loc[df_final_merge['y']==3, 'y'] = 'merge'\n",
    "    \n",
    "# print(len(df_nullout[df_nullout['y'].isin(['1'])]))\n",
    "is_Label = df_final_merge[df_final_merge['Label'].isin(['1'])]\n",
    "sub_df = pd.DataFrame(is_Label)\n",
    "\n",
    "print('총 문서 수 : %d' % len(df_final_merge))\n",
    "print('예측값 분포')\n",
    "print(df_final_merge['y'].value_counts())\n",
    "print('Label=1, 예측값 분포')\n",
    "print(sub_df['y'].value_counts())\n",
    "df_final_merge[df_final_merge['Label'].isin(['1'])]\n",
    "# print(df_nullout[df_nullout['y'].isin(['2'])])"
   ]
  },
  {
   "cell_type": "code",
   "execution_count": null,
   "metadata": {},
   "outputs": [],
   "source": []
  },
  {
   "cell_type": "code",
   "execution_count": null,
   "metadata": {},
   "outputs": [],
   "source": []
  },
  {
   "cell_type": "code",
   "execution_count": null,
   "metadata": {},
   "outputs": [],
   "source": []
  },
  {
   "cell_type": "code",
   "execution_count": 263,
   "metadata": {},
   "outputs": [
    {
     "name": "stdout",
     "output_type": "stream",
     "text": [
      "총 문서 수 : 274\n",
      "예측값 분포\n",
      "1    69\n",
      "5    66\n",
      "3    44\n",
      "4    43\n",
      "2    25\n",
      "6    13\n",
      "0     8\n",
      "7     6\n",
      "Name: y, dtype: int64\n",
      "Label=1, 예측값 분포\n",
      "5    18\n",
      "2     3\n",
      "1     3\n",
      "4     2\n",
      "Name: y, dtype: int64\n"
     ]
    },
    {
     "data": {
      "text/html": [
       "<div>\n",
       "<style scoped>\n",
       "    .dataframe tbody tr th:only-of-type {\n",
       "        vertical-align: middle;\n",
       "    }\n",
       "\n",
       "    .dataframe tbody tr th {\n",
       "        vertical-align: top;\n",
       "    }\n",
       "\n",
       "    .dataframe thead th {\n",
       "        text-align: right;\n",
       "    }\n",
       "</style>\n",
       "<table border=\"1\" class=\"dataframe\">\n",
       "  <thead>\n",
       "    <tr style=\"text-align: right;\">\n",
       "      <th></th>\n",
       "      <th>Title</th>\n",
       "      <th>Abstract</th>\n",
       "      <th>Text</th>\n",
       "      <th>Label</th>\n",
       "      <th>Preprocessed_text</th>\n",
       "      <th>abstract_word_count</th>\n",
       "      <th>y</th>\n",
       "    </tr>\n",
       "  </thead>\n",
       "  <tbody>\n",
       "    <tr>\n",
       "      <th>21</th>\n",
       "      <td>Beta-Band Functional Connectivity is Reorganiz...</td>\n",
       "      <td>Physical and cognitive idleness constitute sig...</td>\n",
       "      <td>Beta-Band Functional Connectivity is Reorganiz...</td>\n",
       "      <td>1.0</td>\n",
       "      <td>beta-band functional connectivity reorganized ...</td>\n",
       "      <td>251</td>\n",
       "      <td>5</td>\n",
       "    </tr>\n",
       "    <tr>\n",
       "      <th>34</th>\n",
       "      <td>Cognitive and Neural Effects of Vision-Based S...</td>\n",
       "      <td>Objectives To examine the cognitive and neural...</td>\n",
       "      <td>Cognitive and Neural Effects of Vision-Based S...</td>\n",
       "      <td>1.0</td>\n",
       "      <td>cognitive neural effects vision-based speed-of...</td>\n",
       "      <td>264</td>\n",
       "      <td>5</td>\n",
       "    </tr>\n",
       "    <tr>\n",
       "      <th>39</th>\n",
       "      <td>Cognitive training changes hippocampal functio...</td>\n",
       "      <td>A randomized pilot experiment examined the neu...</td>\n",
       "      <td>Cognitive training changes hippocampal functio...</td>\n",
       "      <td>1.0</td>\n",
       "      <td>cognitive train change hippocampal function mi...</td>\n",
       "      <td>110</td>\n",
       "      <td>5</td>\n",
       "    </tr>\n",
       "    <tr>\n",
       "      <th>41</th>\n",
       "      <td>Cognitive training program to improve working ...</td>\n",
       "      <td>Objectives: Deficits in working memory (WM) ar...</td>\n",
       "      <td>Cognitive training program to improve working ...</td>\n",
       "      <td>1.0</td>\n",
       "      <td>cognitive train program improve work memory ol...</td>\n",
       "      <td>275</td>\n",
       "      <td>5</td>\n",
       "    </tr>\n",
       "    <tr>\n",
       "      <th>42</th>\n",
       "      <td>Cognitive Training Using a Novel Memory Game o...</td>\n",
       "      <td>Background: Cognitive training is effective in...</td>\n",
       "      <td>Cognitive Training Using a Novel Memory Game o...</td>\n",
       "      <td>1.0</td>\n",
       "      <td>cognitive training novel memory game ipad pati...</td>\n",
       "      <td>280</td>\n",
       "      <td>5</td>\n",
       "    </tr>\n",
       "    <tr>\n",
       "      <th>48</th>\n",
       "      <td>Comparing three methods of computerised cognit...</td>\n",
       "      <td>Cognitive rehabilitation for mild cognitive im...</td>\n",
       "      <td>Comparing three methods of computerised cognit...</td>\n",
       "      <td>1.0</td>\n",
       "      <td>comparing three method computerise cognitive t...</td>\n",
       "      <td>221</td>\n",
       "      <td>5</td>\n",
       "    </tr>\n",
       "    <tr>\n",
       "      <th>50</th>\n",
       "      <td>Comparison of Two Cognitive Training Programs ...</td>\n",
       "      <td>The aim of the current study was to compare th...</td>\n",
       "      <td>Comparison of Two Cognitive Training Programs ...</td>\n",
       "      <td>1.0</td>\n",
       "      <td>comparison two cognitive training programs eff...</td>\n",
       "      <td>177</td>\n",
       "      <td>5</td>\n",
       "    </tr>\n",
       "    <tr>\n",
       "      <th>56</th>\n",
       "      <td>Computer-based cognitive training for mild cog...</td>\n",
       "      <td>We performed a pilot randomized, controlled tr...</td>\n",
       "      <td>Computer-based cognitive training for mild cog...</td>\n",
       "      <td>1.0</td>\n",
       "      <td>computer-based cognitive train mild cognitive ...</td>\n",
       "      <td>214</td>\n",
       "      <td>5</td>\n",
       "    </tr>\n",
       "    <tr>\n",
       "      <th>57</th>\n",
       "      <td>Computerised cognitive training for older pers...</td>\n",
       "      <td>The results of a pilot randomised controlled t...</td>\n",
       "      <td>Computerised cognitive training for older pers...</td>\n",
       "      <td>1.0</td>\n",
       "      <td>computerised cognitive train old person mild c...</td>\n",
       "      <td>192</td>\n",
       "      <td>5</td>\n",
       "    </tr>\n",
       "    <tr>\n",
       "      <th>69</th>\n",
       "      <td>Development of the ubiquitous spaced retrieval...</td>\n",
       "      <td>OBJECTIVE: The Ubiquitous Spaced Retrieval-bas...</td>\n",
       "      <td>Development of the ubiquitous spaced retrieval...</td>\n",
       "      <td>1.0</td>\n",
       "      <td>development ubiquitous space retrieval-based m...</td>\n",
       "      <td>256</td>\n",
       "      <td>5</td>\n",
       "    </tr>\n",
       "    <tr>\n",
       "      <th>83</th>\n",
       "      <td>The effect of cognitive-motor dual task traini...</td>\n",
       "      <td>[Purpose] This study investigates whether cogn...</td>\n",
       "      <td>The effect of cognitive-motor dual task traini...</td>\n",
       "      <td>1.0</td>\n",
       "      <td>effect cognitive-motor dual task train bioresc...</td>\n",
       "      <td>232</td>\n",
       "      <td>2</td>\n",
       "    </tr>\n",
       "    <tr>\n",
       "      <th>84</th>\n",
       "      <td>Effectiveness of a cognitive rehabilitation pr...</td>\n",
       "      <td>Data support the evidence that neuropsychologi...</td>\n",
       "      <td>Effectiveness of a cognitive rehabilitation pr...</td>\n",
       "      <td>1.0</td>\n",
       "      <td>effectiveness cognitive rehabilitation program...</td>\n",
       "      <td>140</td>\n",
       "      <td>1</td>\n",
       "    </tr>\n",
       "    <tr>\n",
       "      <th>86</th>\n",
       "      <td>The effects of a computer-based cognitive and ...</td>\n",
       "      <td>OBJECTIVES: The Long Lasting Memories (LLM) pr...</td>\n",
       "      <td>The effects of a computer-based cognitive and ...</td>\n",
       "      <td>1.0</td>\n",
       "      <td>effect computer-based cognitive physical train...</td>\n",
       "      <td>187</td>\n",
       "      <td>5</td>\n",
       "    </tr>\n",
       "    <tr>\n",
       "      <th>101</th>\n",
       "      <td>The efficacy of a computer-assisted cognitive ...</td>\n",
       "      <td>Background/Study Context: Whereas computer-ass...</td>\n",
       "      <td>The efficacy of a computer-assisted cognitive ...</td>\n",
       "      <td>1.0</td>\n",
       "      <td>efficacy computer-assisted cognitive rehabilit...</td>\n",
       "      <td>299</td>\n",
       "      <td>1</td>\n",
       "    </tr>\n",
       "    <tr>\n",
       "      <th>105</th>\n",
       "      <td>Efficacy of cognitive rehabilitation in patien...</td>\n",
       "      <td>BACKGROUND: Individuals who have Mild Cognitiv...</td>\n",
       "      <td>Efficacy of cognitive rehabilitation in patien...</td>\n",
       "      <td>1.0</td>\n",
       "      <td>efficacy cognitive rehabilitation patient mild...</td>\n",
       "      <td>239</td>\n",
       "      <td>4</td>\n",
       "    </tr>\n",
       "    <tr>\n",
       "      <th>113</th>\n",
       "      <td>Evaluation of a virtual reality-based memory t...</td>\n",
       "      <td>BACKGROUND: Older adults with questionable dem...</td>\n",
       "      <td>Evaluation of a virtual reality-based memory t...</td>\n",
       "      <td>1.0</td>\n",
       "      <td>evaluation virtual reality-based memory train ...</td>\n",
       "      <td>164</td>\n",
       "      <td>2</td>\n",
       "    </tr>\n",
       "    <tr>\n",
       "      <th>149</th>\n",
       "      <td>Interactive video gaming compared with health ...</td>\n",
       "      <td>OBJECTIVE: We evaluated the feasibility of a t...</td>\n",
       "      <td>Interactive video gaming compared with health ...</td>\n",
       "      <td>1.0</td>\n",
       "      <td>interactive video gaming compare health educat...</td>\n",
       "      <td>208</td>\n",
       "      <td>1</td>\n",
       "    </tr>\n",
       "    <tr>\n",
       "      <th>155</th>\n",
       "      <td>'Kitchen and cooking,' a serious game for mild...</td>\n",
       "      <td>Recently there has been a growing interest in ...</td>\n",
       "      <td>'Kitchen and cooking,' a serious game for mild...</td>\n",
       "      <td>1.0</td>\n",
       "      <td>kitchen cook serious game mild cognitive impai...</td>\n",
       "      <td>263</td>\n",
       "      <td>2</td>\n",
       "    </tr>\n",
       "    <tr>\n",
       "      <th>179</th>\n",
       "      <td>Neuroplastic effects of combined computerized ...</td>\n",
       "      <td>The present study investigates whether a combi...</td>\n",
       "      <td>Neuroplastic effects of combined computerized ...</td>\n",
       "      <td>1.0</td>\n",
       "      <td>neuroplastic effect combine computerize physic...</td>\n",
       "      <td>228</td>\n",
       "      <td>5</td>\n",
       "    </tr>\n",
       "    <tr>\n",
       "      <th>183</th>\n",
       "      <td>Outcomes of a computer-based cognitive rehabil...</td>\n",
       "      <td>The aim of the present study is to evaluate th...</td>\n",
       "      <td>Outcomes of a computer-based cognitive rehabil...</td>\n",
       "      <td>1.0</td>\n",
       "      <td>outcomes computer-based cognitive rehabilitati...</td>\n",
       "      <td>283</td>\n",
       "      <td>4</td>\n",
       "    </tr>\n",
       "    <tr>\n",
       "      <th>198</th>\n",
       "      <td>Positive effects of computer-based cognitive t...</td>\n",
       "      <td>Considering the high risk for individuals with...</td>\n",
       "      <td>Positive effects of computer-based cognitive t...</td>\n",
       "      <td>1.0</td>\n",
       "      <td>positive effect computer-based cognitive train...</td>\n",
       "      <td>234</td>\n",
       "      <td>5</td>\n",
       "    </tr>\n",
       "    <tr>\n",
       "      <th>208</th>\n",
       "      <td>Protecting cognition from aging and Alzheimer'...</td>\n",
       "      <td>OBJECTIVE: The aim of this paper was to assess...</td>\n",
       "      <td>Protecting cognition from aging and Alzheimer'...</td>\n",
       "      <td>1.0</td>\n",
       "      <td>protecting cognition age alzheimer disease com...</td>\n",
       "      <td>270</td>\n",
       "      <td>5</td>\n",
       "    </tr>\n",
       "    <tr>\n",
       "      <th>237</th>\n",
       "      <td>The Study of Mental and Resistance Training (S...</td>\n",
       "      <td>BACKGROUND: Mild cognitive impairment (MCI) in...</td>\n",
       "      <td>The Study of Mental and Resistance Training (S...</td>\n",
       "      <td>1.0</td>\n",
       "      <td>study mental resistance training smart study?r...</td>\n",
       "      <td>292</td>\n",
       "      <td>5</td>\n",
       "    </tr>\n",
       "    <tr>\n",
       "      <th>243</th>\n",
       "      <td>Tailored and adaptive computerized cognitive t...</td>\n",
       "      <td>Background: Computerized Cognitive Training (C...</td>\n",
       "      <td>Tailored and adaptive computerized cognitive t...</td>\n",
       "      <td>1.0</td>\n",
       "      <td>tailored adaptive computerize cognitive train ...</td>\n",
       "      <td>295</td>\n",
       "      <td>5</td>\n",
       "    </tr>\n",
       "    <tr>\n",
       "      <th>252</th>\n",
       "      <td>Training of attentional control in mild cognit...</td>\n",
       "      <td>This study evaluated the efficacy of a cogniti...</td>\n",
       "      <td>Training of attentional control in mild cognit...</td>\n",
       "      <td>1.0</td>\n",
       "      <td>training attentional control mild cognitive im...</td>\n",
       "      <td>242</td>\n",
       "      <td>5</td>\n",
       "    </tr>\n",
       "    <tr>\n",
       "      <th>254</th>\n",
       "      <td>Transfer and maintenance effects of online wor...</td>\n",
       "      <td>Working memory (WM) is one of the cognitive fu...</td>\n",
       "      <td>Transfer and maintenance effects of online wor...</td>\n",
       "      <td>1.0</td>\n",
       "      <td>transfer maintenance effect online working-mem...</td>\n",
       "      <td>224</td>\n",
       "      <td>5</td>\n",
       "    </tr>\n",
       "  </tbody>\n",
       "</table>\n",
       "</div>"
      ],
      "text/plain": [
       "                                                 Title  \\\n",
       "21   Beta-Band Functional Connectivity is Reorganiz...   \n",
       "34   Cognitive and Neural Effects of Vision-Based S...   \n",
       "39   Cognitive training changes hippocampal functio...   \n",
       "41   Cognitive training program to improve working ...   \n",
       "42   Cognitive Training Using a Novel Memory Game o...   \n",
       "48   Comparing three methods of computerised cognit...   \n",
       "50   Comparison of Two Cognitive Training Programs ...   \n",
       "56   Computer-based cognitive training for mild cog...   \n",
       "57   Computerised cognitive training for older pers...   \n",
       "69   Development of the ubiquitous spaced retrieval...   \n",
       "83   The effect of cognitive-motor dual task traini...   \n",
       "84   Effectiveness of a cognitive rehabilitation pr...   \n",
       "86   The effects of a computer-based cognitive and ...   \n",
       "101  The efficacy of a computer-assisted cognitive ...   \n",
       "105  Efficacy of cognitive rehabilitation in patien...   \n",
       "113  Evaluation of a virtual reality-based memory t...   \n",
       "149  Interactive video gaming compared with health ...   \n",
       "155  'Kitchen and cooking,' a serious game for mild...   \n",
       "179  Neuroplastic effects of combined computerized ...   \n",
       "183  Outcomes of a computer-based cognitive rehabil...   \n",
       "198  Positive effects of computer-based cognitive t...   \n",
       "208  Protecting cognition from aging and Alzheimer'...   \n",
       "237  The Study of Mental and Resistance Training (S...   \n",
       "243  Tailored and adaptive computerized cognitive t...   \n",
       "252  Training of attentional control in mild cognit...   \n",
       "254  Transfer and maintenance effects of online wor...   \n",
       "\n",
       "                                              Abstract  \\\n",
       "21   Physical and cognitive idleness constitute sig...   \n",
       "34   Objectives To examine the cognitive and neural...   \n",
       "39   A randomized pilot experiment examined the neu...   \n",
       "41   Objectives: Deficits in working memory (WM) ar...   \n",
       "42   Background: Cognitive training is effective in...   \n",
       "48   Cognitive rehabilitation for mild cognitive im...   \n",
       "50   The aim of the current study was to compare th...   \n",
       "56   We performed a pilot randomized, controlled tr...   \n",
       "57   The results of a pilot randomised controlled t...   \n",
       "69   OBJECTIVE: The Ubiquitous Spaced Retrieval-bas...   \n",
       "83   [Purpose] This study investigates whether cogn...   \n",
       "84   Data support the evidence that neuropsychologi...   \n",
       "86   OBJECTIVES: The Long Lasting Memories (LLM) pr...   \n",
       "101  Background/Study Context: Whereas computer-ass...   \n",
       "105  BACKGROUND: Individuals who have Mild Cognitiv...   \n",
       "113  BACKGROUND: Older adults with questionable dem...   \n",
       "149  OBJECTIVE: We evaluated the feasibility of a t...   \n",
       "155  Recently there has been a growing interest in ...   \n",
       "179  The present study investigates whether a combi...   \n",
       "183  The aim of the present study is to evaluate th...   \n",
       "198  Considering the high risk for individuals with...   \n",
       "208  OBJECTIVE: The aim of this paper was to assess...   \n",
       "237  BACKGROUND: Mild cognitive impairment (MCI) in...   \n",
       "243  Background: Computerized Cognitive Training (C...   \n",
       "252  This study evaluated the efficacy of a cogniti...   \n",
       "254  Working memory (WM) is one of the cognitive fu...   \n",
       "\n",
       "                                                  Text  Label  \\\n",
       "21   Beta-Band Functional Connectivity is Reorganiz...    1.0   \n",
       "34   Cognitive and Neural Effects of Vision-Based S...    1.0   \n",
       "39   Cognitive training changes hippocampal functio...    1.0   \n",
       "41   Cognitive training program to improve working ...    1.0   \n",
       "42   Cognitive Training Using a Novel Memory Game o...    1.0   \n",
       "48   Comparing three methods of computerised cognit...    1.0   \n",
       "50   Comparison of Two Cognitive Training Programs ...    1.0   \n",
       "56   Computer-based cognitive training for mild cog...    1.0   \n",
       "57   Computerised cognitive training for older pers...    1.0   \n",
       "69   Development of the ubiquitous spaced retrieval...    1.0   \n",
       "83   The effect of cognitive-motor dual task traini...    1.0   \n",
       "84   Effectiveness of a cognitive rehabilitation pr...    1.0   \n",
       "86   The effects of a computer-based cognitive and ...    1.0   \n",
       "101  The efficacy of a computer-assisted cognitive ...    1.0   \n",
       "105  Efficacy of cognitive rehabilitation in patien...    1.0   \n",
       "113  Evaluation of a virtual reality-based memory t...    1.0   \n",
       "149  Interactive video gaming compared with health ...    1.0   \n",
       "155  'Kitchen and cooking,' a serious game for mild...    1.0   \n",
       "179  Neuroplastic effects of combined computerized ...    1.0   \n",
       "183  Outcomes of a computer-based cognitive rehabil...    1.0   \n",
       "198  Positive effects of computer-based cognitive t...    1.0   \n",
       "208  Protecting cognition from aging and Alzheimer'...    1.0   \n",
       "237  The Study of Mental and Resistance Training (S...    1.0   \n",
       "243  Tailored and adaptive computerized cognitive t...    1.0   \n",
       "252  Training of attentional control in mild cognit...    1.0   \n",
       "254  Transfer and maintenance effects of online wor...    1.0   \n",
       "\n",
       "                                     Preprocessed_text  abstract_word_count  y  \n",
       "21   beta-band functional connectivity reorganized ...                  251  5  \n",
       "34   cognitive neural effects vision-based speed-of...                  264  5  \n",
       "39   cognitive train change hippocampal function mi...                  110  5  \n",
       "41   cognitive train program improve work memory ol...                  275  5  \n",
       "42   cognitive training novel memory game ipad pati...                  280  5  \n",
       "48   comparing three method computerise cognitive t...                  221  5  \n",
       "50   comparison two cognitive training programs eff...                  177  5  \n",
       "56   computer-based cognitive train mild cognitive ...                  214  5  \n",
       "57   computerised cognitive train old person mild c...                  192  5  \n",
       "69   development ubiquitous space retrieval-based m...                  256  5  \n",
       "83   effect cognitive-motor dual task train bioresc...                  232  2  \n",
       "84   effectiveness cognitive rehabilitation program...                  140  1  \n",
       "86   effect computer-based cognitive physical train...                  187  5  \n",
       "101  efficacy computer-assisted cognitive rehabilit...                  299  1  \n",
       "105  efficacy cognitive rehabilitation patient mild...                  239  4  \n",
       "113  evaluation virtual reality-based memory train ...                  164  2  \n",
       "149  interactive video gaming compare health educat...                  208  1  \n",
       "155  kitchen cook serious game mild cognitive impai...                  263  2  \n",
       "179  neuroplastic effect combine computerize physic...                  228  5  \n",
       "183  outcomes computer-based cognitive rehabilitati...                  283  4  \n",
       "198  positive effect computer-based cognitive train...                  234  5  \n",
       "208  protecting cognition age alzheimer disease com...                  270  5  \n",
       "237  study mental resistance training smart study?r...                  292  5  \n",
       "243  tailored adaptive computerize cognitive train ...                  295  5  \n",
       "252  training attentional control mild cognitive im...                  242  5  \n",
       "254  transfer maintenance effect online working-mem...                  224  5  "
      ]
     },
     "execution_count": 263,
     "metadata": {},
     "output_type": "execute_result"
    }
   ],
   "source": [
    "from sklearn.cluster import KMeans\n",
    "from sklearn import metrics\n",
    "from scipy.spatial.distance import cdist\n",
    "\n",
    "k = 8\n",
    "kmeans = KMeans(n_clusters=k, init='k-means++', random_state=42)\n",
    "y_pred = kmeans.fit_predict(X_reduced)\n",
    "df_nullout['y'] = y_pred\n",
    "# print(len(df_nullout[df_nullout['y'].isin(['1'])]))\n",
    "is_Label = df_nullout[df_nullout['Label'].isin(['1'])]\n",
    "sub_df = pd.DataFrame(is_Label)\n",
    "\n",
    "print('총 문서 수 : %d' % len(df_nullout))\n",
    "print('예측값 분포')\n",
    "print(df_nullout['y'].value_counts())\n",
    "print('Label=1, 예측값 분포')\n",
    "print(sub_df['y'].value_counts())\n",
    "df_nullout[df_nullout['Label'].isin(['1'])]\n",
    "# print(df_nullout[df_nullout['y'].isin(['2'])])"
   ]
  },
  {
   "cell_type": "code",
   "execution_count": null,
   "metadata": {},
   "outputs": [],
   "source": []
  },
  {
   "cell_type": "code",
   "execution_count": null,
   "metadata": {},
   "outputs": [],
   "source": []
  },
  {
   "cell_type": "markdown",
   "metadata": {},
   "source": [
    "# Export data"
   ]
  },
  {
   "cell_type": "code",
   "execution_count": 106,
   "metadata": {},
   "outputs": [],
   "source": [
    "class Cluster2xlsx:\n",
    "    def __init__(self, my_dataframe):\n",
    "        self.my_dataframe = my_dataframe\n",
    "        f_name = os.listdir('C:/Users/Euisung/Desktop/Artech/Graduation/dataset')\n",
    "        if 'cluster_temp.xlsx' in f_name:\n",
    "            print('기존 파일 로드')\n",
    "            wb = openpyxl.load_workbook('cluster_temp.xlsx')\n",
    "        else:\n",
    "            wb = openpyxl.Workbook()\n",
    "            wb.save('cluster_temp.xlsx')\n",
    "        \n",
    "        ws = wb.active\n",
    "        ws.append(['', 'N', 'TP', 'FN', 'FP', 'TN', 'Recall', 'Precision', 'Accuracy', 'f1-score', 'WSS']) \n",
    "        \n",
    "    def appending_result:\n",
    "        "
   ]
  },
  {
   "cell_type": "code",
   "execution_count": 175,
   "metadata": {},
   "outputs": [],
   "source": [
    "class Cluster2xlsx:\n",
    "    def __init__(self):\n",
    "        self.my_df = pd.DataFrame({'K_value', 'N', 'TP', 'FN', 'FP', \n",
    "                                          'TN', 'Recall', 'Precision', \n",
    "                                          'Accuracy', 'f1-score', 'WSS'})\n",
    "            \n",
    "    def appending_result(self):\n",
    "        temp_list = [spherical_kmeans.n_clusters]  # K_value\n",
    "        temp_list.append(len(df_nullout))\n",
    "        temp_list.append(sub_df['y'].value_counts())\n",
    "#         del temp_list[2]\n",
    "        \n",
    "        return temp_list\n",
    "        "
   ]
  },
  {
   "cell_type": "code",
   "execution_count": 176,
   "metadata": {},
   "outputs": [
    {
     "name": "stdout",
     "output_type": "stream",
     "text": [
      "topics.txt\n",
      "1\n"
     ]
    },
    {
     "data": {
      "text/plain": [
       "[2,\n",
       " 235,\n",
       " 0    11\n",
       " Name: y, dtype: int64]"
      ]
     },
     "execution_count": 176,
     "metadata": {},
     "output_type": "execute_result"
    }
   ],
   "source": [
    "for f_name in os.listdir('C:/Users/Euisung'):\n",
    "    if f_name.endswith('.txt'):\n",
    "        print(f_name)\n",
    "\n",
    "f_name = os.listdir('C:/Users/Euisung')\n",
    "if 'topics1.xlsx' in f_name:\n",
    "    wb = openpyxl.load_workbook('topics1.xlsx')\n",
    "    print('1')\n",
    "else:\n",
    "    print('0')\n",
    "    wb = openpyxl.Workbook()\n",
    "    wb.save('topics1.xlsx')\n",
    "    \n",
    "ws = wb.active\n",
    "ws.append(['K_value', 'N', 'TP', 'FN', 'FP', 'TN', 'Recall', 'Precision', 'Accuracy', 'f1-score', 'WSS'])\n",
    "wb.save('topics1.xlsx')\n",
    "\n",
    "ex = Cluster2xlsx()\n",
    "check = ex.appending_result()\n",
    "check"
   ]
  }
 ],
 "metadata": {
  "kernelspec": {
   "display_name": "Python 3",
   "language": "python",
   "name": "python3"
  },
  "language_info": {
   "codemirror_mode": {
    "name": "ipython",
    "version": 3
   },
   "file_extension": ".py",
   "mimetype": "text/x-python",
   "name": "python",
   "nbconvert_exporter": "python",
   "pygments_lexer": "ipython3",
   "version": "3.8.5"
  }
 },
 "nbformat": 4,
 "nbformat_minor": 4
}
