{
 "cells": [
  {
   "cell_type": "code",
   "execution_count": 3,
   "metadata": {},
   "outputs": [],
   "source": [
    "# nltk data download (한 번만 하면 됨)\n",
    "import nltk\n",
    "#nltk.download()"
   ]
  },
  {
   "cell_type": "code",
   "execution_count": 4,
   "metadata": {},
   "outputs": [],
   "source": [
    "import numpy as np\n",
    "import pandas as pd\n",
    "import tensorflow as tf\n",
    "import re\n",
    "\n",
    "import matplotlib.pyplot as plt\n",
    "\n",
    "from nltk.tokenize import sent_tokenize, TreebankWordTokenizer\n",
    "from nltk.stem import WordNetLemmatizer\n",
    "from nltk.corpus import stopwords, wordnet\n",
    "\n",
    "from sklearn.model_selection import train_test_split\n",
    "from sklearn.metrics.pairwise import linear_kernel, cosine_similarity\n",
    "from sklearn.feature_extraction.text import CountVectorizer\n",
    "from sklearn.feature_extraction.text import TfidfVectorizer\n",
    "from sklearn.decomposition import LatentDirichletAllocation\n",
    "from sklearn.preprocessing import MinMaxScaler\n",
    "\n",
    "from tensorflow.keras.preprocessing.text import Tokenizer\n",
    "\n",
    "from scipy.spatial.distance import euclidean\n",
    "\n",
    "from gensim.matutils import hellinger, jaccard\n",
    "from gensim.models.word2vec import Word2Vec\n",
    "\n",
    "tokenizer = TreebankWordTokenizer()\n",
    "lemmatizer = WordNetLemmatizer()\n",
    "scaler = MinMaxScaler()"
   ]
  },
  {
   "cell_type": "code",
   "execution_count": 5,
   "metadata": {},
   "outputs": [],
   "source": [
    "# 사용자 정의 함수들\n",
    "\n",
    "class LemmatizationWithPOSTagger(object):\n",
    "    def __init__(self):\n",
    "        pass\n",
    "    def get_wordnet_pos(self,treebank_tag):\n",
    "        \"\"\"\n",
    "        return WORDNET POS compliance to WORDENT lemmatization (a,n,r,v) \n",
    "        \"\"\"\n",
    "        if treebank_tag.startswith('J'):\n",
    "            return wordnet.ADJ\n",
    "        elif treebank_tag.startswith('V'):\n",
    "            return wordnet.VERB\n",
    "        elif treebank_tag.startswith('N'):\n",
    "            return wordnet.NOUN\n",
    "        elif treebank_tag.startswith('R'):\n",
    "            return wordnet.ADV\n",
    "        else:\n",
    "            # As default pos in lemmatization is Noun\n",
    "            return wordnet.NOUN\n",
    "\n",
    "    def pos_tag(self,tokens):\n",
    "        # find the pos tagginf for each tokens [('What', 'WP'), ('can', 'MD'), ('I', 'PRP') ....\n",
    "        pos_tokens = [nltk.pos_tag(token) for token in tokens]\n",
    "\n",
    "        # lemmatization using pos tagg   \n",
    "        # convert into feature set of [('What', 'What', ['WP']), ('can', 'can', ['MD']), ... ie [original WORD, Lemmatized word, POS tag]\n",
    "        pos_tokens = [ [(word, lemmatizer.lemmatize(word,self.get_wordnet_pos(pos_tag)), [pos_tag]) for (word,pos_tag) in pos] for pos in pos_tokens]\n",
    "        return pos_tokens"
   ]
  },
  {
   "cell_type": "markdown",
   "metadata": {},
   "source": [
    "# 데이터 불러오기"
   ]
  },
  {
   "cell_type": "code",
   "execution_count": 6,
   "metadata": {},
   "outputs": [
    {
     "name": "stdout",
     "output_type": "stream",
     "text": [
      "<class 'pandas.core.frame.DataFrame'>\n",
      "RangeIndex: 255 entries, 0 to 254\n",
      "Data columns (total 3 columns):\n",
      " #   Column    Non-Null Count  Dtype  \n",
      "---  ------    --------------  -----  \n",
      " 0   Title     255 non-null    object \n",
      " 1   Abstract  235 non-null    object \n",
      " 2   Label     11 non-null     float64\n",
      "dtypes: float64(1), object(2)\n",
      "memory usage: 6.1+ KB\n"
     ]
    }
   ],
   "source": [
    "df = pd.read_csv('C:/Users/Euisung/Desktop/Artech/Graduation/dataset/dataset_cognitivescience_01_TiAbs.csv', encoding='latin')\n",
    "df[0:10]\n",
    "df.info()"
   ]
  },
  {
   "cell_type": "code",
   "execution_count": 7,
   "metadata": {},
   "outputs": [
    {
     "name": "stdout",
     "output_type": "stream",
     "text": [
      "Title         0\n",
      "Abstract     20\n",
      "Label       244\n",
      "dtype: int64\n",
      "                                                 Title  \\\n",
      "0    About the effectiveness of telehealth procedur...   \n",
      "1    Acceptability of virtual reality interoceptive...   \n",
      "2    Acute anxiolytic effects of quetiapine during ...   \n",
      "3    Age-dependent modulation of sensory reweightin...   \n",
      "4    Allocentric lock in anorexia nervosa: New evid...   \n",
      "..                                                 ...   \n",
      "230  VirtualPhobia: A Model for Virtual Therapy of ...   \n",
      "231  Visualizing ideal self vs. actual self through...   \n",
      "232  Wii Fit is effective in women with bone loss c...   \n",
      "233  Working alliance inventory applied to virtual ...   \n",
      "234  Yohimbine enhancement of exposure therapy for ...   \n",
      "\n",
      "                                              Abstract  \\\n",
      "0    Use of new technologies for psychological trea...   \n",
      "1    Interoceptive exposure (IE) is a standard comp...   \n",
      "2    Anxiety disorders are among the most frequent ...   \n",
      "3    Older adults require more time to reweight sen...   \n",
      "4    Individuals with anorexia nervosa (AN) have a ...   \n",
      "..                                                 ...   \n",
      "230  This study proposes a tool model for phobia tr...   \n",
      "231  The self-discrepancy between one's actual self...   \n",
      "232  The use of exergame for balance competencies w...   \n",
      "233  This study examines the psychometric propertie...   \n",
      "234  Background Preclinical and clinical trials sug...   \n",
      "\n",
      "                                                  Text  Label  \n",
      "0    About the effectiveness of telehealth procedur...    0.0  \n",
      "1    Acceptability of virtual reality interoceptive...    0.0  \n",
      "2    Acute anxiolytic effects of quetiapine during ...    0.0  \n",
      "3    Age-dependent modulation of sensory reweightin...    0.0  \n",
      "4    Allocentric lock in anorexia nervosa: New evid...    0.0  \n",
      "..                                                 ...    ...  \n",
      "230  VirtualPhobia: A Model for Virtual Therapy of ...    0.0  \n",
      "231  Visualizing ideal self vs. actual self through...    0.0  \n",
      "232  Wii Fit is effective in women with bone loss c...    0.0  \n",
      "233  Working alliance inventory applied to virtual ...    0.0  \n",
      "234  Yohimbine enhancement of exposure therapy for ...    0.0  \n",
      "\n",
      "[235 rows x 4 columns]\n"
     ]
    },
    {
     "data": {
      "text/plain": [
       "'About the effectiveness of telehealth procedures in psychological treatments.. Use of new technologies for psychological treatment is currently experiencing considerable growth. From an experimental point of view, the greatest developments have concerned use of virtual reality and online programs. The present study analyzes both types of resources, with a special focus on Internet-based psychological treatment programs. The development of virtual reality has mainly been aimed at treating phobias. This resource has shown similar effectiveness to traditional treatments and even greater clinical efficacy in some cases. Internet-based psychological treatment has had a broader development, although it has been particularly applied to anxiety and depression problems. Systematic reviews and meta-analyses have shown a great heterogeneity of studies; however, some programs have proven to be effective, particularly when compared to a group without treatment and when such programs involve contact with a therapist. These resources have several advantages when compared to traditional methods: they are more accessible, versatile, and affordable. However, a few methodological difficulties must still be overcome to ensure the clinical viability of these technological resources.'"
      ]
     },
     "execution_count": 7,
     "metadata": {},
     "output_type": "execute_result"
    }
   ],
   "source": [
    "# null 체크 & 제거\n",
    "print(df.isnull().sum())\n",
    "num_label = df['Label'].sum()  # including된 논문 개수\n",
    "\n",
    "df_nullout = df[['Title', 'Abstract']].dropna().copy() # 파생 dataFrame 메모리 할당\n",
    "df_nullout['Text'] = df_nullout[['Title', 'Abstract']].apply(lambda x: '. '.join(x), axis=1) # Titel + Abstract 합친 열 생성\n",
    "df_nullout['Label'] = df['Label']\n",
    "df_nullout['Label'].fillna(0, inplace=True)\n",
    "df_nullout.reset_index(drop=True, inplace=True) # 행 index 리셋 (Null로 지운 행이 번호 상 빠져있기 때문)\n",
    "print(df_nullout)\n",
    "# print(df_nullout.iloc[215])\n",
    "indices = pd.Series(df_nullout.index, index=df_nullout['Title'])\n",
    "\n",
    "texts = df_nullout.get('Text')\n",
    "texts[0] # doc2vec사용 가능 포멧"
   ]
  },
  {
   "cell_type": "markdown",
   "metadata": {},
   "source": [
    "# Preprocessing"
   ]
  },
  {
   "cell_type": "code",
   "execution_count": 8,
   "metadata": {},
   "outputs": [
    {
     "data": {
      "text/plain": [
       "['About the effectiveness of telehealth procedures in psychological treatments.. Use of new technologies for psychological treatment is currently experiencing considerable growth.',\n",
       " 'From an experimental point of view, the greatest developments have concerned use of virtual reality and online programs.',\n",
       " 'The present study analyzes both types of resources, with a special focus on Internet-based psychological treatment programs.',\n",
       " 'The development of virtual reality has mainly been aimed at treating phobias.',\n",
       " 'This resource has shown similar effectiveness to traditional treatments and even greater clinical efficacy in some cases.',\n",
       " 'Internet-based psychological treatment has had a broader development, although it has been particularly applied to anxiety and depression problems.',\n",
       " 'Systematic reviews and meta-analyses have shown a great heterogeneity of studies; however, some programs have proven to be effective, particularly when compared to a group without treatment and when such programs involve contact with a therapist.',\n",
       " 'These resources have several advantages when compared to traditional methods: they are more accessible, versatile, and affordable.',\n",
       " 'However, a few methodological difficulties must still be overcome to ensure the clinical viability of these technological resources.']"
      ]
     },
     "execution_count": 8,
     "metadata": {},
     "output_type": "execute_result"
    }
   ],
   "source": [
    "paragraphs = []\n",
    "for text in texts.values:\n",
    "    paragraphs.append(sent_tokenize(text))\n",
    "    \n",
    "paragraphs[0]"
   ]
  },
  {
   "cell_type": "code",
   "execution_count": 9,
   "metadata": {},
   "outputs": [],
   "source": [
    "stop_words = stopwords.words('english')\n",
    "custom_stop_words = [\n",
    "    'doi', 'preprint', 'copyright', 'peer', 'reviewed', 'org', 'https',\n",
    "    'et', 'al', 'figure', 'rights', 'reserved', 'permission', 'used',\n",
    "    'using', 'license', 'fig', 'fig.', 'al.', 'elsevier', 'pmc', 'www',\n",
    "    'study'\n",
    "]\n",
    "\n",
    "for w in custom_stop_words:\n",
    "    if w not in stop_words:\n",
    "        stop_words.append(w)"
   ]
  },
  {
   "cell_type": "code",
   "execution_count": 10,
   "metadata": {},
   "outputs": [
    {
     "data": {
      "text/plain": [
       "('effectiveness', 'effectiveness', ['NN'])"
      ]
     },
     "execution_count": 10,
     "metadata": {},
     "output_type": "execute_result"
    }
   ],
   "source": [
    "lemmatization_using_pos_tagger = LemmatizationWithPOSTagger()\n",
    "\n",
    "preprocessed_text = []\n",
    "for i in range(0, len(texts)):\n",
    "    line = []\n",
    "    for string in paragraphs[i]:\n",
    "        normalized_text = re.sub(r\"[^a-z]+\", \" \", string.lower())                 # 텍스트 정규화. 특수문자 제거, 소문자화\n",
    "        if normalized_text == \" \" : continue\n",
    "        tokenized_text = tokenizer.tokenize(normalized_text)                           # 텍스트 토큰화\n",
    "        stopped_text = [token for token in tokenized_text if token not in stop_words]  # 불용어처리\n",
    "        under2_text = [token for token in stopped_text if (len(token)>2 or ('vr' in token))]\n",
    "        line.append(under2_text)\n",
    "    preprocessed_text.append(line)\n",
    "\n",
    "lemmatized_pos_text = []\n",
    "for i in range(0, len(preprocessed_text)):\n",
    "    lemmatized_pos_text.append(lemmatization_using_pos_tagger.pos_tag(preprocessed_text[i]))        # pos_tag 방식으로 표제어추출\n",
    "lemmatized_pos_text[0][0][0]\n",
    "# len(lemmatized_pos_text)"
   ]
  },
  {
   "cell_type": "code",
   "execution_count": 11,
   "metadata": {},
   "outputs": [
    {
     "data": {
      "text/plain": [
       "235"
      ]
     },
     "execution_count": 11,
     "metadata": {},
     "output_type": "execute_result"
    }
   ],
   "source": [
    "token_list = []\n",
    "for i in range(0, len(lemmatized_pos_text)):\n",
    "    line = []\n",
    "    for j in range(0, len(lemmatized_pos_text[i])):\n",
    "        token = []\n",
    "        for k in range(0, len(lemmatized_pos_text[i][j])):\n",
    "            if (len(lemmatized_pos_text[i][j][k][1])>2 or ('vr' in lemmatized_pos_text[i][j][k][1])):\n",
    "#                 print(lemmatized_pos_text[i][j][k][1])\n",
    "                token.append(lemmatized_pos_text[i][j][k][1])\n",
    "        line.append(token)\n",
    "    token_list.append(line)\n",
    "\n",
    "token_list[0]\n",
    "len(token_list)\n",
    "\n",
    "# token_list -> 정규화, 토큰화, 불용어, 표제어추출까지 됨"
   ]
  },
  {
   "cell_type": "code",
   "execution_count": 12,
   "metadata": {},
   "outputs": [
    {
     "data": {
      "text/plain": [
       "235"
      ]
     },
     "execution_count": 12,
     "metadata": {},
     "output_type": "execute_result"
    }
   ],
   "source": [
    "token_forTF = []\n",
    "for i in range(0, len(token_list)):\n",
    "    line = []\n",
    "    for j in range(0, len(token_list[i])):\n",
    "        line.append(\" \".join(token_list[i][j]))\n",
    "    token_forTF.append(\" \".join(line))\n",
    "token_forTF  # list 형식, 한 셀에 패러그래프 그대로 들어가있음\n",
    "\n",
    "token_word = [tokenizer.tokenize(token) for token in token_forTF]  # list 형식, 한 셀에 패러그래프 token화 된 거 들어 있음\n",
    "# token_word\n",
    "# token_forTF\n",
    "len(token_forTF)"
   ]
  },
  {
   "cell_type": "code",
   "execution_count": null,
   "metadata": {},
   "outputs": [],
   "source": []
  },
  {
   "cell_type": "markdown",
   "metadata": {},
   "source": [
    "Parser -> scispacy 기반"
   ]
  },
  {
   "cell_type": "code",
   "execution_count": 13,
   "metadata": {},
   "outputs": [],
   "source": [
    "import string\n",
    "\n",
    "punctuations = string.punctuation"
   ]
  },
  {
   "cell_type": "code",
   "execution_count": 14,
   "metadata": {},
   "outputs": [],
   "source": [
    "from tqdm import tqdm\n",
    "import scispacy\n",
    "import spacy\n",
    "import en_core_sci_lg\n",
    "\n",
    "parser = en_core_sci_lg.load(disable=[\"tagger\", \"ner\"])\n",
    "parser.max_length = 700000\n",
    "\n",
    "def spacy_tokenizer(sentence):\n",
    "    mytokens = parser(sentence)\n",
    "    mytokens = [ word.lemma_.lower().strip() if word.lemma_ != \"-PRON-\" else word.lower_ for word in mytokens ]\n",
    "    mytokens = [ word for word in mytokens if word not in stop_words and word not in punctuations ]\n",
    "    mytokens = \" \".join([i for i in mytokens])\n",
    "    return mytokens"
   ]
  },
  {
   "cell_type": "code",
   "execution_count": 15,
   "metadata": {},
   "outputs": [
    {
     "name": "stderr",
     "output_type": "stream",
     "text": [
      "C:\\Users\\Euisung\\anaconda3\\lib\\site-packages\\tqdm\\std.py:658: FutureWarning: The Panel class is removed from pandas. Accessing it from the top-level namespace will also be removed in the next version\n",
      "  from pandas import Panel\n",
      "100%|██████████| 235/235 [00:04<00:00, 53.34it/s]\n"
     ]
    }
   ],
   "source": [
    "tqdm.pandas()\n",
    "df_nullout['Preprocessed_text'] = df_nullout['Text'].progress_apply(spacy_tokenizer)"
   ]
  },
  {
   "cell_type": "code",
   "execution_count": 16,
   "metadata": {},
   "outputs": [
    {
     "data": {
      "text/plain": [
       "count    235.000000\n",
       "mean     209.157447\n",
       "std       81.317915\n",
       "min       45.000000\n",
       "25%      161.000000\n",
       "50%      207.000000\n",
       "75%      248.500000\n",
       "max      805.000000\n",
       "Name: abstract_word_count, dtype: float64"
      ]
     },
     "execution_count": 16,
     "metadata": {},
     "output_type": "execute_result"
    },
    {
     "data": {
      "image/png": "[encoded data removed]",
      "text/plain": [
       "<Figure size 432x288 with 1 Axes>"
      ]
     },
     "metadata": {
      "needs_background": "light"
     },
     "output_type": "display_data"
    }
   ],
   "source": [
    "import seaborn as sns\n",
    "\n",
    "df_nullout['abstract_word_count'] = df_nullout['Text'].apply(lambda x: len(x.strip().split()))\n",
    "\n",
    "sns.distplot(df_nullout['abstract_word_count'])\n",
    "df_nullout['abstract_word_count'].describe()"
   ]
  },
  {
   "cell_type": "code",
   "execution_count": 17,
   "metadata": {},
   "outputs": [],
   "source": [
    "def vectorize(text, maxx_features):\n",
    "    \n",
    "    vectorizer = TfidfVectorizer(max_features=maxx_features)\n",
    "    X = vectorizer.fit_transform(text)\n",
    "    return X"
   ]
  },
  {
   "cell_type": "code",
   "execution_count": 18,
   "metadata": {},
   "outputs": [
    {
     "data": {
      "text/plain": [
       "(235, 300)"
      ]
     },
     "execution_count": 18,
     "metadata": {},
     "output_type": "execute_result"
    }
   ],
   "source": [
    "scispacy_text = df_nullout['Preprocessed_text'].values\n",
    "X_t = vectorize(scispacy_text, 300)\n",
    "X_t.shape"
   ]
  },
  {
   "cell_type": "code",
   "execution_count": 19,
   "metadata": {},
   "outputs": [
    {
     "data": {
      "text/plain": [
       "(235, 142)"
      ]
     },
     "execution_count": 19,
     "metadata": {},
     "output_type": "execute_result"
    }
   ],
   "source": [
    "from sklearn.decomposition import PCA\n",
    "from sklearn.preprocessing import StandardScaler\n",
    "\n",
    "pca = PCA(n_components=0.95, random_state=42)\n",
    "X_reduced= pca.fit_transform(X_t.toarray())\n",
    "X_reduced.shape\n",
    "\n",
    "# scaler = StandardScaler()\n",
    "# scaler.fit_transform(X_reduced)"
   ]
  },
  {
   "cell_type": "code",
   "execution_count": 20,
   "metadata": {},
   "outputs": [
    {
     "data": {
      "image/png": "[encoded data removed]",
      "text/plain": [
       "<Figure size 432x288 with 1 Axes>"
      ]
     },
     "metadata": {
      "needs_background": "light"
     },
     "output_type": "display_data"
    }
   ],
   "source": [
    "from sklearn.cluster import KMeans\n",
    "from sklearn import metrics\n",
    "from scipy.spatial.distance import cdist\n",
    "\n",
    "# run kmeans with many different k\n",
    "distortions = []\n",
    "K = range(2, 50)\n",
    "for k in K:\n",
    "    k_means = KMeans(n_clusters=k, random_state=42).fit(X_reduced)\n",
    "    k_means.fit(X_reduced)\n",
    "    distortions.append(sum(np.min(cdist(X_reduced, k_means.cluster_centers_, 'euclidean'), axis=1)) / X_t.shape[0])\n",
    "    #print('Found distortion for {} clusters'.format(k))\n",
    "    \n",
    "\n",
    "X_line = [K[0], K[-1]]\n",
    "Y_line = [distortions[0], distortions[-1]]\n",
    "\n",
    "# Plot the elbow\n",
    "plt.plot(K, distortions, 'b-')\n",
    "plt.plot(X_line, Y_line, 'r')\n",
    "plt.xlabel('k')\n",
    "plt.ylabel('Distortion')\n",
    "plt.title('The Elbow Method showing the optimal k')\n",
    "plt.show()"
   ]
  },
  {
   "cell_type": "code",
   "execution_count": 49,
   "metadata": {},
   "outputs": [
    {
     "name": "stdout",
     "output_type": "stream",
     "text": [
      "총 문서 수 : 235\n",
      "예측값 분포\n",
      "0    123\n",
      "1    112\n",
      "Name: y, dtype: int64\n",
      "Label=1, 예측값 분포\n",
      "1    11\n",
      "Name: y, dtype: int64\n"
     ]
    },
    {
     "data": {
      "text/html": [
       "<div>\n",
       "<style scoped>\n",
       "    .dataframe tbody tr th:only-of-type {\n",
       "        vertical-align: middle;\n",
       "    }\n",
       "\n",
       "    .dataframe tbody tr th {\n",
       "        vertical-align: top;\n",
       "    }\n",
       "\n",
       "    .dataframe thead th {\n",
       "        text-align: right;\n",
       "    }\n",
       "</style>\n",
       "<table border=\"1\" class=\"dataframe\">\n",
       "  <thead>\n",
       "    <tr style=\"text-align: right;\">\n",
       "      <th></th>\n",
       "      <th>Title</th>\n",
       "      <th>Abstract</th>\n",
       "      <th>Text</th>\n",
       "      <th>Label</th>\n",
       "      <th>Preprocessed_text</th>\n",
       "      <th>abstract_word_count</th>\n",
       "      <th>y</th>\n",
       "      <th>Similarity</th>\n",
       "    </tr>\n",
       "  </thead>\n",
       "  <tbody>\n",
       "    <tr>\n",
       "      <th>30</th>\n",
       "      <td>Cognitive-behavioral treatment and antidepressants combined with virtual reality exposure for pa...</td>\n",
       "      <td>In this study we compared the efficacy of virtual reality exposure combined with cognitive-behav...</td>\n",
       "      <td>Cognitive-behavioral treatment and antidepressants combined with virtual reality exposure for pa...</td>\n",
       "      <td>1.0</td>\n",
       "      <td>cognitive-behavioral treatment antidepressant combine virtual reality exposure patient chronic a...</td>\n",
       "      <td>177</td>\n",
       "      <td>1</td>\n",
       "      <td>0.114094</td>\n",
       "    </tr>\n",
       "    <tr>\n",
       "      <th>31</th>\n",
       "      <td>The combined use of virtual reality exposure in the treatment of agoraphobia.</td>\n",
       "      <td>Introduction. This study compares the differential efficacy of three groups of treatments for ag...</td>\n",
       "      <td>The combined use of virtual reality exposure in the treatment of agoraphobia.. Introduction. Thi...</td>\n",
       "      <td>1.0</td>\n",
       "      <td>combine use virtual reality exposure treatment agoraphobia .. introduction compare differential ...</td>\n",
       "      <td>145</td>\n",
       "      <td>1</td>\n",
       "      <td>0.133858</td>\n",
       "    </tr>\n",
       "    <tr>\n",
       "      <th>36</th>\n",
       "      <td>A controlled study of agoraphobia and the independent effect of virtual reality exposure therapy.</td>\n",
       "      <td>OBJECTIVES: Past controlled clinical trials centred on virtual reality exposure therapy (VRET) f...</td>\n",
       "      <td>A controlled study of agoraphobia and the independent effect of virtual reality exposure therapy...</td>\n",
       "      <td>1.0</td>\n",
       "      <td>control agoraphobia independent effect virtual reality exposure therapy .. objectives past contr...</td>\n",
       "      <td>163</td>\n",
       "      <td>1</td>\n",
       "      <td>0.150685</td>\n",
       "    </tr>\n",
       "    <tr>\n",
       "      <th>61</th>\n",
       "      <td>Effectiveness of cognitive behavioral therapy integrated with systematic desensitization, cognit...</td>\n",
       "      <td>The purpose of the research was to compare the effectiveness of the following treatment methods ...</td>\n",
       "      <td>Effectiveness of cognitive behavioral therapy integrated with systematic desensitization, cognit...</td>\n",
       "      <td>1.0</td>\n",
       "      <td>effectiveness cognitive behavioral therapy integrate systematic desensitization cognitive behavi...</td>\n",
       "      <td>207</td>\n",
       "      <td>1</td>\n",
       "      <td>0.207407</td>\n",
       "    </tr>\n",
       "    <tr>\n",
       "      <th>81</th>\n",
       "      <td>Exposure to virtual social interactions in the treatment of social anxiety disorder: A randomize...</td>\n",
       "      <td>This randomized controlled trial investigated the efficacy of a stand-alone virtual reality expo...</td>\n",
       "      <td>Exposure to virtual social interactions in the treatment of social anxiety disorder: A randomize...</td>\n",
       "      <td>1.0</td>\n",
       "      <td>exposure virtual social interaction treatment social anxiety disorder randomize control trial .....</td>\n",
       "      <td>224</td>\n",
       "      <td>1</td>\n",
       "      <td>0.211921</td>\n",
       "    </tr>\n",
       "    <tr>\n",
       "      <th>111</th>\n",
       "      <td>In Vivo versus augmented reality exposure in the treatment of small animal phobia: A randomized ...</td>\n",
       "      <td>Although in vivo exposure is the treatment of choice for specific phobias, some acceptability pr...</td>\n",
       "      <td>In Vivo versus augmented reality exposure in the treatment of small animal phobia: A randomized ...</td>\n",
       "      <td>1.0</td>\n",
       "      <td>vivo versus augment reality exposure treatment small animal phobia randomize control trial .. al...</td>\n",
       "      <td>284</td>\n",
       "      <td>1</td>\n",
       "      <td>0.145455</td>\n",
       "    </tr>\n",
       "    <tr>\n",
       "      <th>134</th>\n",
       "      <td>One session treatment of cognitive and behavioral therapy and virtual reality for social and spe...</td>\n",
       "      <td>This randomized clinical trial aimed to investigate the efficacy of one session treatment of VRC...</td>\n",
       "      <td>One session treatment of cognitive and behavioral therapy and virtual reality for social and spe...</td>\n",
       "      <td>1.0</td>\n",
       "      <td>one session treatment cognitive behavioral therapy virtual reality social specific phobia prelim...</td>\n",
       "      <td>160</td>\n",
       "      <td>1</td>\n",
       "      <td>0.170543</td>\n",
       "    </tr>\n",
       "    <tr>\n",
       "      <th>208</th>\n",
       "      <td>Virtual reality compared with in vivo exposure in the treatment of social anxiety disorder: a th...</td>\n",
       "      <td>BackgroundPeople with social anxiety disorder (SAD) fear social interactions and may be reluctan...</td>\n",
       "      <td>Virtual reality compared with in vivo exposure in the treatment of social anxiety disorder: a th...</td>\n",
       "      <td>1.0</td>\n",
       "      <td>virtual reality compare vivo exposure treatment social anxiety disorder three-arm randomise cont...</td>\n",
       "      <td>216</td>\n",
       "      <td>1</td>\n",
       "      <td>0.232394</td>\n",
       "    </tr>\n",
       "    <tr>\n",
       "      <th>214</th>\n",
       "      <td>Virtual reality exposure therapy does not provide any additional value in agoraphobic patients: ...</td>\n",
       "      <td>Background: A number of studies have demonstrated the efficacy of virtual reality exposure thera...</td>\n",
       "      <td>Virtual reality exposure therapy does not provide any additional value in agoraphobic patients: ...</td>\n",
       "      <td>1.0</td>\n",
       "      <td>virtual reality exposure therapy doe provide additional value agoraphobic patient randomize cont...</td>\n",
       "      <td>271</td>\n",
       "      <td>1</td>\n",
       "      <td>0.209150</td>\n",
       "    </tr>\n",
       "    <tr>\n",
       "      <th>215</th>\n",
       "      <td>Virtual reality exposure therapy for social anxiety disorder: a randomized controlled trial.</td>\n",
       "      <td>OBJECTIVE: This is the first randomized trial comparing virtual reality exposure therapy to in v...</td>\n",
       "      <td>Virtual reality exposure therapy for social anxiety disorder: a randomized controlled trial.. OB...</td>\n",
       "      <td>1.0</td>\n",
       "      <td>virtual reality exposure therapy social anxiety disorder randomize control trial .. objective ﻿1...</td>\n",
       "      <td>255</td>\n",
       "      <td>1</td>\n",
       "      <td>1.000000</td>\n",
       "    </tr>\n",
       "    <tr>\n",
       "      <th>217</th>\n",
       "      <td>Virtual reality exposure therapy versus cognitive behavior therapy for panic disorder with agora...</td>\n",
       "      <td>our objective was to compare the effects of Virtual reality exposure therapy (VrEt), cognitive b...</td>\n",
       "      <td>Virtual reality exposure therapy versus cognitive behavior therapy for panic disorder with agora...</td>\n",
       "      <td>1.0</td>\n",
       "      <td>virtual reality exposure therapy versus cognitive behavior therapy panic disorder agoraphobia ra...</td>\n",
       "      <td>168</td>\n",
       "      <td>1</td>\n",
       "      <td>0.151079</td>\n",
       "    </tr>\n",
       "  </tbody>\n",
       "</table>\n",
       "</div>"
      ],
      "text/plain": [
       "                                                                                                   Title  \\\n",
       "30   Cognitive-behavioral treatment and antidepressants combined with virtual reality exposure for pa...   \n",
       "31                         The combined use of virtual reality exposure in the treatment of agoraphobia.   \n",
       "36     A controlled study of agoraphobia and the independent effect of virtual reality exposure therapy.   \n",
       "61   Effectiveness of cognitive behavioral therapy integrated with systematic desensitization, cognit...   \n",
       "81   Exposure to virtual social interactions in the treatment of social anxiety disorder: A randomize...   \n",
       "111  In Vivo versus augmented reality exposure in the treatment of small animal phobia: A randomized ...   \n",
       "134  One session treatment of cognitive and behavioral therapy and virtual reality for social and spe...   \n",
       "208  Virtual reality compared with in vivo exposure in the treatment of social anxiety disorder: a th...   \n",
       "214  Virtual reality exposure therapy does not provide any additional value in agoraphobic patients: ...   \n",
       "215         Virtual reality exposure therapy for social anxiety disorder: a randomized controlled trial.   \n",
       "217  Virtual reality exposure therapy versus cognitive behavior therapy for panic disorder with agora...   \n",
       "\n",
       "                                                                                                Abstract  \\\n",
       "30   In this study we compared the efficacy of virtual reality exposure combined with cognitive-behav...   \n",
       "31   Introduction. This study compares the differential efficacy of three groups of treatments for ag...   \n",
       "36   OBJECTIVES: Past controlled clinical trials centred on virtual reality exposure therapy (VRET) f...   \n",
       "61   The purpose of the research was to compare the effectiveness of the following treatment methods ...   \n",
       "81   This randomized controlled trial investigated the efficacy of a stand-alone virtual reality expo...   \n",
       "111  Although in vivo exposure is the treatment of choice for specific phobias, some acceptability pr...   \n",
       "134  This randomized clinical trial aimed to investigate the efficacy of one session treatment of VRC...   \n",
       "208  BackgroundPeople with social anxiety disorder (SAD) fear social interactions and may be reluctan...   \n",
       "214  Background: A number of studies have demonstrated the efficacy of virtual reality exposure thera...   \n",
       "215  OBJECTIVE: This is the first randomized trial comparing virtual reality exposure therapy to in v...   \n",
       "217  our objective was to compare the effects of Virtual reality exposure therapy (VrEt), cognitive b...   \n",
       "\n",
       "                                                                                                    Text  \\\n",
       "30   Cognitive-behavioral treatment and antidepressants combined with virtual reality exposure for pa...   \n",
       "31   The combined use of virtual reality exposure in the treatment of agoraphobia.. Introduction. Thi...   \n",
       "36   A controlled study of agoraphobia and the independent effect of virtual reality exposure therapy...   \n",
       "61   Effectiveness of cognitive behavioral therapy integrated with systematic desensitization, cognit...   \n",
       "81   Exposure to virtual social interactions in the treatment of social anxiety disorder: A randomize...   \n",
       "111  In Vivo versus augmented reality exposure in the treatment of small animal phobia: A randomized ...   \n",
       "134  One session treatment of cognitive and behavioral therapy and virtual reality for social and spe...   \n",
       "208  Virtual reality compared with in vivo exposure in the treatment of social anxiety disorder: a th...   \n",
       "214  Virtual reality exposure therapy does not provide any additional value in agoraphobic patients: ...   \n",
       "215  Virtual reality exposure therapy for social anxiety disorder: a randomized controlled trial.. OB...   \n",
       "217  Virtual reality exposure therapy versus cognitive behavior therapy for panic disorder with agora...   \n",
       "\n",
       "     Label  \\\n",
       "30     1.0   \n",
       "31     1.0   \n",
       "36     1.0   \n",
       "61     1.0   \n",
       "81     1.0   \n",
       "111    1.0   \n",
       "134    1.0   \n",
       "208    1.0   \n",
       "214    1.0   \n",
       "215    1.0   \n",
       "217    1.0   \n",
       "\n",
       "                                                                                       Preprocessed_text  \\\n",
       "30   cognitive-behavioral treatment antidepressant combine virtual reality exposure patient chronic a...   \n",
       "31   combine use virtual reality exposure treatment agoraphobia .. introduction compare differential ...   \n",
       "36   control agoraphobia independent effect virtual reality exposure therapy .. objectives past contr...   \n",
       "61   effectiveness cognitive behavioral therapy integrate systematic desensitization cognitive behavi...   \n",
       "81   exposure virtual social interaction treatment social anxiety disorder randomize control trial .....   \n",
       "111  vivo versus augment reality exposure treatment small animal phobia randomize control trial .. al...   \n",
       "134  one session treatment cognitive behavioral therapy virtual reality social specific phobia prelim...   \n",
       "208  virtual reality compare vivo exposure treatment social anxiety disorder three-arm randomise cont...   \n",
       "214  virtual reality exposure therapy doe provide additional value agoraphobic patient randomize cont...   \n",
       "215  virtual reality exposure therapy social anxiety disorder randomize control trial .. objective ﻿1...   \n",
       "217  virtual reality exposure therapy versus cognitive behavior therapy panic disorder agoraphobia ra...   \n",
       "\n",
       "     abstract_word_count  y  Similarity  \n",
       "30                   177  1    0.114094  \n",
       "31                   145  1    0.133858  \n",
       "36                   163  1    0.150685  \n",
       "61                   207  1    0.207407  \n",
       "81                   224  1    0.211921  \n",
       "111                  284  1    0.145455  \n",
       "134                  160  1    0.170543  \n",
       "208                  216  1    0.232394  \n",
       "214                  271  1    0.209150  \n",
       "215                  255  1    1.000000  \n",
       "217                  168  1    0.151079  "
      ]
     },
     "execution_count": 49,
     "metadata": {},
     "output_type": "execute_result"
    }
   ],
   "source": [
    "k = 2\n",
    "kmeans = KMeans(n_clusters=k, random_state=42)\n",
    "y_pred = kmeans.fit_predict(X_reduced)\n",
    "df_nullout['y'] = y_pred\n",
    "# print(len(df_nullout[df_nullout['y'].isin(['1'])]))\n",
    "is_Label = df_nullout[df_nullout['Label'].isin(['1'])]\n",
    "sub_df = pd.DataFrame(is_Label)\n",
    "\n",
    "print('총 문서 수 : %d' % len(df_nullout))\n",
    "print('예측값 분포')\n",
    "print(df_nullout['y'].value_counts())\n",
    "print('Label=1, 예측값 분포')\n",
    "print(sub_df['y'].value_counts())\n",
    "df_nullout[df_nullout['Label'].isin(['1'])]\n",
    "# print(df_nullout[df_nullout['y'].isin(['2'])])"
   ]
  },
  {
   "cell_type": "code",
   "execution_count": 22,
   "metadata": {},
   "outputs": [
    {
     "name": "stdout",
     "output_type": "stream",
     "text": [
      "[t-SNE] Computing 234 nearest neighbors...\n",
      "[t-SNE] Indexed 235 samples in 0.000s...\n",
      "[t-SNE] Computed neighbors for 235 samples in 0.008s...\n",
      "[t-SNE] Computed conditional probabilities for sample 235 / 235\n",
      "[t-SNE] Mean sigma: 0.424400\n",
      "[t-SNE] KL divergence after 250 iterations with early exaggeration: 50.769211\n",
      "[t-SNE] KL divergence after 1000 iterations: 0.511878\n"
     ]
    }
   ],
   "source": [
    "from sklearn.manifold import TSNE\n",
    "\n",
    "tsne = TSNE(verbose=1, perplexity=100, random_state=42)\n",
    "X_embedded = tsne.fit_transform(X_t.toarray())"
   ]
  },
  {
   "cell_type": "code",
   "execution_count": 23,
   "metadata": {},
   "outputs": [
    {
     "data": {
      "image/png": "[encoded data removed]",
      "text/plain": [
       "<Figure size 1080x1080 with 1 Axes>"
      ]
     },
     "metadata": {},
     "output_type": "display_data"
    }
   ],
   "source": [
    "%matplotlib inline\n",
    "\n",
    "# sns settings\n",
    "sns.set(rc={'figure.figsize':(15,15)})\n",
    "\n",
    "# colors\n",
    "palette = sns.hls_palette(k, l=.4, s=.9)\n",
    "\n",
    "# plot\n",
    "sns.scatterplot(X_embedded[:,0], X_embedded[:,1], hue=y_pred, legend='full', palette=palette)\n",
    "plt.title('t-SNE with Kmeans Labels')\n",
    "plt.savefig(\"improved_cluster_tsne.png\")\n",
    "plt.show()"
   ]
  },
  {
   "cell_type": "code",
   "execution_count": 24,
   "metadata": {},
   "outputs": [],
   "source": [
    "vectorizers = []\n",
    "\n",
    "for ii in range(0, k):\n",
    "    # creating a vectorizer\n",
    "    vectorizers.append(CountVectorizer(min_df=5, max_df=0.9, stop_words=stop_words, lowercase=True, token_pattern='[a-zA-Z\\-][a-zA-Z\\-]{2,}'))\n"
   ]
  },
  {
   "cell_type": "code",
   "execution_count": 25,
   "metadata": {},
   "outputs": [
    {
     "data": {
      "text/plain": [
       "CountVectorizer(analyzer='word', binary=False, decode_error='strict',\n",
       "                dtype=<class 'numpy.int64'>, encoding='utf-8', input='content',\n",
       "                lowercase=True, max_df=0.9, max_features=None, min_df=5,\n",
       "                ngram_range=(1, 1), preprocessor=None,\n",
       "                stop_words=['i', 'me', 'my', 'myself', 'we', 'our', 'ours',\n",
       "                            'ourselves', 'you', \"you're\", \"you've\", \"you'll\",\n",
       "                            \"you'd\", 'your', 'yours', 'yourself', 'yourselves',\n",
       "                            'he', 'him', 'his', 'himself', 'she', \"she's\",\n",
       "                            'her', 'hers', 'herself', 'it', \"it's\", 'its',\n",
       "                            'itself', ...],\n",
       "                strip_accents=None, token_pattern='[a-zA-Z\\\\-][a-zA-Z\\\\-]{2,}',\n",
       "                tokenizer=None, vocabulary=None)"
      ]
     },
     "execution_count": 25,
     "metadata": {},
     "output_type": "execute_result"
    }
   ],
   "source": [
    "vectorizers[0]"
   ]
  },
  {
   "cell_type": "code",
   "execution_count": 26,
   "metadata": {},
   "outputs": [],
   "source": [
    "vectorized_data = []\n",
    "\n",
    "for current_cluster, cvec in enumerate(vectorizers):\n",
    "    try:\n",
    "        vectorized_data.append(cvec.fit_transform(df_nullout.loc[df_nullout['y'] == current_cluster, 'Preprocessed_text']))\n",
    "    except Exception as e:\n",
    "        print(\"Not enough instances in cluster: \" + str(current_cluster))\n",
    "        vectorized_data.append(None)"
   ]
  },
  {
   "cell_type": "code",
   "execution_count": 27,
   "metadata": {},
   "outputs": [
    {
     "data": {
      "text/plain": [
       "3"
      ]
     },
     "execution_count": 27,
     "metadata": {},
     "output_type": "execute_result"
    }
   ],
   "source": [
    "len(vectorized_data)"
   ]
  },
  {
   "cell_type": "code",
   "execution_count": 28,
   "metadata": {},
   "outputs": [
    {
     "data": {
      "text/plain": [
       "3"
      ]
     },
     "execution_count": 28,
     "metadata": {},
     "output_type": "execute_result"
    }
   ],
   "source": [
    "# number of topics per cluster\n",
    "NUM_TOPICS_PER_CLUSTER = 10\n",
    "\n",
    "lda_models = []\n",
    "for ii in range(0, k):\n",
    "    # Latent Dirichlet Allocation Model\n",
    "    lda = LatentDirichletAllocation(n_components=NUM_TOPICS_PER_CLUSTER, max_iter=10, learning_method='online',verbose=False, random_state=42)\n",
    "    lda_models.append(lda)\n",
    "    \n",
    "lda_models[0]\n",
    "len(lda_models)"
   ]
  },
  {
   "cell_type": "code",
   "execution_count": 29,
   "metadata": {},
   "outputs": [
    {
     "data": {
      "text/plain": [
       "3"
      ]
     },
     "execution_count": 29,
     "metadata": {},
     "output_type": "execute_result"
    }
   ],
   "source": [
    "clusters_lda_data = []\n",
    "\n",
    "for current_cluster, lda in enumerate(lda_models):\n",
    "    # print(\"Current Cluster: \" + str(current_cluster))\n",
    "    \n",
    "    if vectorized_data[current_cluster] != None:\n",
    "        clusters_lda_data.append((lda.fit_transform(vectorized_data[current_cluster])))\n",
    "len(clusters_lda_data)"
   ]
  },
  {
   "cell_type": "code",
   "execution_count": 30,
   "metadata": {},
   "outputs": [],
   "source": [
    "# Functions for printing keywords for each topic\n",
    "def selected_topics(model, vectorizer, top_n=3):\n",
    "    current_words = []\n",
    "    keywords = []\n",
    "    \n",
    "    for idx, topic in enumerate(model.components_):\n",
    "        words = [(vectorizer.get_feature_names()[i], topic[i]) for i in topic.argsort()[:-top_n - 1:-1]]\n",
    "        for word in words:\n",
    "            if word[0] not in current_words:\n",
    "                keywords.append(word)\n",
    "                current_words.append(word[0])\n",
    "                \n",
    "    keywords.sort(key = lambda x: x[1])  \n",
    "    keywords.reverse()\n",
    "    return_values = []\n",
    "    for ii in keywords:\n",
    "        return_values.append(ii[0])\n",
    "    return return_values"
   ]
  },
  {
   "cell_type": "code",
   "execution_count": 31,
   "metadata": {},
   "outputs": [],
   "source": [
    "all_keywords = []\n",
    "for current_vectorizer, lda in enumerate(lda_models):\n",
    "    # print(\"Current Cluster: \" + str(current_vectorizer))\n",
    "\n",
    "    if vectorized_data[current_vectorizer] != None:\n",
    "        all_keywords.append(selected_topics(lda, vectorizers[current_vectorizer]))"
   ]
  },
  {
   "cell_type": "code",
   "execution_count": 32,
   "metadata": {},
   "outputs": [
    {
     "data": {
      "text/plain": [
       "['virtual',\n",
       " 'balance',\n",
       " 'participant',\n",
       " 'associate',\n",
       " 'physical',\n",
       " 'old',\n",
       " 'postural',\n",
       " 'adult',\n",
       " 'elderly',\n",
       " 'group',\n",
       " 'significant',\n",
       " 'train',\n",
       " 'show',\n",
       " 'control',\n",
       " 'reality',\n",
       " 'pilot',\n",
       " 'result',\n",
       " 'effect']"
      ]
     },
     "execution_count": 32,
     "metadata": {},
     "output_type": "execute_result"
    }
   ],
   "source": [
    "all_keywords[0]"
   ]
  },
  {
   "cell_type": "code",
   "execution_count": 31,
   "metadata": {},
   "outputs": [],
   "source": [
    "excel_keyword= pd.DataFrame(all_keywords)\n",
    "excel_keyword.to_excel(excel_writer='topics1.xlsx')"
   ]
  },
  {
   "cell_type": "markdown",
   "metadata": {},
   "source": [
    "## 2nd step-wise clustering"
   ]
  },
  {
   "cell_type": "code",
   "execution_count": 32,
   "metadata": {},
   "outputs": [
    {
     "data": {
      "text/html": [
       "<div>\n",
       "<style scoped>\n",
       "    .dataframe tbody tr th:only-of-type {\n",
       "        vertical-align: middle;\n",
       "    }\n",
       "\n",
       "    .dataframe tbody tr th {\n",
       "        vertical-align: top;\n",
       "    }\n",
       "\n",
       "    .dataframe thead th {\n",
       "        text-align: right;\n",
       "    }\n",
       "</style>\n",
       "<table border=\"1\" class=\"dataframe\">\n",
       "  <thead>\n",
       "    <tr style=\"text-align: right;\">\n",
       "      <th></th>\n",
       "      <th>Title</th>\n",
       "      <th>Abstract</th>\n",
       "      <th>Text</th>\n",
       "      <th>Label</th>\n",
       "      <th>Preprocessed_text</th>\n",
       "      <th>abstract_word_count</th>\n",
       "      <th>y</th>\n",
       "    </tr>\n",
       "  </thead>\n",
       "  <tbody>\n",
       "    <tr>\n",
       "      <th>0</th>\n",
       "      <td>Acute anxiolytic effects of quetiapine during ...</td>\n",
       "      <td>Anxiety disorders are among the most frequent ...</td>\n",
       "      <td>Acute anxiolytic effects of quetiapine during ...</td>\n",
       "      <td>0.0</td>\n",
       "      <td>acute anxiolytic effect quetiapine virtual rea...</td>\n",
       "      <td>270</td>\n",
       "      <td>2</td>\n",
       "    </tr>\n",
       "    <tr>\n",
       "      <th>1</th>\n",
       "      <td>Auditory and visual 3D virtual reality therapy...</td>\n",
       "      <td>Background: Subjective tinnitus (ST) is a freq...</td>\n",
       "      <td>Auditory and visual 3D virtual reality therapy...</td>\n",
       "      <td>0.0</td>\n",
       "      <td>auditory visual 3d virtual reality therapy new...</td>\n",
       "      <td>249</td>\n",
       "      <td>2</td>\n",
       "    </tr>\n",
       "    <tr>\n",
       "      <th>2</th>\n",
       "      <td>Augmentation of cognitive and behavioural ther...</td>\n",
       "      <td>Background: A significant number of patients w...</td>\n",
       "      <td>Augmentation of cognitive and behavioural ther...</td>\n",
       "      <td>0.0</td>\n",
       "      <td>augmentation cognitive behavioural therapy cbt...</td>\n",
       "      <td>805</td>\n",
       "      <td>2</td>\n",
       "    </tr>\n",
       "    <tr>\n",
       "      <th>3</th>\n",
       "      <td>Augmentation of exposure therapy with post-ses...</td>\n",
       "      <td>BACKGROUND: Pre-session administration of d-cy...</td>\n",
       "      <td>Augmentation of exposure therapy with post-ses...</td>\n",
       "      <td>0.0</td>\n",
       "      <td>augmentation exposure therapy post-session adm...</td>\n",
       "      <td>257</td>\n",
       "      <td>2</td>\n",
       "    </tr>\n",
       "    <tr>\n",
       "      <th>4</th>\n",
       "      <td>Baseline psychophysiological and cortisol reac...</td>\n",
       "      <td>Baseline cue-dependent physiological reactivit...</td>\n",
       "      <td>Baseline psychophysiological and cortisol reac...</td>\n",
       "      <td>0.0</td>\n",
       "      <td>baseline psychophysiological cortisol reactivi...</td>\n",
       "      <td>256</td>\n",
       "      <td>2</td>\n",
       "    </tr>\n",
       "    <tr>\n",
       "      <th>...</th>\n",
       "      <td>...</td>\n",
       "      <td>...</td>\n",
       "      <td>...</td>\n",
       "      <td>...</td>\n",
       "      <td>...</td>\n",
       "      <td>...</td>\n",
       "      <td>...</td>\n",
       "    </tr>\n",
       "    <tr>\n",
       "      <th>86</th>\n",
       "      <td>Virtual Reality Exposure Training for Musician...</td>\n",
       "      <td>Music performance anxiety affects numerous mus...</td>\n",
       "      <td>Virtual Reality Exposure Training for Musician...</td>\n",
       "      <td>0.0</td>\n",
       "      <td>virtual reality exposure training musicians ef...</td>\n",
       "      <td>197</td>\n",
       "      <td>2</td>\n",
       "    </tr>\n",
       "    <tr>\n",
       "      <th>87</th>\n",
       "      <td>Virtual reality exposure using three-dimension...</td>\n",
       "      <td>Objective: To test a potential treatment for s...</td>\n",
       "      <td>Virtual reality exposure using three-dimension...</td>\n",
       "      <td>0.0</td>\n",
       "      <td>virtual reality exposure use three-dimensional...</td>\n",
       "      <td>153</td>\n",
       "      <td>2</td>\n",
       "    </tr>\n",
       "    <tr>\n",
       "      <th>88</th>\n",
       "      <td>Virtual reality in the treatment of mental dis...</td>\n",
       "      <td>Virtual reality is a media allowing users to i...</td>\n",
       "      <td>Virtual reality in the treatment of mental dis...</td>\n",
       "      <td>0.0</td>\n",
       "      <td>virtual reality treatment mental disorder .. v...</td>\n",
       "      <td>190</td>\n",
       "      <td>2</td>\n",
       "    </tr>\n",
       "    <tr>\n",
       "      <th>89</th>\n",
       "      <td>A virtual reality-integrated program for impro...</td>\n",
       "      <td>Background and objectives: Social skills train...</td>\n",
       "      <td>A virtual reality-integrated program for impro...</td>\n",
       "      <td>0.0</td>\n",
       "      <td>virtual reality-integrated program improve soc...</td>\n",
       "      <td>260</td>\n",
       "      <td>2</td>\n",
       "    </tr>\n",
       "    <tr>\n",
       "      <th>90</th>\n",
       "      <td>Yohimbine enhancement of exposure therapy for ...</td>\n",
       "      <td>Background Preclinical and clinical trials sug...</td>\n",
       "      <td>Yohimbine enhancement of exposure therapy for ...</td>\n",
       "      <td>0.0</td>\n",
       "      <td>yohimbine enhancement exposure therapy social ...</td>\n",
       "      <td>266</td>\n",
       "      <td>2</td>\n",
       "    </tr>\n",
       "  </tbody>\n",
       "</table>\n",
       "<p>91 rows × 7 columns</p>\n",
       "</div>"
      ],
      "text/plain": [
       "                                                Title  \\\n",
       "0   Acute anxiolytic effects of quetiapine during ...   \n",
       "1   Auditory and visual 3D virtual reality therapy...   \n",
       "2   Augmentation of cognitive and behavioural ther...   \n",
       "3   Augmentation of exposure therapy with post-ses...   \n",
       "4   Baseline psychophysiological and cortisol reac...   \n",
       "..                                                ...   \n",
       "86  Virtual Reality Exposure Training for Musician...   \n",
       "87  Virtual reality exposure using three-dimension...   \n",
       "88  Virtual reality in the treatment of mental dis...   \n",
       "89  A virtual reality-integrated program for impro...   \n",
       "90  Yohimbine enhancement of exposure therapy for ...   \n",
       "\n",
       "                                             Abstract  \\\n",
       "0   Anxiety disorders are among the most frequent ...   \n",
       "1   Background: Subjective tinnitus (ST) is a freq...   \n",
       "2   Background: A significant number of patients w...   \n",
       "3   BACKGROUND: Pre-session administration of d-cy...   \n",
       "4   Baseline cue-dependent physiological reactivit...   \n",
       "..                                                ...   \n",
       "86  Music performance anxiety affects numerous mus...   \n",
       "87  Objective: To test a potential treatment for s...   \n",
       "88  Virtual reality is a media allowing users to i...   \n",
       "89  Background and objectives: Social skills train...   \n",
       "90  Background Preclinical and clinical trials sug...   \n",
       "\n",
       "                                                 Text  Label  \\\n",
       "0   Acute anxiolytic effects of quetiapine during ...    0.0   \n",
       "1   Auditory and visual 3D virtual reality therapy...    0.0   \n",
       "2   Augmentation of cognitive and behavioural ther...    0.0   \n",
       "3   Augmentation of exposure therapy with post-ses...    0.0   \n",
       "4   Baseline psychophysiological and cortisol reac...    0.0   \n",
       "..                                                ...    ...   \n",
       "86  Virtual Reality Exposure Training for Musician...    0.0   \n",
       "87  Virtual reality exposure using three-dimension...    0.0   \n",
       "88  Virtual reality in the treatment of mental dis...    0.0   \n",
       "89  A virtual reality-integrated program for impro...    0.0   \n",
       "90  Yohimbine enhancement of exposure therapy for ...    0.0   \n",
       "\n",
       "                                    Preprocessed_text  abstract_word_count  y  \n",
       "0   acute anxiolytic effect quetiapine virtual rea...                  270  2  \n",
       "1   auditory visual 3d virtual reality therapy new...                  249  2  \n",
       "2   augmentation cognitive behavioural therapy cbt...                  805  2  \n",
       "3   augmentation exposure therapy post-session adm...                  257  2  \n",
       "4   baseline psychophysiological cortisol reactivi...                  256  2  \n",
       "..                                                ...                  ... ..  \n",
       "86  virtual reality exposure training musicians ef...                  197  2  \n",
       "87  virtual reality exposure use three-dimensional...                  153  2  \n",
       "88  virtual reality treatment mental disorder .. v...                  190  2  \n",
       "89  virtual reality-integrated program improve soc...                  260  2  \n",
       "90  yohimbine enhancement exposure therapy social ...                  266  2  \n",
       "\n",
       "[91 rows x 7 columns]"
      ]
     },
     "execution_count": 32,
     "metadata": {},
     "output_type": "execute_result"
    }
   ],
   "source": [
    "cluster_list = {2}\n",
    "is_stepwise = df_nullout['y'].isin(cluster_list)\n",
    "is_stepwise\n",
    "df_second_step = df_nullout[is_stepwise].reset_index().drop('index', axis=1)\n",
    "df_second_step"
   ]
  },
  {
   "cell_type": "code",
   "execution_count": 33,
   "metadata": {},
   "outputs": [
    {
     "data": {
      "text/plain": [
       "(91, 300)"
      ]
     },
     "execution_count": 33,
     "metadata": {},
     "output_type": "execute_result"
    }
   ],
   "source": [
    "scispacy_text_2 = df_second_step['Preprocessed_text'].values\n",
    "X_t2 = vectorize(scispacy_text_2, 300)\n",
    "X_t2.shape"
   ]
  },
  {
   "cell_type": "code",
   "execution_count": 34,
   "metadata": {},
   "outputs": [
    {
     "data": {
      "text/plain": [
       "(91, 70)"
      ]
     },
     "execution_count": 34,
     "metadata": {},
     "output_type": "execute_result"
    }
   ],
   "source": [
    "from sklearn.decomposition import PCA\n",
    "from sklearn.preprocessing import StandardScaler\n",
    "\n",
    "pca = PCA(n_components=0.95, random_state=42)\n",
    "X_reduced2= pca.fit_transform(X_t2.toarray())\n",
    "X_reduced2.shape\n",
    "\n",
    "# scaler = StandardScaler()\n",
    "# scaler.fit_transform(X_reduced)"
   ]
  },
  {
   "cell_type": "code",
   "execution_count": 39,
   "metadata": {},
   "outputs": [
    {
     "name": "stdout",
     "output_type": "stream",
     "text": [
      "총 문서 수 : 91\n",
      "예측값 분포\n",
      "0    59\n",
      "1    32\n",
      "Name: y, dtype: int64\n",
      "Label=1, 예측값 분포\n",
      "0    10\n",
      "1     1\n",
      "Name: y, dtype: int64\n"
     ]
    },
    {
     "data": {
      "text/html": [
       "<div>\n",
       "<style scoped>\n",
       "    .dataframe tbody tr th:only-of-type {\n",
       "        vertical-align: middle;\n",
       "    }\n",
       "\n",
       "    .dataframe tbody tr th {\n",
       "        vertical-align: top;\n",
       "    }\n",
       "\n",
       "    .dataframe thead th {\n",
       "        text-align: right;\n",
       "    }\n",
       "</style>\n",
       "<table border=\"1\" class=\"dataframe\">\n",
       "  <thead>\n",
       "    <tr style=\"text-align: right;\">\n",
       "      <th></th>\n",
       "      <th>Title</th>\n",
       "      <th>Abstract</th>\n",
       "      <th>Text</th>\n",
       "      <th>Label</th>\n",
       "      <th>Preprocessed_text</th>\n",
       "      <th>abstract_word_count</th>\n",
       "      <th>y</th>\n",
       "    </tr>\n",
       "  </thead>\n",
       "  <tbody>\n",
       "    <tr>\n",
       "      <th>9</th>\n",
       "      <td>Cognitive-behavioral treatment and antidepress...</td>\n",
       "      <td>In this study we compared the efficacy of virt...</td>\n",
       "      <td>Cognitive-behavioral treatment and antidepress...</td>\n",
       "      <td>1.0</td>\n",
       "      <td>cognitive-behavioral treatment antidepressant ...</td>\n",
       "      <td>177</td>\n",
       "      <td>0</td>\n",
       "    </tr>\n",
       "    <tr>\n",
       "      <th>10</th>\n",
       "      <td>The combined use of virtual reality exposure i...</td>\n",
       "      <td>Introduction. This study compares the differen...</td>\n",
       "      <td>The combined use of virtual reality exposure i...</td>\n",
       "      <td>1.0</td>\n",
       "      <td>combine use virtual reality exposure treatment...</td>\n",
       "      <td>145</td>\n",
       "      <td>0</td>\n",
       "    </tr>\n",
       "    <tr>\n",
       "      <th>11</th>\n",
       "      <td>A controlled study of agoraphobia and the inde...</td>\n",
       "      <td>OBJECTIVES: Past controlled clinical trials ce...</td>\n",
       "      <td>A controlled study of agoraphobia and the inde...</td>\n",
       "      <td>1.0</td>\n",
       "      <td>control agoraphobia independent effect virtual...</td>\n",
       "      <td>163</td>\n",
       "      <td>0</td>\n",
       "    </tr>\n",
       "    <tr>\n",
       "      <th>19</th>\n",
       "      <td>Effectiveness of cognitive behavioral therapy ...</td>\n",
       "      <td>The purpose of the research was to compare the...</td>\n",
       "      <td>Effectiveness of cognitive behavioral therapy ...</td>\n",
       "      <td>1.0</td>\n",
       "      <td>effectiveness cognitive behavioral therapy int...</td>\n",
       "      <td>207</td>\n",
       "      <td>0</td>\n",
       "    </tr>\n",
       "    <tr>\n",
       "      <th>30</th>\n",
       "      <td>Exposure to virtual social interactions in the...</td>\n",
       "      <td>This randomized controlled trial investigated ...</td>\n",
       "      <td>Exposure to virtual social interactions in the...</td>\n",
       "      <td>1.0</td>\n",
       "      <td>exposure virtual social interaction treatment ...</td>\n",
       "      <td>224</td>\n",
       "      <td>0</td>\n",
       "    </tr>\n",
       "    <tr>\n",
       "      <th>41</th>\n",
       "      <td>In Vivo versus augmented reality exposure in t...</td>\n",
       "      <td>Although in vivo exposure is the treatment of ...</td>\n",
       "      <td>In Vivo versus augmented reality exposure in t...</td>\n",
       "      <td>1.0</td>\n",
       "      <td>vivo versus augment reality exposure treatment...</td>\n",
       "      <td>284</td>\n",
       "      <td>1</td>\n",
       "    </tr>\n",
       "    <tr>\n",
       "      <th>49</th>\n",
       "      <td>One session treatment of cognitive and behavio...</td>\n",
       "      <td>This randomized clinical trial aimed to invest...</td>\n",
       "      <td>One session treatment of cognitive and behavio...</td>\n",
       "      <td>1.0</td>\n",
       "      <td>one session treatment cognitive behavioral the...</td>\n",
       "      <td>160</td>\n",
       "      <td>0</td>\n",
       "    </tr>\n",
       "    <tr>\n",
       "      <th>78</th>\n",
       "      <td>Virtual reality compared with in vivo exposure...</td>\n",
       "      <td>BackgroundPeople with social anxiety disorder ...</td>\n",
       "      <td>Virtual reality compared with in vivo exposure...</td>\n",
       "      <td>1.0</td>\n",
       "      <td>virtual reality compare vivo exposure treatmen...</td>\n",
       "      <td>216</td>\n",
       "      <td>0</td>\n",
       "    </tr>\n",
       "    <tr>\n",
       "      <th>82</th>\n",
       "      <td>Virtual reality exposure therapy does not prov...</td>\n",
       "      <td>Background: A number of studies have demonstra...</td>\n",
       "      <td>Virtual reality exposure therapy does not prov...</td>\n",
       "      <td>1.0</td>\n",
       "      <td>virtual reality exposure therapy doe provide a...</td>\n",
       "      <td>271</td>\n",
       "      <td>0</td>\n",
       "    </tr>\n",
       "    <tr>\n",
       "      <th>83</th>\n",
       "      <td>Virtual reality exposure therapy for social an...</td>\n",
       "      <td>OBJECTIVE: This is the first randomized trial ...</td>\n",
       "      <td>Virtual reality exposure therapy for social an...</td>\n",
       "      <td>1.0</td>\n",
       "      <td>virtual reality exposure therapy social anxiet...</td>\n",
       "      <td>255</td>\n",
       "      <td>0</td>\n",
       "    </tr>\n",
       "    <tr>\n",
       "      <th>85</th>\n",
       "      <td>Virtual reality exposure therapy versus cognit...</td>\n",
       "      <td>our objective was to compare the effects of Vi...</td>\n",
       "      <td>Virtual reality exposure therapy versus cognit...</td>\n",
       "      <td>1.0</td>\n",
       "      <td>virtual reality exposure therapy versus cognit...</td>\n",
       "      <td>168</td>\n",
       "      <td>0</td>\n",
       "    </tr>\n",
       "  </tbody>\n",
       "</table>\n",
       "</div>"
      ],
      "text/plain": [
       "                                                Title  \\\n",
       "9   Cognitive-behavioral treatment and antidepress...   \n",
       "10  The combined use of virtual reality exposure i...   \n",
       "11  A controlled study of agoraphobia and the inde...   \n",
       "19  Effectiveness of cognitive behavioral therapy ...   \n",
       "30  Exposure to virtual social interactions in the...   \n",
       "41  In Vivo versus augmented reality exposure in t...   \n",
       "49  One session treatment of cognitive and behavio...   \n",
       "78  Virtual reality compared with in vivo exposure...   \n",
       "82  Virtual reality exposure therapy does not prov...   \n",
       "83  Virtual reality exposure therapy for social an...   \n",
       "85  Virtual reality exposure therapy versus cognit...   \n",
       "\n",
       "                                             Abstract  \\\n",
       "9   In this study we compared the efficacy of virt...   \n",
       "10  Introduction. This study compares the differen...   \n",
       "11  OBJECTIVES: Past controlled clinical trials ce...   \n",
       "19  The purpose of the research was to compare the...   \n",
       "30  This randomized controlled trial investigated ...   \n",
       "41  Although in vivo exposure is the treatment of ...   \n",
       "49  This randomized clinical trial aimed to invest...   \n",
       "78  BackgroundPeople with social anxiety disorder ...   \n",
       "82  Background: A number of studies have demonstra...   \n",
       "83  OBJECTIVE: This is the first randomized trial ...   \n",
       "85  our objective was to compare the effects of Vi...   \n",
       "\n",
       "                                                 Text  Label  \\\n",
       "9   Cognitive-behavioral treatment and antidepress...    1.0   \n",
       "10  The combined use of virtual reality exposure i...    1.0   \n",
       "11  A controlled study of agoraphobia and the inde...    1.0   \n",
       "19  Effectiveness of cognitive behavioral therapy ...    1.0   \n",
       "30  Exposure to virtual social interactions in the...    1.0   \n",
       "41  In Vivo versus augmented reality exposure in t...    1.0   \n",
       "49  One session treatment of cognitive and behavio...    1.0   \n",
       "78  Virtual reality compared with in vivo exposure...    1.0   \n",
       "82  Virtual reality exposure therapy does not prov...    1.0   \n",
       "83  Virtual reality exposure therapy for social an...    1.0   \n",
       "85  Virtual reality exposure therapy versus cognit...    1.0   \n",
       "\n",
       "                                    Preprocessed_text  abstract_word_count  y  \n",
       "9   cognitive-behavioral treatment antidepressant ...                  177  0  \n",
       "10  combine use virtual reality exposure treatment...                  145  0  \n",
       "11  control agoraphobia independent effect virtual...                  163  0  \n",
       "19  effectiveness cognitive behavioral therapy int...                  207  0  \n",
       "30  exposure virtual social interaction treatment ...                  224  0  \n",
       "41  vivo versus augment reality exposure treatment...                  284  1  \n",
       "49  one session treatment cognitive behavioral the...                  160  0  \n",
       "78  virtual reality compare vivo exposure treatmen...                  216  0  \n",
       "82  virtual reality exposure therapy doe provide a...                  271  0  \n",
       "83  virtual reality exposure therapy social anxiet...                  255  0  \n",
       "85  virtual reality exposure therapy versus cognit...                  168  0  "
      ]
     },
     "execution_count": 39,
     "metadata": {},
     "output_type": "execute_result"
    }
   ],
   "source": [
    "k = 2\n",
    "kmeans = KMeans(n_clusters=k, random_state=42)\n",
    "y_pred = kmeans.fit_predict(X_t2)\n",
    "df_second_step['y'] = y_pred\n",
    "# print(len(df_nullout[df_nullout['y'].isin(['1'])]))\n",
    "is_Label = df_second_step[df_second_step['Label'].isin(['1'])]\n",
    "sub_df = pd.DataFrame(is_Label)\n",
    "\n",
    "print('총 문서 수 : %d' % len(df_second_step))\n",
    "print('예측값 분포')\n",
    "print(df_second_step['y'].value_counts())\n",
    "print('Label=1, 예측값 분포')\n",
    "print(sub_df['y'].value_counts())\n",
    "df_second_step[df_second_step['Label'].isin(['1'])]\n",
    "# print(df_nullout[df_nullout['y'].isin(['2'])])"
   ]
  },
  {
   "cell_type": "markdown",
   "metadata": {},
   "source": [
    "# Interactive plotting"
   ]
  },
  {
   "cell_type": "markdown",
   "metadata": {},
   "source": [
    "클러스터별 키워드 추출"
   ]
  },
  {
   "cell_type": "code",
   "execution_count": 122,
   "metadata": {},
   "outputs": [],
   "source": [
    "f=open('topics.txt','w')\n",
    "\n",
    "count = 0\n",
    "\n",
    "for ii in all_keywords:\n",
    "\n",
    "    if vectorized_data[count] != None:\n",
    "        f.write(', '.join(ii) + \"\\n\")\n",
    "    else:\n",
    "        f.write(\"Not enough instances to be determined. \\n\")\n",
    "        f.write(', '.join(ii) + \"\\n\")\n",
    "    count += 1\n",
    "\n",
    "f.close()"
   ]
  },
  {
   "cell_type": "code",
   "execution_count": 98,
   "metadata": {},
   "outputs": [],
   "source": [
    "# required libraries for plot\n",
    "from call_backs import input_callback, selected_code  # file with customJS callbacks for bokeh\n",
    "                                                      # github.com/MaksimEkin/COVID19-Literature-Clustering/blob/master/lib/call_backs.py\n",
    "import bokeh\n",
    "from bokeh.models import ColumnDataSource, HoverTool, LinearColorMapper, CustomJS, Slider, TapTool, TextInput\n",
    "from bokeh.palettes import Category20\n",
    "from bokeh.transform import linear_cmap, transform\n",
    "from bokeh.io import output_file, show, output_notebook\n",
    "from bokeh.plotting import figure\n",
    "from bokeh.models import RadioButtonGroup, TextInput, Div, Paragraph\n",
    "from bokeh.layouts import column, widgetbox, row, layout\n",
    "from bokeh.layouts import column"
   ]
  },
  {
   "cell_type": "code",
   "execution_count": 99,
   "metadata": {},
   "outputs": [],
   "source": [
    "import os\n",
    "\n",
    "topic_path = 'topics.txt'\n",
    "with open(topic_path) as f:\n",
    "    topics = f.readlines()"
   ]
  },
  {
   "cell_type": "code",
   "execution_count": 100,
   "metadata": {},
   "outputs": [
    {
     "data": {
      "text/html": [
       "\n",
       "    <div class=\"bk-root\">\n",
       "        <a href=\"https://bokeh.org\" target=\"_blank\" class=\"bk-logo bk-logo-small bk-logo-notebook\"></a>\n",
       "        <span id=\"1210\">Loading BokehJS ...</span>\n",
       "    </div>"
      ]
     },
     "metadata": {},
     "output_type": "display_data"
    },
    {
     "data": {
      "application/javascript": [
       "\n",
       "(function(root) {\n",
       "  function now() {\n",
       "    return new Date();\n",
       "  }\n",
       "\n",
       "  var force = true;\n",
       "\n",
       "  if (typeof root._bokeh_onload_callbacks === \"undefined\" || force === true) {\n",
       "    root._bokeh_onload_callbacks = [];\n",
       "    root._bokeh_is_loading = undefined;\n",
       "  }\n",
       "\n",
       "  var JS_MIME_TYPE = 'application/javascript';\n",
       "  var HTML_MIME_TYPE = 'text/html';\n",
       "  var EXEC_MIME_TYPE = 'application/vnd.bokehjs_exec.v0+json';\n",
       "  var CLASS_NAME = 'output_bokeh rendered_html';\n",
       "\n",
       "  /**\n",
       "   * Render data to the DOM node\n",
       "   */\n",
       "  function render(props, node) {\n",
       "    var script = document.createElement(\"script\");\n",
       "    node.appendChild(script);\n",
       "  }\n",
       "\n",
       "  /**\n",
       "   * Handle when an output is cleared or removed\n",
       "   */\n",
       "  function handleClearOutput(event, handle) {\n",
       "    var cell = handle.cell;\n",
       "\n",
       "    var id = cell.output_area._bokeh_element_id;\n",
       "    var server_id = cell.output_area._bokeh_server_id;\n",
       "    // Clean up Bokeh references\n",
       "    if (id != null && id in Bokeh.index) {\n",
       "      Bokeh.index[id].model.document.clear();\n",
       "      delete Bokeh.index[id];\n",
       "    }\n",
       "\n",
       "    if (server_id !== undefined) {\n",
       "      // Clean up Bokeh references\n",
       "      var cmd = \"from bokeh.io.state import curstate; print(curstate().uuid_to_server['\" + server_id + \"'].get_sessions()[0].document.roots[0]._id)\";\n",
       "      cell.notebook.kernel.execute(cmd, {\n",
       "        iopub: {\n",
       "          output: function(msg) {\n",
       "            var id = msg.content.text.trim();\n",
       "            if (id in Bokeh.index) {\n",
       "              Bokeh.index[id].model.document.clear();\n",
       "              delete Bokeh.index[id];\n",
       "            }\n",
       "          }\n",
       "        }\n",
       "      });\n",
       "      // Destroy server and session\n",
       "      var cmd = \"import bokeh.io.notebook as ion; ion.destroy_server('\" + server_id + \"')\";\n",
       "      cell.notebook.kernel.execute(cmd);\n",
       "    }\n",
       "  }\n",
       "\n",
       "  /**\n",
       "   * Handle when a new output is added\n",
       "   */\n",
       "  function handleAddOutput(event, handle) {\n",
       "    var output_area = handle.output_area;\n",
       "    var output = handle.output;\n",
       "\n",
       "    // limit handleAddOutput to display_data with EXEC_MIME_TYPE content only\n",
       "    if ((output.output_type != \"display_data\") || (!output.data.hasOwnProperty(EXEC_MIME_TYPE))) {\n",
       "      return\n",
       "    }\n",
       "\n",
       "    var toinsert = output_area.element.find(\".\" + CLASS_NAME.split(' ')[0]);\n",
       "\n",
       "    if (output.metadata[EXEC_MIME_TYPE][\"id\"] !== undefined) {\n",
       "      toinsert[toinsert.length - 1].firstChild.textContent = output.data[JS_MIME_TYPE];\n",
       "      // store reference to embed id on output_area\n",
       "      output_area._bokeh_element_id = output.metadata[EXEC_MIME_TYPE][\"id\"];\n",
       "    }\n",
       "    if (output.metadata[EXEC_MIME_TYPE][\"server_id\"] !== undefined) {\n",
       "      var bk_div = document.createElement(\"div\");\n",
       "      bk_div.innerHTML = output.data[HTML_MIME_TYPE];\n",
       "      var script_attrs = bk_div.children[0].attributes;\n",
       "      for (var i = 0; i < script_attrs.length; i++) {\n",
       "        toinsert[toinsert.length - 1].firstChild.setAttribute(script_attrs[i].name, script_attrs[i].value);\n",
       "      }\n",
       "      // store reference to server id on output_area\n",
       "      output_area._bokeh_server_id = output.metadata[EXEC_MIME_TYPE][\"server_id\"];\n",
       "    }\n",
       "  }\n",
       "\n",
       "  function register_renderer(events, OutputArea) {\n",
       "\n",
       "    function append_mime(data, metadata, element) {\n",
       "      // create a DOM node to render to\n",
       "      var toinsert = this.create_output_subarea(\n",
       "        metadata,\n",
       "        CLASS_NAME,\n",
       "        EXEC_MIME_TYPE\n",
       "      );\n",
       "      this.keyboard_manager.register_events(toinsert);\n",
       "      // Render to node\n",
       "      var props = {data: data, metadata: metadata[EXEC_MIME_TYPE]};\n",
       "      render(props, toinsert[toinsert.length - 1]);\n",
       "      element.append(toinsert);\n",
       "      return toinsert\n",
       "    }\n",
       "\n",
       "    /* Handle when an output is cleared or removed */\n",
       "    events.on('clear_output.CodeCell', handleClearOutput);\n",
       "    events.on('delete.Cell', handleClearOutput);\n",
       "\n",
       "    /* Handle when a new output is added */\n",
       "    events.on('output_added.OutputArea', handleAddOutput);\n",
       "\n",
       "    /**\n",
       "     * Register the mime type and append_mime function with output_area\n",
       "     */\n",
       "    OutputArea.prototype.register_mime_type(EXEC_MIME_TYPE, append_mime, {\n",
       "      /* Is output safe? */\n",
       "      safe: true,\n",
       "      /* Index of renderer in `output_area.display_order` */\n",
       "      index: 0\n",
       "    });\n",
       "  }\n",
       "\n",
       "  // register the mime type if in Jupyter Notebook environment and previously unregistered\n",
       "  if (root.Jupyter !== undefined) {\n",
       "    var events = require('base/js/events');\n",
       "    var OutputArea = require('notebook/js/outputarea').OutputArea;\n",
       "\n",
       "    if (OutputArea.prototype.mime_types().indexOf(EXEC_MIME_TYPE) == -1) {\n",
       "      register_renderer(events, OutputArea);\n",
       "    }\n",
       "  }\n",
       "\n",
       "  \n",
       "  if (typeof (root._bokeh_timeout) === \"undefined\" || force === true) {\n",
       "    root._bokeh_timeout = Date.now() + 5000;\n",
       "    root._bokeh_failed_load = false;\n",
       "  }\n",
       "\n",
       "  var NB_LOAD_WARNING = {'data': {'text/html':\n",
       "     \"<div style='background-color: #fdd'>\\n\"+\n",
       "     \"<p>\\n\"+\n",
       "     \"BokehJS does not appear to have successfully loaded. If loading BokehJS from CDN, this \\n\"+\n",
       "     \"may be due to a slow or bad network connection. Possible fixes:\\n\"+\n",
       "     \"</p>\\n\"+\n",
       "     \"<ul>\\n\"+\n",
       "     \"<li>re-rerun `output_notebook()` to attempt to load from CDN again, or</li>\\n\"+\n",
       "     \"<li>use INLINE resources instead, as so:</li>\\n\"+\n",
       "     \"</ul>\\n\"+\n",
       "     \"<code>\\n\"+\n",
       "     \"from bokeh.resources import INLINE\\n\"+\n",
       "     \"output_notebook(resources=INLINE)\\n\"+\n",
       "     \"</code>\\n\"+\n",
       "     \"</div>\"}};\n",
       "\n",
       "  function display_loaded() {\n",
       "    var el = document.getElementById(\"1210\");\n",
       "    if (el != null) {\n",
       "      el.textContent = \"BokehJS is loading...\";\n",
       "    }\n",
       "    if (root.Bokeh !== undefined) {\n",
       "      if (el != null) {\n",
       "        el.textContent = \"BokehJS \" + root.Bokeh.version + \" successfully loaded.\";\n",
       "      }\n",
       "    } else if (Date.now() < root._bokeh_timeout) {\n",
       "      setTimeout(display_loaded, 100)\n",
       "    }\n",
       "  }\n",
       "\n",
       "\n",
       "  function run_callbacks() {\n",
       "    try {\n",
       "      root._bokeh_onload_callbacks.forEach(function(callback) {\n",
       "        if (callback != null)\n",
       "          callback();\n",
       "      });\n",
       "    } finally {\n",
       "      delete root._bokeh_onload_callbacks\n",
       "    }\n",
       "    console.debug(\"Bokeh: all callbacks have finished\");\n",
       "  }\n",
       "\n",
       "  function load_libs(css_urls, js_urls, callback) {\n",
       "    if (css_urls == null) css_urls = [];\n",
       "    if (js_urls == null) js_urls = [];\n",
       "\n",
       "    root._bokeh_onload_callbacks.push(callback);\n",
       "    if (root._bokeh_is_loading > 0) {\n",
       "      console.debug(\"Bokeh: BokehJS is being loaded, scheduling callback at\", now());\n",
       "      return null;\n",
       "    }\n",
       "    if (js_urls == null || js_urls.length === 0) {\n",
       "      run_callbacks();\n",
       "      return null;\n",
       "    }\n",
       "    console.debug(\"Bokeh: BokehJS not loaded, scheduling load and callback at\", now());\n",
       "    root._bokeh_is_loading = css_urls.length + js_urls.length;\n",
       "\n",
       "    function on_load() {\n",
       "      root._bokeh_is_loading--;\n",
       "      if (root._bokeh_is_loading === 0) {\n",
       "        console.debug(\"Bokeh: all BokehJS libraries/stylesheets loaded\");\n",
       "        run_callbacks()\n",
       "      }\n",
       "    }\n",
       "\n",
       "    function on_error() {\n",
       "      console.error(\"failed to load \" + url);\n",
       "    }\n",
       "\n",
       "    for (var i = 0; i < css_urls.length; i++) {\n",
       "      var url = css_urls[i];\n",
       "      const element = document.createElement(\"link\");\n",
       "      element.onload = on_load;\n",
       "      element.onerror = on_error;\n",
       "      element.rel = \"stylesheet\";\n",
       "      element.type = \"text/css\";\n",
       "      element.href = url;\n",
       "      console.debug(\"Bokeh: injecting link tag for BokehJS stylesheet: \", url);\n",
       "      document.body.appendChild(element);\n",
       "    }\n",
       "\n",
       "    for (var i = 0; i < js_urls.length; i++) {\n",
       "      var url = js_urls[i];\n",
       "      var element = document.createElement('script');\n",
       "      element.onload = on_load;\n",
       "      element.onerror = on_error;\n",
       "      element.async = false;\n",
       "      element.src = url;\n",
       "      console.debug(\"Bokeh: injecting script tag for BokehJS library: \", url);\n",
       "      document.head.appendChild(element);\n",
       "    }\n",
       "  };var element = document.getElementById(\"1210\");\n",
       "  if (element == null) {\n",
       "    console.error(\"Bokeh: ERROR: autoload.js configured with elementid '1210' but no matching script tag was found. \")\n",
       "    return false;\n",
       "  }\n",
       "\n",
       "  function inject_raw_css(css) {\n",
       "    const element = document.createElement(\"style\");\n",
       "    element.appendChild(document.createTextNode(css));\n",
       "    document.body.appendChild(element);\n",
       "  }\n",
       "\n",
       "  \n",
       "  var js_urls = [\"https://cdn.pydata.org/bokeh/release/bokeh-1.4.0.min.js\", \"https://cdn.pydata.org/bokeh/release/bokeh-widgets-1.4.0.min.js\", \"https://cdn.pydata.org/bokeh/release/bokeh-tables-1.4.0.min.js\", \"https://cdn.pydata.org/bokeh/release/bokeh-gl-1.4.0.min.js\"];\n",
       "  var css_urls = [];\n",
       "  \n",
       "\n",
       "  var inline_js = [\n",
       "    function(Bokeh) {\n",
       "      Bokeh.set_log_level(\"info\");\n",
       "    },\n",
       "    function(Bokeh) {\n",
       "    \n",
       "    \n",
       "    }\n",
       "  ];\n",
       "\n",
       "  function run_inline_js() {\n",
       "    \n",
       "    if (root.Bokeh !== undefined || force === true) {\n",
       "      \n",
       "    for (var i = 0; i < inline_js.length; i++) {\n",
       "      inline_js[i].call(root, root.Bokeh);\n",
       "    }\n",
       "    if (force === true) {\n",
       "        display_loaded();\n",
       "      }} else if (Date.now() < root._bokeh_timeout) {\n",
       "      setTimeout(run_inline_js, 100);\n",
       "    } else if (!root._bokeh_failed_load) {\n",
       "      console.log(\"Bokeh: BokehJS failed to load within specified timeout.\");\n",
       "      root._bokeh_failed_load = true;\n",
       "    } else if (force !== true) {\n",
       "      var cell = $(document.getElementById(\"1210\")).parents('.cell').data().cell;\n",
       "      cell.output_area.append_execute_result(NB_LOAD_WARNING)\n",
       "    }\n",
       "\n",
       "  }\n",
       "\n",
       "  if (root._bokeh_is_loading === 0) {\n",
       "    console.debug(\"Bokeh: BokehJS loaded, going straight to plotting\");\n",
       "    run_inline_js();\n",
       "  } else {\n",
       "    load_libs(css_urls, js_urls, function() {\n",
       "      console.debug(\"Bokeh: BokehJS plotting callback run at\", now());\n",
       "      run_inline_js();\n",
       "    });\n",
       "  }\n",
       "}(window));"
      ],
      "application/vnd.bokehjs_load.v0+json": "\n(function(root) {\n  function now() {\n    return new Date();\n  }\n\n  var force = true;\n\n  if (typeof root._bokeh_onload_callbacks === \"undefined\" || force === true) {\n    root._bokeh_onload_callbacks = [];\n    root._bokeh_is_loading = undefined;\n  }\n\n  \n\n  \n  if (typeof (root._bokeh_timeout) === \"undefined\" || force === true) {\n    root._bokeh_timeout = Date.now() + 5000;\n    root._bokeh_failed_load = false;\n  }\n\n  var NB_LOAD_WARNING = {'data': {'text/html':\n     \"<div style='background-color: #fdd'>\\n\"+\n     \"<p>\\n\"+\n     \"BokehJS does not appear to have successfully loaded. If loading BokehJS from CDN, this \\n\"+\n     \"may be due to a slow or bad network connection. Possible fixes:\\n\"+\n     \"</p>\\n\"+\n     \"<ul>\\n\"+\n     \"<li>re-rerun `output_notebook()` to attempt to load from CDN again, or</li>\\n\"+\n     \"<li>use INLINE resources instead, as so:</li>\\n\"+\n     \"</ul>\\n\"+\n     \"<code>\\n\"+\n     \"from bokeh.resources import INLINE\\n\"+\n     \"output_notebook(resources=INLINE)\\n\"+\n     \"</code>\\n\"+\n     \"</div>\"}};\n\n  function display_loaded() {\n    var el = document.getElementById(\"1210\");\n    if (el != null) {\n      el.textContent = \"BokehJS is loading...\";\n    }\n    if (root.Bokeh !== undefined) {\n      if (el != null) {\n        el.textContent = \"BokehJS \" + root.Bokeh.version + \" successfully loaded.\";\n      }\n    } else if (Date.now() < root._bokeh_timeout) {\n      setTimeout(display_loaded, 100)\n    }\n  }\n\n\n  function run_callbacks() {\n    try {\n      root._bokeh_onload_callbacks.forEach(function(callback) {\n        if (callback != null)\n          callback();\n      });\n    } finally {\n      delete root._bokeh_onload_callbacks\n    }\n    console.debug(\"Bokeh: all callbacks have finished\");\n  }\n\n  function load_libs(css_urls, js_urls, callback) {\n    if (css_urls == null) css_urls = [];\n    if (js_urls == null) js_urls = [];\n\n    root._bokeh_onload_callbacks.push(callback);\n    if (root._bokeh_is_loading > 0) {\n      console.debug(\"Bokeh: BokehJS is being loaded, scheduling callback at\", now());\n      return null;\n    }\n    if (js_urls == null || js_urls.length === 0) {\n      run_callbacks();\n      return null;\n    }\n    console.debug(\"Bokeh: BokehJS not loaded, scheduling load and callback at\", now());\n    root._bokeh_is_loading = css_urls.length + js_urls.length;\n\n    function on_load() {\n      root._bokeh_is_loading--;\n      if (root._bokeh_is_loading === 0) {\n        console.debug(\"Bokeh: all BokehJS libraries/stylesheets loaded\");\n        run_callbacks()\n      }\n    }\n\n    function on_error() {\n      console.error(\"failed to load \" + url);\n    }\n\n    for (var i = 0; i < css_urls.length; i++) {\n      var url = css_urls[i];\n      const element = document.createElement(\"link\");\n      element.onload = on_load;\n      element.onerror = on_error;\n      element.rel = \"stylesheet\";\n      element.type = \"text/css\";\n      element.href = url;\n      console.debug(\"Bokeh: injecting link tag for BokehJS stylesheet: \", url);\n      document.body.appendChild(element);\n    }\n\n    for (var i = 0; i < js_urls.length; i++) {\n      var url = js_urls[i];\n      var element = document.createElement('script');\n      element.onload = on_load;\n      element.onerror = on_error;\n      element.async = false;\n      element.src = url;\n      console.debug(\"Bokeh: injecting script tag for BokehJS library: \", url);\n      document.head.appendChild(element);\n    }\n  };var element = document.getElementById(\"1210\");\n  if (element == null) {\n    console.error(\"Bokeh: ERROR: autoload.js configured with elementid '1210' but no matching script tag was found. \")\n    return false;\n  }\n\n  function inject_raw_css(css) {\n    const element = document.createElement(\"style\");\n    element.appendChild(document.createTextNode(css));\n    document.body.appendChild(element);\n  }\n\n  \n  var js_urls = [\"https://cdn.pydata.org/bokeh/release/bokeh-1.4.0.min.js\", \"https://cdn.pydata.org/bokeh/release/bokeh-widgets-1.4.0.min.js\", \"https://cdn.pydata.org/bokeh/release/bokeh-tables-1.4.0.min.js\", \"https://cdn.pydata.org/bokeh/release/bokeh-gl-1.4.0.min.js\"];\n  var css_urls = [];\n  \n\n  var inline_js = [\n    function(Bokeh) {\n      Bokeh.set_log_level(\"info\");\n    },\n    function(Bokeh) {\n    \n    \n    }\n  ];\n\n  function run_inline_js() {\n    \n    if (root.Bokeh !== undefined || force === true) {\n      \n    for (var i = 0; i < inline_js.length; i++) {\n      inline_js[i].call(root, root.Bokeh);\n    }\n    if (force === true) {\n        display_loaded();\n      }} else if (Date.now() < root._bokeh_timeout) {\n      setTimeout(run_inline_js, 100);\n    } else if (!root._bokeh_failed_load) {\n      console.log(\"Bokeh: BokehJS failed to load within specified timeout.\");\n      root._bokeh_failed_load = true;\n    } else if (force !== true) {\n      var cell = $(document.getElementById(\"1210\")).parents('.cell').data().cell;\n      cell.output_area.append_execute_result(NB_LOAD_WARNING)\n    }\n\n  }\n\n  if (root._bokeh_is_loading === 0) {\n    console.debug(\"Bokeh: BokehJS loaded, going straight to plotting\");\n    run_inline_js();\n  } else {\n    load_libs(css_urls, js_urls, function() {\n      console.debug(\"Bokeh: BokehJS plotting callback run at\", now());\n      run_inline_js();\n    });\n  }\n}(window));"
     },
     "metadata": {},
     "output_type": "display_data"
    },
    {
     "name": "stderr",
     "output_type": "stream",
     "text": [
      "BokehDeprecationWarning: 'legend' keyword is deprecated, use explicit 'legend_label', 'legend_field', or 'legend_group' keywords instead\n"
     ]
    }
   ],
   "source": [
    "# show on notebook\n",
    "output_notebook()\n",
    "# target labels\n",
    "y_labels = y_pred\n",
    "\n",
    "# data sources\n",
    "source = ColumnDataSource(data=dict(\n",
    "    x= X_embedded[:,0], \n",
    "    y= X_embedded[:,1],\n",
    "    x_backup = X_embedded[:,0],\n",
    "    y_backup = X_embedded[:,1],\n",
    "    desc= y_labels, \n",
    "    titles= df_nullout['Title'],\n",
    "    Labels = df_nullout['Label'],\n",
    "    clusters = df_nullout['y'],\n",
    "#     authors = df['authors'],\n",
    "#     journal = df['journal'],\n",
    "#     abstract = df['abstract_summary'],\n",
    "    labels = [\"C-\" + str(x) for x in y_labels],\n",
    "#     links = df['doi']\n",
    "    ))\n",
    "\n",
    "# hover over information\n",
    "hover = HoverTool(tooltips=[\n",
    "    (\"Title\", \"@titles{safe}\"),\n",
    "    (\"Label\", \"@Labels{safe}\"),\n",
    "    (\"Cluster\", \"@clusters{safe}\"),\n",
    "#     (\"Author(s)\", \"@authors{safe}\"),\n",
    "#     (\"Journal\", \"@journal\"),\n",
    "#     (\"Abstract\", \"@abstract{safe}\"),\n",
    "#     (\"Link\", \"@links\")\n",
    "],\n",
    "point_policy=\"follow_mouse\")\n",
    "\n",
    "# map colors\n",
    "mapper = linear_cmap(field_name='desc', \n",
    "                     palette=Category20[20],\n",
    "                     low=min(y_labels) ,high=max(y_labels))\n",
    "\n",
    "# prepare the figure\n",
    "plot = figure(plot_width=1200, plot_height=850, \n",
    "           tools=[hover, 'pan', 'wheel_zoom', 'box_zoom', 'reset', 'save', 'tap'], \n",
    "           title=\"Clustering of the COVID-19 Literature with t-SNE and K-Means\", \n",
    "           toolbar_location=\"above\")\n",
    "\n",
    "# plot settings\n",
    "plot.scatter('x', 'y', size=5, \n",
    "          source=source,\n",
    "          fill_color=mapper,\n",
    "          line_alpha=0.3,\n",
    "          line_color=\"black\",\n",
    "          legend = 'labels')\n",
    "plot.legend.background_fill_alpha = 0.6"
   ]
  },
  {
   "cell_type": "code",
   "execution_count": 101,
   "metadata": {},
   "outputs": [],
   "source": [
    "text_banner = Paragraph(text= 'Keywords: Slide to specific cluster to see the keywords.', height=45)\n",
    "input_callback_1 = input_callback(plot, source, text_banner, topics)\n",
    "\n",
    "# currently selected article\n",
    "div_curr = Div(text=\"\"\"Click on a plot to see the link to the article.\"\"\",height=150)\n",
    "callback_selected = CustomJS(args=dict(source=source, current_selection=div_curr), code=selected_code())\n",
    "taptool = plot.select(type=TapTool)\n",
    "taptool.callback = callback_selected\n",
    "\n",
    "# WIDGETS\n",
    "slider = Slider(start=0, end=20, value=20, step=1, title=\"Cluster #\", callback=input_callback_1)\n",
    "keyword = TextInput(title=\"Search:\", callback=input_callback_1)\n",
    "\n",
    "# pass call back arguments\n",
    "input_callback_1.args[\"text\"] = keyword\n",
    "input_callback_1.args[\"slider\"] = slider"
   ]
  },
  {
   "cell_type": "code",
   "execution_count": 102,
   "metadata": {},
   "outputs": [],
   "source": [
    "# STYLE\n",
    "slider.sizing_mode = \"stretch_width\"\n",
    "slider.margin=15\n",
    "\n",
    "keyword.sizing_mode = \"scale_both\"\n",
    "keyword.margin=15\n",
    "\n",
    "div_curr.style={'color': '#BF0A30', 'font-family': 'Helvetica Neue, Helvetica, Arial, sans-serif;', 'font-size': '1.1em'}\n",
    "div_curr.sizing_mode = \"scale_both\"\n",
    "div_curr.margin = 20\n",
    "\n",
    "text_banner.style={'color': '#0269A4', 'font-family': 'Helvetica Neue, Helvetica, Arial, sans-serif;', 'font-size': '1.1em'}\n",
    "text_banner.sizing_mode = \"scale_both\"\n",
    "text_banner.margin = 20\n",
    "\n",
    "plot.sizing_mode = \"scale_both\"\n",
    "plot.margin = 5\n",
    "\n",
    "r = row(div_curr,text_banner)\n",
    "r.sizing_mode = \"stretch_width\""
   ]
  },
  {
   "cell_type": "code",
   "execution_count": 38,
   "metadata": {},
   "outputs": [
    {
     "data": {
      "text/html": [
       "\n",
       "\n",
       "\n",
       "\n",
       "\n",
       "\n",
       "  <div class=\"bk-root\" id=\"576d0dd4-f225-455a-b21d-c6d990461dbc\" data-root-id=\"1072\"></div>\n"
      ]
     },
     "metadata": {},
     "output_type": "display_data"
    },
    {
     "data": {
      "application/javascript": [
       "(function(root) {\n",
       "  function embed_document(root) {\n",
       "    \n",
       "  var docs_json = {\"dafdf151-a969-4f14-ab73-0a2fd25417fc\":{\"roots\":{\"references\":[{\"attributes\":{\"children\":[{\"id\":\"1068\",\"type\":\"Row\"},{\"id\":\"1069\",\"type\":\"Row\"},{\"id\":\"1070\",\"type\":\"Row\"},{\"id\":\"1071\",\"type\":\"Row\"}],\"sizing_mode\":\"scale_both\"},\"id\":\"1072\",\"type\":\"Column\"},{\"attributes\":{\"callback\":null,\"data\":{\"Labels\":{\"__ndarray__\":\"AAAAAAAAAAAAAAAAAAAAAAAAAAAAAAAAAAAAAAAAAAAAAAAAAAAAAAAAAAAAAAAAAAAAAAAAAAAAAAAAAAAAAAAAAAAAAAAAAAAAAAAAAAAAAAAAAAAAAAAAAAAAAAAAAAAAAAAAAAAAAAAAAAAAAAAAAAAAAAAAAAAAAAAAAAAAAAAAAAAAAAAAAAAAAAAAAAAAAAAAAAAAAAAAAAAAAAAAAAAAAAAAAAAAAAAAAAAAAAAAAAAAAAAAAAAAAAAAAAAAAAAAAAAAAAAAAAAAAAAAAAAAAAAAAAAAAAAAAAAAAAAAAAAAAAAAAAAAAAAAAAAAAAAA8D8AAAAAAADwPwAAAAAAAAAAAAAAAAAAAAAAAAAAAAAAAAAAAAAAAAAAAAAAAAAA8D8AAAAAAAAAAAAAAAAAAAAAAAAAAAAAAAAAAAAAAAAAAAAAAAAAAAAAAAAAAAAAAAAAAAAAAAAAAAAAAAAAAAAAAAAAAAAAAAAAAAAAAAAAAAAAAAAAAAAAAAAAAAAAAAAAAAAAAAAAAAAAAAAAAAAAAAAAAAAAAAAAAAAAAAAAAAAAAAAAAAAAAAAAAAAAAAAAAAAAAAAAAAAAAAAAAAAAAAAAAAAAAAAAAAAAAAAAAAAAAAAAAAAAAAAAAAAAAAAAAAAAAADwPwAAAAAAAAAAAAAAAAAAAAAAAAAAAAAAAAAAAAAAAAAAAAAAAAAAAAAAAAAAAAAAAAAAAAAAAAAAAAAAAAAAAAAAAAAAAAAAAAAAAAAAAAAAAAAAAAAAAAAAAAAAAAAAAAAAAAAAAAAAAAAAAAAAAAAAAAAAAAAAAAAAAAAAAAAAAAAAAAAAAAAAAAAAAAAAAAAAAAAAAAAAAAAAAAAA8D8AAAAAAAAAAAAAAAAAAAAAAAAAAAAAAAAAAAAAAAAAAAAAAAAAAAAAAAAAAAAAAAAAAAAAAAAAAAAAAAAAAAAAAAAAAAAAAAAAAAAAAAAAAAAAAAAAAAAAAAAAAAAAAAAAAAAAAAAAAAAAAAAAAAAAAAAAAAAAAAAAAAAAAAAAAAAAAAAAAAAAAAAAAAAAAAAAAAAAAAAAAAAAAAAAAAAAAAAAAAAAAAAAAAAAAAAAAAAAAAAAAAAAAAAAAAAAAAAAAAAAAAAAAAAAAAAAAAAAAAAAAAAAAAAAAAAAAAAAAAAAAAAAAAAAAAAAAAAA8D8AAAAAAAAAAAAAAAAAAAAAAAAAAAAAAAAAAAAAAAAAAAAAAAAAAAAAAAAAAAAAAAAAAAAAAAAAAAAAAAAAAAAAAAAAAAAAAAAAAAAAAAAAAAAAAAAAAAAAAAAAAAAAAAAAAAAAAAAAAAAAAAAAAAAAAAAAAAAAAAAAAAAAAAAAAAAAAAAAAAAAAAAAAAAAAAAAAAAAAAAAAAAAAAAAAAAAAAAAAAAAAAAAAAAAAAAAAAAAAAAAAPA/AAAAAAAAAAAAAAAAAAAAAAAAAAAAAAAAAAAAAAAAAAAAAAAAAAAAAAAAAAAAAAAAAAAAAAAAAAAAAAAAAAAAAAAAAAAAAAAAAAAAAAAAAAAAAAAAAAAAAAAAAAAAAAAAAAAAAAAAAAAAAAAAAAAAAAAAAAAAAAAAAAAAAAAAAAAAAAAAAAAAAAAAAAAAAAAAAAAAAAAAAAAAAAAAAAAAAAAAAAAAAAAAAAAAAAAAAAAAAAAAAAAAAAAAAAAAAAAAAAAAAAAAAAAAAAAAAAAAAAAAAAAAAAAAAAAAAAAAAAAAAAAAAAAAAAAAAAAAAAAAAAAAAAAAAAAAAAAAAAAAAAAAAAAAAAAAAAAAAAAAAAAAAAAAAAAAAAAAAAAAAAAAAAAAAAAAAAAAAAAAAAAAAAAAAAAAAAAAAAAAAAAAAAAAAAAAAAAAAAAAAAAAAAAAAAAAAAAAAAAAAAAAAAAAAAAAAAAAAAAAAAAAAAAAAAAAAAAAAAAAAAAAAAAAAAAAAAAAAAAAAAAAAAAAAAAAAAAAAAAAAAAAAAAAAAAAAAAAAAAAAAAAAAAAAAAAAAAAAAAAAAAAAAAAAAAAAAAAAAAAAAAAAAAAAAAAAAAAAAAAAAAAAAAAAAAAAAAAAAAAAAAAAAAAAAAAAAAAAAAAAAAAAAAAAAAAAAAAAAAAAAAAAAAAAAAAAAAAAAAAAAAAAAAAAAAAAAAAAAAAAAAAAAAAAAAAAAAAAAAAAAAAAAAAAAAAAAAAAAAAAAAAAAAAAAAAAAAAAAAAAAAAAADwPwAAAAAAAAAAAAAAAAAAAAAAAAAAAAAAAAAAAAAAAAAAAAAAAAAAAAAAAAAAAADwPwAAAAAAAPA/AAAAAAAAAAAAAAAAAADwPwAAAAAAAAAAAAAAAAAAAAAAAAAAAAAAAAAAAAAAAAAAAAAAAAAAAAAAAAAAAAAAAAAAAAAAAAAAAAAAAAAAAAAAAAAAAAAAAAAAAAAAAAAAAAAAAAAAAAAAAAAAAAAAAAAAAAAAAAAAAAAAAAAAAAAAAAAAAAAAAAAAAAAAAAAAAAAAAAAAAAA=\",\"dtype\":\"float64\",\"shape\":[235]},\"clusters\":{\"__ndarray__\":\"AQAAAAEAAAACAAAAAwAAAAMAAAABAAAAAwAAAAQAAAACAAAAAwAAAAMAAAADAAAAAwAAAAIAAAACAAAAAQAAAAMAAAADAAAABAAAAAMAAAACAAAAAQAAAAEAAAADAAAAAwAAAAMAAAAEAAAAAgAAAAIAAAAEAAAAAgAAAAIAAAAAAAAAAQAAAAMAAAAEAAAAAgAAAAQAAAACAAAAAQAAAAMAAAABAAAAAQAAAAQAAAACAAAAAgAAAAEAAAABAAAABAAAAAMAAAABAAAAAgAAAAMAAAAEAAAAAgAAAAMAAAAAAAAAAgAAAAIAAAABAAAAAwAAAAIAAAABAAAAAgAAAAAAAAADAAAAAwAAAAAAAAABAAAAAgAAAAMAAAADAAAAAgAAAAQAAAAEAAAAAgAAAAIAAAACAAAAAQAAAAEAAAABAAAABAAAAAMAAAADAAAAAwAAAAAAAAADAAAAAgAAAAQAAAACAAAAAAAAAAEAAAAEAAAAAQAAAAMAAAAAAAAAAQAAAAIAAAABAAAAAgAAAAMAAAADAAAAAgAAAAQAAAABAAAABAAAAAEAAAACAAAAAwAAAAMAAAACAAAAAgAAAAMAAAADAAAAAQAAAAEAAAABAAAAAAAAAAMAAAACAAAAAwAAAAEAAAABAAAAAQAAAAQAAAACAAAAAwAAAAEAAAADAAAAAgAAAAQAAAACAAAAAwAAAAIAAAACAAAABAAAAAEAAAACAAAAAgAAAAEAAAABAAAAAQAAAAAAAAADAAAAAwAAAAQAAAACAAAAAwAAAAIAAAACAAAAAQAAAAEAAAABAAAAAgAAAAAAAAAEAAAAAwAAAAMAAAABAAAABAAAAAEAAAACAAAAAwAAAAQAAAACAAAAAQAAAAMAAAACAAAABAAAAAQAAAAEAAAABAAAAAMAAAABAAAABAAAAAQAAAAEAAAAAgAAAAMAAAADAAAAAQAAAAMAAAABAAAAAQAAAAEAAAACAAAAAgAAAAQAAAADAAAAAwAAAAEAAAAAAAAABAAAAAIAAAABAAAAAgAAAAEAAAABAAAAAQAAAAEAAAABAAAAAQAAAAEAAAADAAAAAAAAAAEAAAACAAAAAgAAAAIAAAAEAAAAAgAAAAEAAAABAAAAAgAAAAIAAAACAAAAAgAAAAIAAAACAAAAAgAAAAEAAAACAAAAAQAAAAEAAAABAAAABAAAAAQAAAADAAAAAwAAAAMAAAABAAAAAwAAAAAAAAABAAAABAAAAA==\",\"dtype\":\"int32\",\"shape\":[235]},\"desc\":{\"__ndarray__\":\"AQAAAAEAAAACAAAAAwAAAAMAAAABAAAAAwAAAAQAAAACAAAAAwAAAAMAAAADAAAAAwAAAAIAAAACAAAAAQAAAAMAAAADAAAABAAAAAMAAAACAAAAAQAAAAEAAAADAAAAAwAAAAMAAAAEAAAAAgAAAAIAAAAEAAAAAgAAAAIAAAAAAAAAAQAAAAMAAAAEAAAAAgAAAAQAAAACAAAAAQAAAAMAAAABAAAAAQAAAAQAAAACAAAAAgAAAAEAAAABAAAABAAAAAMAAAABAAAAAgAAAAMAAAAEAAAAAgAAAAMAAAAAAAAAAgAAAAIAAAABAAAAAwAAAAIAAAABAAAAAgAAAAAAAAADAAAAAwAAAAAAAAABAAAAAgAAAAMAAAADAAAAAgAAAAQAAAAEAAAAAgAAAAIAAAACAAAAAQAAAAEAAAABAAAABAAAAAMAAAADAAAAAwAAAAAAAAADAAAAAgAAAAQAAAACAAAAAAAAAAEAAAAEAAAAAQAAAAMAAAAAAAAAAQAAAAIAAAABAAAAAgAAAAMAAAADAAAAAgAAAAQAAAABAAAABAAAAAEAAAACAAAAAwAAAAMAAAACAAAAAgAAAAMAAAADAAAAAQAAAAEAAAABAAAAAAAAAAMAAAACAAAAAwAAAAEAAAABAAAAAQAAAAQAAAACAAAAAwAAAAEAAAADAAAAAgAAAAQAAAACAAAAAwAAAAIAAAACAAAABAAAAAEAAAACAAAAAgAAAAEAAAABAAAAAQAAAAAAAAADAAAAAwAAAAQAAAACAAAAAwAAAAIAAAACAAAAAQAAAAEAAAABAAAAAgAAAAAAAAAEAAAAAwAAAAMAAAABAAAABAAAAAEAAAACAAAAAwAAAAQAAAACAAAAAQAAAAMAAAACAAAABAAAAAQAAAAEAAAABAAAAAMAAAABAAAABAAAAAQAAAAEAAAAAgAAAAMAAAADAAAAAQAAAAMAAAABAAAAAQAAAAEAAAACAAAAAgAAAAQAAAADAAAAAwAAAAEAAAAAAAAABAAAAAIAAAABAAAAAgAAAAEAAAABAAAAAQAAAAEAAAABAAAAAQAAAAEAAAADAAAAAAAAAAEAAAACAAAAAgAAAAIAAAAEAAAAAgAAAAEAAAABAAAAAgAAAAIAAAACAAAAAgAAAAIAAAACAAAAAgAAAAEAAAACAAAAAQAAAAEAAAABAAAABAAAAAQAAAADAAAAAwAAAAMAAAABAAAAAwAAAAAAAAABAAAABAAAAA==\",\"dtype\":\"int32\",\"shape\":[235]},\"labels\":[\"C-1\",\"C-1\",\"C-2\",\"C-3\",\"C-3\",\"C-1\",\"C-3\",\"C-4\",\"C-2\",\"C-3\",\"C-3\",\"C-3\",\"C-3\",\"C-2\",\"C-2\",\"C-1\",\"C-3\",\"C-3\",\"C-4\",\"C-3\",\"C-2\",\"C-1\",\"C-1\",\"C-3\",\"C-3\",\"C-3\",\"C-4\",\"C-2\",\"C-2\",\"C-4\",\"C-2\",\"C-2\",\"C-0\",\"C-1\",\"C-3\",\"C-4\",\"C-2\",\"C-4\",\"C-2\",\"C-1\",\"C-3\",\"C-1\",\"C-1\",\"C-4\",\"C-2\",\"C-2\",\"C-1\",\"C-1\",\"C-4\",\"C-3\",\"C-1\",\"C-2\",\"C-3\",\"C-4\",\"C-2\",\"C-3\",\"C-0\",\"C-2\",\"C-2\",\"C-1\",\"C-3\",\"C-2\",\"C-1\",\"C-2\",\"C-0\",\"C-3\",\"C-3\",\"C-0\",\"C-1\",\"C-2\",\"C-3\",\"C-3\",\"C-2\",\"C-4\",\"C-4\",\"C-2\",\"C-2\",\"C-2\",\"C-1\",\"C-1\",\"C-1\",\"C-4\",\"C-3\",\"C-3\",\"C-3\",\"C-0\",\"C-3\",\"C-2\",\"C-4\",\"C-2\",\"C-0\",\"C-1\",\"C-4\",\"C-1\",\"C-3\",\"C-0\",\"C-1\",\"C-2\",\"C-1\",\"C-2\",\"C-3\",\"C-3\",\"C-2\",\"C-4\",\"C-1\",\"C-4\",\"C-1\",\"C-2\",\"C-3\",\"C-3\",\"C-2\",\"C-2\",\"C-3\",\"C-3\",\"C-1\",\"C-1\",\"C-1\",\"C-0\",\"C-3\",\"C-2\",\"C-3\",\"C-1\",\"C-1\",\"C-1\",\"C-4\",\"C-2\",\"C-3\",\"C-1\",\"C-3\",\"C-2\",\"C-4\",\"C-2\",\"C-3\",\"C-2\",\"C-2\",\"C-4\",\"C-1\",\"C-2\",\"C-2\",\"C-1\",\"C-1\",\"C-1\",\"C-0\",\"C-3\",\"C-3\",\"C-4\",\"C-2\",\"C-3\",\"C-2\",\"C-2\",\"C-1\",\"C-1\",\"C-1\",\"C-2\",\"C-0\",\"C-4\",\"C-3\",\"C-3\",\"C-1\",\"C-4\",\"C-1\",\"C-2\",\"C-3\",\"C-4\",\"C-2\",\"C-1\",\"C-3\",\"C-2\",\"C-4\",\"C-4\",\"C-4\",\"C-4\",\"C-3\",\"C-1\",\"C-4\",\"C-4\",\"C-4\",\"C-2\",\"C-3\",\"C-3\",\"C-1\",\"C-3\",\"C-1\",\"C-1\",\"C-1\",\"C-2\",\"C-2\",\"C-4\",\"C-3\",\"C-3\",\"C-1\",\"C-0\",\"C-4\",\"C-2\",\"C-1\",\"C-2\",\"C-1\",\"C-1\",\"C-1\",\"C-1\",\"C-1\",\"C-1\",\"C-1\",\"C-3\",\"C-0\",\"C-1\",\"C-2\",\"C-2\",\"C-2\",\"C-4\",\"C-2\",\"C-1\",\"C-1\",\"C-2\",\"C-2\",\"C-2\",\"C-2\",\"C-2\",\"C-2\",\"C-2\",\"C-1\",\"C-2\",\"C-1\",\"C-1\",\"C-1\",\"C-4\",\"C-4\",\"C-3\",\"C-3\",\"C-3\",\"C-1\",\"C-3\",\"C-0\",\"C-1\",\"C-4\"],\"titles\":[\"About the effectiveness of telehealth procedures in psychological treatments.\",\"Acceptability of virtual reality interoceptive exposure for the treatment of panic disorder with agoraphobia.\",\"Acute anxiolytic effects of quetiapine during virtual reality exposure A double-blind placebo-controlled trial in patients with specific phobia.\",\"Age-dependent modulation of sensory reweighting for controlling posture in a dynamic virtual environment.\",\"Allocentric lock in anorexia nervosa: New evidences from neuroimaging studies.\",\"Application of Virtual, Augmented, and Mixed Reality to Urology.\",\"Applied Tension and Coping with Blood Donation: A Randomized Trial.\",\"Assessing public speaking fear with the short form of the Personal Report of Confidence as a Speaker scale: confirmatory factor analyses among a French-speaking community sample.\",\"Auditory and visual 3D virtual reality therapy as a new treatment for chronic subjective tinnitus: Results of a randomized controlled trial.\",\"Auditory-visual aversive stimuli modulate the conscious experience of fear.\",\"Auditory-visual integration of emotional signals in a virtual environment for cynophobia.\",\"Auditory-visual virtual environment for the treatment of fear of crowds.\",\"Auditory-visual virtual reality as a diagnostic and therapeutic tool for cynophobia.\",\"Augmentation of cognitive and behavioural therapies (CBT) with d-cycloserine for anxiety and related disorders.\",\"Augmentation of exposure therapy with post-session administration of D-cycloserine.\",\"Augmented Reality: A Brand New Challenge for the Assessment and Treatment of Psychological Disorders.\",\"Automated real-time classification of functional states: Significance of individual tuning stage.\",\"Automatic mechanisms for measuring subjective unit of discomfort.\",\"Autonomic effects of cognitive reappraisal and acceptance in social anxiety: evidence for common and distinct pathways for parasympathetic reactivity.\",\"Avatar anthropomorphism and acrophobia.\",\"Baseline psychophysiological and cortisol reactivity as a predictor of PTSD treatment outcome in virtual reality exposure therapy.\",\"Being different: The transformative potential of virtual reality.\",\"Bodily manifestations of affects: The example of gait and virtual reality.\",\"Bottom-up and top-down influences of beliefs on emotional responses: Fear of heights in a virtual environment.\",\"Can Virtual Reality Effectively Elicit Distress Associated with Social Anxiety Disorder?.\",\"Can virtual reality increase emotional responses (Arousal and Valence)? a pilot study.\",\"Canadian clinical practice guidelines for the management of anxiety, posttraumatic stress and obsessive-compulsive disorders.\",\"A Cognitive and Virtual Reality Treatment Program for the Fear of Flying.\",\"Cognitive behavioural therapy in social phobia: Classical programs and new approaches.\",\"Cognitive processes as mediators of the relation between mindfulness and change in social anxiety symptoms following cognitive behavioral treatment.\",\"Cognitive-behavioral treatment and antidepressants combined with virtual reality exposure for patients with chronic agoraphobia.\",\"The combined use of virtual reality exposure in the treatment of agoraphobia.\",\"Commentary for special edition on anxiety.\",\"Communication and experience in clinical psychology and neurorehabilitation: The use of virtual reality driving simulators.\",\"Computational focus-tunable near-eye displays.\",\"Context conditioning in virtual reality as a model for pathological anxiety.\",\"A controlled study of agoraphobia and the independent effect of virtual reality exposure therapy.\",\"Controlling social stress in virtual reality environments.\",\"The course of the working alliance during virtual reality and exposure group therapy for social anxiety disorder.\",\"Creating virtual environments for phobia treatment.\",\"Creation of Interactive Virtual Environments for Exposure Therapy Through Game-Level Editors: Comparison and Tests on Presence and Anxiety.\",\"Cross-cultural validation of evidence-based clinical interventions for the treatment of anxiety disorders.\",\"Current concepts and future approaches to vestibular rehabilitation.\",\"Current status of knowledge on public-speaking anxiety.\",\"D-Cycloserine Augmentation of Exposure Therapy for Post-Traumatic Stress Disorder: A Pilot Randomized Clinical Trial.\",\"D-cycloserine enhancement of fear extinction is specific to successful exposure sessions: Evidence from the treatment of height phobia.\",\"Design and implementation of a framework based on augmented reality for phobia treatment applications.\",\"Design and implementation of home-based virtual reality exposure therapy system with a virtual eCoach.\",\"Designing virtual audiences for fear of public speaking training - an observation study on realistic nonverbal behavior.\",\"Development and evaluation of a virtual reality-system with integrated tracking of extremities under the aspect of Acrophobia.\",\"Dialogical Self on Virtual Reality Systems: Presence and Embodiment in Human Situated Interaction.\",\"Discrepancies in therapist and client ratings of global improvement following cognitive behavioral therapy for social phobia and their differential relations with symptom improvement at post-treatment and 12-month follow-up.\",\"Do conversations with virtual avatars increase feelings of social anxiety?.\",\"Do World of Warcraft (MMORPG) players experience less loneliness and social anxiety in online world (virtual environment) than in real world (offline)?.\",\"Does yohimbine hydrochloride facilitate fear extinction in virtual reality treatment of fear of flying? A randomized placebo-controlled trial.\",\"Duration of step initiation predicts freezing in Parkinson's disease.\",\"The effect of balance training on postural control in people with multiple sclerosis using the CAREN virtual reality system: a pilot randomized controlled trial.\",\"Effect of combined multiple contexts and multiple stimuli exposure in spider phobia: A randomized clinical trial in virtual reality.\",\"Effect of multiple context exposure on renewal in spider phobia.\",\"The effect of priming pictures and videos on a question-Answer dialog scenario in a virtual environment.\",\"The Effect of Simulated Auditory Hallucinations on Daily Activities in Schizophrenia Patients.\",\"Effectiveness of cognitive behavioral therapy integrated with systematic desensitization, cognitive behavioral therapy combined with eye movement desensitization and reprocessing therapy, and cognitive behavioral therapy combined with virtual reality exposure therapy methods in the treatment of flight anxiety: a randomized trial.\",\"Effectiveness of the treatment program virtual flight with Mexican population.\",\"The Effects of a Brief Acceptance-Based Behavioral Treatment Versus Traditional Cognitive-Behavioral Treatment for Public Speaking Anxiety: An Exploratory Trial Examining Differential Effects on Performance and Neurophysiology.\",\"Effects of balance training using a virtual-reality system in older fallers.\",\"Effects of simulation fidelity on user experience in virtual fear of public speaking training - an experimental study.\",\"Effects of Stereoscopic Viewing on Presence, Anxiety, and Cybersickness in a Virtual Reality Environment for Public Speaking.\",\"Effects of strength and balance training on the mobility, fear of falling and grip strength of elderly female fallers.\",\"The efficacy of psychological therapies for specific phobias in adults and some unanswered questions.\",\"Efficacy of virtual reality exposure therapy for treatment of dental phobia: a randomized control trial.\",\"Embodying compassion: a virtual reality paradigm for overcoming excessive self-criticism.\",\"Enhanced discriminative fear learning of phobia-irrelevant stimuli in spider-fearful individuals.\",\"Enhancing exposure therapy for anxiety disorders, obsessive-compulsive disorder and post-traumatic stress disorder.\",\"Environmental Social Stress, Paranoia and Psychosis Liability: A Virtual Reality Study.\",\"Evaluating changes in judgmental biases as mechanisms of cognitive-behavioral therapy for social anxiety disorder.\",\"Evaluation of the quality of collaboration between the client and the therapist in phobia treatments.\",\"E-virtual reality exposure therapy in acrophobia: A pilot study.\",\"Evolution of music performance anxiety and quality of performance during virtual reality exposure training.\",\"EXPERIENCING THE RELATIONSHIP BETWEEN ARCHITECTURAL SPACE AND THE MAJOR SPACE PHOBIAS.\",\"Exploratory development and evaluation of user interfaces for exposure therapy treatment.\",\"Exposure therapy in eating disorders revisited.\",\"Exposure to virtual social interactions in the treatment of social anxiety disorder: A randomized controlled trial.\",\"Factors associated with cervical kinematic impairments in patients with neck pain.\",\"Fear and physiological arousal during a virtual height challenge--effects in patients with acrophobia and healthy controls.\",\"Fear load: The psychophysiological over-expression of fear as an intermediate phenotype associated with trauma reactions.\",\"Fear of falling: efficacy of virtual reality associated with serious games in elderly people.\",\"Fear of heights and visual height intolerance.\",\"Fear reactivation prior to exposure therapy: does it facilitate the effects of VR exposure in a randomized clinical sample?.\",\"The feasibility and acceptability of virtual environments in the treatment of childhood social anxiety disorder.\",\"Feasibility and Safety of a Virtual Reality Dodgeball Intervention for Chronic Low Back Pain: A Randomized Clinical Trial.\",\"The feasibility of an intervention combining self-efficacy theory and Wii Fit exergames in assisted living residents: A pilot study.\",\"Feasibility of Training Athletes for High-Pressure Situations Using Virtual Reality.\",\"Feasibility of Virtual Reality Environments for Adolescent Social Anxiety Disorder.\",\"FMRI assessment of small animals' phobia using virtual reality as stimulus.\",\"Functional co-activation within the prefrontal cortex supports the maintenance of behavioural performance in fear-relevant situations before an iTBS modulated virtual reality challenge in participants with spider phobia.\",\"Functional gait rehabilitation in elderly people following a fall-related hip fracture using a treadmill with visual context: design of a randomized controlled trial.\",\"A functional magnetic resonance imaging assessment of small animals' phobia using virtual reality as a stimulus.\",\"The future of D-cycloserine and other cognitive modifiers in obsessive-compulsive and related disorders.\",\"The german VR simulation realism scale - psychometric construction for virtual reality applications with virtual humans.\",\"Glucocorticoids enhance in vivo exposure-based therapy of spider phobia.\",\"Groveling on the Wall: Interactive VR Attraction using Gravity Illusion.\",\"Hands in space: Gesture interaction with augmented-reality interfaces.\",\"Heart Rate Variability Profiles and Exposure Therapy Treatment Outcome in Flight Phobia.\",\"High Current Anxiety Symptoms, But Not a Past Anxiety Disorder Diagnosis, are Associated with Impaired Fear Extinction.\",\"Home-based virtual reality exposure therapy with virtual health agent support.\",\"How Do People with Persecutory Delusions Evaluate Threat in a Controlled Social Environment? A Qualitative Study Using Virtual Reality.\",\"How level of realism influences anxiety in virtual reality environments for a job interview.\",\"How technology influences the therapeutic process: evaluation of the patient-therapist relationship in augmented reality exposure therapy and in vivo exposure therapy.\",\"Immersive virtual environments of simulation for exposure therapy: Impact of multi-sensory stimulation in the sense of presence in an acrophobic context.\",\"The impact of different perceptual cues on fear and presence in virtual reality.\",\"Implementation of the motek caren system in behavioural therapy for patients with anxiety disorders.\",\"In Vivo versus augmented reality exposure in the treatment of small animal phobia: A randomized controlled trial.\",\"Influence of perceptual cues and conceptual information on the activation and reduction of claustrophobic fear.\",\"Influence of virtual height exposure on postural reactions to support surface translations.\",\"Information and communication technologies in the treatment of small animals phobia in childhood.\",\"Interaction with virtual spiders for eliciting disgust in the treatment of phobias.\",\"An interactive Augmented Reality system for exposure treatment.\",\"Interactive sensor-based balance training in older cancer patients with chemotherapy-induced peripheral neuropathy: A randomized controlled trial.\",\"An investigation into anxiety in virtual reality following a self-compassion induction.\",\"AN INVESTIGATION OF OUTCOME EXPECTANCIES AS A PREDICTOR OF TREATMENT RESPONSE FOR COMBAT VETERANS WITH PTSD: COMPARISON OF CLINICIAN, SELF-REPORT, AND BIOLOGICAL MEASURES.\",\"Is virtual reality always an effective stressors for exposure treatments? some insights from a controlled trial.\",\"Kinect-based posture tracking for correcting positions during exercise.\",\"Low - Cost Devices Used in Virtual Reality Exposure Therapy.\",\"A Low-Cost Immersive Virtual Environment for Ptesiophobia Treatment.\",\"Measuring Co-Presence and Social Presence in Virtual Environments-Psychometric Construction of a German Scale for a Fear of Public Speaking Scenario.\",\"Medial prefrontal cortex stimulation accelerates therapy response of exposure therapy in acrophobia.\",\"Mental beliefs about blood, and not its smell, affect presence in a violent computer game.\",\"Monitoring physiology and behavior using Android in phobias.\",\"Multiple virtual human interactions.\",\"NO-FEAR airlines: A computer-aided self-help treatment for flying phobia.\",\"Nomophobia: Dependency on virtual environments or social phobia?.\",\"A Novel Treatment of Fear of Flying Using a Large Virtual Reality System.\",\"Objective model assessment for short-term anxiety recognition from blood volume pulse signal.\",\"One session treatment for pediatric blood-injection-injury phobia: A controlled multiple baseline trial.\",\"One session treatment of cognitive and behavioral therapy and virtual reality for social and specific phobias. Preliminary results from a randomized clinical trial.\",\"Outcome expectancy as a predictor of treatment response in cognitive behavioral therapy for public speaking fears within social anxiety disorder.\",\"Outcomes associated with virtual reality in psychological interventions: where are we now?.\",\"Patients' expectations and satisfaction towards an Internet-based treatment for flying phobia: preliminary data.\",\"Patient's preferences regarding three computer-based exposure treatments for fear of flying.\",\"Pharmacological and non-pharmacological treatments for anxiety to the dental treatment.\",\"Phobia treatment with the help of virtual reality.\",\"PhoVR: A virtual reality system to treat phobias.\",\"Physical and Psychosocial Effects of Wii Fit Exergames Use in Assisted Living Residents: A Pilot Study.\",\"Physiological acrophobia evaluation through in vivo exposure in a VR CAVE.\",\"A pilot evaluation of a therapeutic game applied to small animal phobia treatment.\",\"A Pilot Study of Attention Bias Subtypes: Examining Their Relation to Cognitive Bias and Their Change following Cognitive Behavioral Therapy.\",\"Psychophysiological effects of an iTBS modulated virtual reality challenge including participants with spider phobia.\",\"A questionnaire for measuring presence in virtual environments: factor analysis of the presence questionnaire and adaptation into Brazilian Portuguese.\",\"A Randomized, Double-Blind Evaluation of D-Cycloserine or Alprazolam Combined With Virtual Reality Exposure Therapy for Posttraumatic Stress Disorder in Iraq and Afghanistan War Veterans.\",\"Reaching New Heights: Comparing Interpretation Bias Modification to Exposure Therapy for Extreme Height Fear.\",\"Real Enough: Using Virtual Public Speaking Environments to Evoke Feelings and Behaviors Targeted in Stuttering Assessment and Treatment.\",\"Reality and fiction: Spatial orientation in real and computer-generated virtual environment.\",\"Reducing Anxiety Using Self-Help Virtual Reality Cognitive Behavioral Therapy.\",\"Reducing specific phobia/fear in young people with autism spectrum disorders (ASDs) through a virtual reality environment intervention.\",\"Rehabilitation of the psychomotor consequences of falling in an elderly population: A pilot study to evaluate feasibility and tolerability of virtual reality training.\",\"The relation between mindfulness and fear of negative evaluation over the course of cognitive behavioral therapy for social anxiety disorder.\",\"The relationship between virtual self similarity and social anxiety.\",\"Representation of Patients' Hand Modulates Fear Reactions of Patients with Spider Phobia in Virtual Reality.\",\"Research on virtual reality image processing system based on medical platformaper.\",\"Salivary cortisol and cardiovascular reactivity to a public speaking task in a virtual and real-life environment.\",\"The Scientific Legacy of Little Hans and Little Albert: Future Directions for Research on Specific Phobias in Youth.\",\"Screening and Mitigation of Layperson Anxiety in Aerospace Environments.\",\"Self-Reported Psychotic Symptoms in the General Population: Correlates in an Iranian Urban Area.\",\"Sense of presence and anxiety during virtual social interactions between a human and virtual humans.\",\"Sense of presence and metacognition enhancement in virtual reality exposure therapy in the treatment of social phobias and the fear of flying.\",\"Short-term anxiety recognition induced by virtual reality exposure for phobic people.\",\"A simplified inverse kinematic approach for embodied VR applications.\",\"Sleep enhances exposure therapy.\",\"Social attention in a virtual public speaking task in higher functioning children with autism.\",\"Social conditioning and extinction paradigm: a translational study in virtual reality.\",\"Social interactions in virtual reality exposure therapy: A proof-of-concept pilot study.\",\"Socially anxious and confident men interact with a forward virtual woman: An experimental study.\",\"Socially anxious people reveal more personal information with virtual counselors that talk about themselves using intimate human back stories.\",\"Specific phobia: Flight.\",\"Stereotype confirmation concern and fear of negative evaluation among African Americans and Caucasians with Social Anxiety Disorder.\",\"Stereotype confirmation concerns predict dropout from cognitive behavioral therapy for social anxiety disorder.\",\"A survey on virtual environment applications to fear of public speaking.\",\"Telemental health: A status update.\",\"Temporal dynamics in the relation between presence and fear in virtual reality.\",\"The therapeutic lamp: treating small-animal phobias.\",\"Therapy in Virtual Environments-Clinical and Ethical Issues.\",\"The time course of location-avoidance learning in fear of spiders.\",\"Towards a Virtual Reality- and Augmented Reality-Mediated Therapeutic Process model: a theoretical revision of clinical issues and HCI issues.\",\"Towards reactive augmented reality exposure treatment.\",\"Treating phobias with computer games.\",\"Treatment effect on biases in size estimation in spider phobia.\",\"Treatment of flying phobia using virtual reality exposure with or without cognitive restructuring: Participants' preferences.\",\"Treatment of Social Anxiety Disorder Using Online Virtual Environments in Second Life.\",\"Trier Social Stress Test in vivo and in virtual reality: Dissociation of response domains.\",\"Triggers of fear: perceptual cues versus conceptual information in spider phobia.\",\"Use of virtual reality systems and augmented reality for visualizing acrophobic environments.\",\"Using commercial video games for falls prevention in older adults: the way for the future?.\",\"Using expressive and talkative virtual characters in social anxiety disorder treatment.\",\"Using smartphones apps in psychotherapy. Experiences with PTSD, OCD and panic disorder patients.\",\"Using the computer driven VR environment to promote experiences of natural world immersion.\",\"Using virtual reality to improve the efficacy of cognitive-behavioral therapy (CBT) in the treatment of late-life anxiety: preliminary recommendations for future research.\",\"The validity of laboratory-based treatment research: Bridging the gap between fear extinction and exposure treatment.\",\"Virtual And Augmented Reality As Useful And Efficacious Tools For The Psychological Treatment Of Emotional Disorders.\",\"Virtual characters with affective facial behavior.\",\"Virtual environments design assessment for the treatment of claustrophobia.\",\"Virtual natural environments for restoration and rehabilitation in healthcare.\",\"Virtual reality and mobile phones in the treatment of generalized anxiety disorders: a phase-2 clinical trial.\",\"Virtual Reality and ophthalmology.\",\"Virtual reality and stimulation of touch and smell for inducing relaxation: A randomized controlled trial.\",\"Virtual reality applications in assessing the effect of anxiety on sensorimotor integration in human postural control.\",\"Virtual reality as a tool to improve the quality of life of people with autism and learning difficulties.\",\"Virtual reality as alternative for anxiety disorders treatment.\",\"Virtual reality cognitive-behavior therapy for public speaking anxiety: one-year follow-up.\",\"Virtual reality compared with in vivo exposure in the treatment of social anxiety disorder: a three-arm randomised controlled trial.\",\"A virtual reality dialogue system for the treatment of social phobia.\",\"Virtual Reality Exposure and Imaginal Exposure in the Treatment of Fear of Flying: A Pilot Study.\",\"Virtual reality exposure in anxiety disorders: Impact on psychophysiological reactivity.\",\"Virtual Reality Exposure Therapy.\",\"Virtual reality exposure therapy and hypnosis for flying phobia in a treatment-resistant patient: a case report.\",\"Virtual reality exposure therapy does not provide any additional value in agoraphobic patients: A randomized controlled trial.\",\"Virtual reality exposure therapy for social anxiety disorder: a randomized controlled trial.\",\"Virtual reality exposure therapy for the treatment of anxiety disorders: An evaluation of research quality.\",\"Virtual reality exposure therapy versus cognitive behavior therapy for panic disorder with agoraphobia: A randomized comparison study.\",\"Virtual Reality Exposure Training for Musicians: Its Effect on Performance Anxiety and Quality.\",\"Virtual reality exposure using three-dimensional images for the treatment of social phobia.\",\"Virtual Reality in Psychotherapy.\",\"Virtual reality in the treatment of mental disorders.\",\"Virtual reality in the treatment of persecutory delusions: randomised controlled experimental study testing how to reduce delusional conviction.\",\"Virtual reality therapy for treatment of psychological disorders.\",\"[Virtual reality therapy in anxiety disorders].\",\"Virtual Reality-Based Attention Bias Modification Training for Social Anxiety: A Feasibility and Proof of Concept Study.\",\"A virtual reality-integrated program for improving social skills in patients with schizophrenia: A pilot study.\",\"Virtual reflexes.\",\"Virtual representations of the self: Engaging teenagers in emotional regulation strategies learning.\",\"Virtual Worlds of MMORPG: Part II. Remedy for Social and Psychological Ill-Being.\",\"VirtualPhobia: A Model for Virtual Therapy of Phobias.\",\"Visualizing ideal self vs. actual self through avatars: Impact on preventive health outcomes.\",\"Wii Fit is effective in women with bone loss condition associated with balance disorders: a randomized controlled trial.\",\"Working alliance inventory applied to virtual and augmented reality (WAI-VAR): psychometrics and therapeutic outcomes.\",\"Yohimbine enhancement of exposure therapy for social anxiety disorder: A randomized controlled trial.\"],\"x\":{\"__ndarray__\":\"ZHcjvb0cIL9pTRjAMP2zu4CYQsDnoJ0/YbZuQAyxH8DkPLW/KQo6vk8j+71+L/m9gRjvvYeBZsBJFIHACfkOQByzDcDQP7Q/8kxjwBQXPcD9YYHAvuBmvRBPp75VOs+/oe72v0wWCr51X1u/eY4/v5xDnr/ctH3AcQfqv0Aj+r8VXyZARRsTvlsHTL2p6hbA17PHv09GsL/B0/m+vbi3P+LzE0Ae+hC+PQcOP4sAA8BAnoPAekh9wCTFGUBV0Zc/TBssvwKIwj9iWEA/Vjk9wKU4i8DA35Y/VXMWwO5OyL+O0MM/YiYXwNbPF8CeEIrAqSDMPyt7zr/BzKm+jAU5wBrj3z9UjbW9wk4vv017/T/bQtE+jYHEv2+GJMBNWhrAj0uivzsb6L9szYXAsAJcQDuTIL7s9zDABh5qQPkE7D/swcm+aRTlv3ffFT974Lu/sCxHwPzdCEAdwD6/FlLgv2FAsL/q+RVAbi4MQPUhFz9S3gDAwVVLQHNW5b/UwwBAQV5MQIIGV8CftZM+WqwnwLgzJUAmHxRAcekPwJvISsCut5U/vMijPxGygz43LFZArLwmPMTaxL8zERI/B8s+v1N9z798c0q/DKA9QDQMmb9uhw1Av9nNP7woNb9Nq2TAF8D2vhXPLUB7fiI/aIqFP3il275b+U/A6vFoQEhuHEBvhVQ/QjYFPYbOer/imTm/JcIwQN7WJ8Azen6/GOYvwD6fEj/aBlY90cQZvzPSoL1VZrQ/fVCaP7NlD0CLnqO/9REkQF8qhcCdJua/wNqnvksxhcDus3/A7leDPwpuvj/YEiS/vRf6vbya9z+RnCzAukI5wJw2wr/nLXQ/g2LnvxBz8j5QOF+/v1dawPQ9z76UivO+kngnQDQzQcBxYyrAHtkqwFdwQcDT+s6/J8N7wITjeMADbjI/71g3wMm8C8CTMAHAULAjPqJDDb+iiD9AwTsHP/sYE8B3E1VA86nzP+lSpz/Kt4jAcU89v9SEIsCQPM2/rULSv40sDUCwJf4/wN3fPggTDL+nKpA/XJt9v/1jFUAweag9CdkcP1GlhD9YJVw+NaauPhpJmT+aRBG9X5UJQKU+nD/QEa2/Ia3ov241xL/e65s/xpx0v5LJKr+JOk8+67cuvtFryL8qyfG/KZTEv6tn3L8uZTbA30S/v3bfDT8elrG9tDAVPyRNiz6k2Fg+LMd8wLQz5r/0cje/K0DEPzRz9z/tXABANXYxwPdlzD/X/SJAg04PwA==\",\"dtype\":\"float32\",\"shape\":[235]},\"x_backup\":{\"__ndarray__\":\"ZHcjvb0cIL9pTRjAMP2zu4CYQsDnoJ0/YbZuQAyxH8DkPLW/KQo6vk8j+71+L/m9gRjvvYeBZsBJFIHACfkOQByzDcDQP7Q/8kxjwBQXPcD9YYHAvuBmvRBPp75VOs+/oe72v0wWCr51X1u/eY4/v5xDnr/ctH3AcQfqv0Aj+r8VXyZARRsTvlsHTL2p6hbA17PHv09GsL/B0/m+vbi3P+LzE0Ae+hC+PQcOP4sAA8BAnoPAekh9wCTFGUBV0Zc/TBssvwKIwj9iWEA/Vjk9wKU4i8DA35Y/VXMWwO5OyL+O0MM/YiYXwNbPF8CeEIrAqSDMPyt7zr/BzKm+jAU5wBrj3z9UjbW9wk4vv017/T/bQtE+jYHEv2+GJMBNWhrAj0uivzsb6L9szYXAsAJcQDuTIL7s9zDABh5qQPkE7D/swcm+aRTlv3ffFT974Lu/sCxHwPzdCEAdwD6/FlLgv2FAsL/q+RVAbi4MQPUhFz9S3gDAwVVLQHNW5b/UwwBAQV5MQIIGV8CftZM+WqwnwLgzJUAmHxRAcekPwJvISsCut5U/vMijPxGygz43LFZArLwmPMTaxL8zERI/B8s+v1N9z798c0q/DKA9QDQMmb9uhw1Av9nNP7woNb9Nq2TAF8D2vhXPLUB7fiI/aIqFP3il275b+U/A6vFoQEhuHEBvhVQ/QjYFPYbOer/imTm/JcIwQN7WJ8Azen6/GOYvwD6fEj/aBlY90cQZvzPSoL1VZrQ/fVCaP7NlD0CLnqO/9REkQF8qhcCdJua/wNqnvksxhcDus3/A7leDPwpuvj/YEiS/vRf6vbya9z+RnCzAukI5wJw2wr/nLXQ/g2LnvxBz8j5QOF+/v1dawPQ9z76UivO+kngnQDQzQcBxYyrAHtkqwFdwQcDT+s6/J8N7wITjeMADbjI/71g3wMm8C8CTMAHAULAjPqJDDb+iiD9AwTsHP/sYE8B3E1VA86nzP+lSpz/Kt4jAcU89v9SEIsCQPM2/rULSv40sDUCwJf4/wN3fPggTDL+nKpA/XJt9v/1jFUAweag9CdkcP1GlhD9YJVw+NaauPhpJmT+aRBG9X5UJQKU+nD/QEa2/Ia3ov241xL/e65s/xpx0v5LJKr+JOk8+67cuvtFryL8qyfG/KZTEv6tn3L8uZTbA30S/v3bfDT8elrG9tDAVPyRNiz6k2Fg+LMd8wLQz5r/0cje/K0DEPzRz9z/tXABANXYxwPdlzD/X/SJAg04PwA==\",\"dtype\":\"float32\",\"shape\":[235]},\"y\":{\"__ndarray__\":\"yHtqQGEfST+j4uw+aiaBwK0TgMCyVp+/jFMCwJP1RL/GAq8/+liFwAimh8DajYfAJ1OHwPJCkD6yp2I+kG+3vhwE5L92FR9A6nwBwCz0N8AtmJU9CEzrvmSsAL8kZnbAM+ugvwdSiL9wpvI+u5JTQGpUlj+5+8Q/qqMEQKI+AEAjuTPAPl2/PaQuWsDakXNAZp4iQCDuUb/qAcI/a1dAPoRh67/iXGpAsl1BwDL5OL9K8BI+ahtYPqL0Zz7d2c8/J9Ojv2MM2T9tadG/YSbMP6Xfzb/M+Qa/hRm6Pz90esCGrHHAAdpoQMD3bUCxsMy/XuwzQF5a6j9I42lAMKsmQLJlbsCsYv6/7RbtvwhQVsAPUhdAwL0QQHnuLsB/Dve/i5ACP73I9r6BWdY/zUKMPoLnhj9ZyzNAubZkvkc7Sz9THSc/5fCaPhWmTcBTBx3AcrCiv4VfK8A9ZmLASSyxP/brWz57uf+/Byx6wMO0yr9EO1m/iaCLv3uc/b/0a1LAqCSNv8FVvj7Q4eW/9LiiP1YTTz/gQiG/LljoP1Qukr8KPcs/wRxvv4ko1L8ur4Y+64sWwN/IcMB7h7g/v/gIQJ8nY8C2ElrA40Z8v+jb9L+LtBA/RPlxwPUzMb9zpPE+2DNev343ZD8ARKm9AgUePlX3+L/ZuUe/E5UCwFLjnz2efvy/MZ02QNrcnL5d5g1ApybiP1889T8Ph9Y/0n1JP88aVUDtjjRAfHMmQIV24z8QCyk+ugDOP5iVgMDkwRzA4+Pmv5pN0j9cefW/r6UGwHLcxD0rYMI/CkK+vij/Jb+L+QC/BGr3PzNdR8CoKb4+kAAzwM4OL8ANM34/7YeMv86xHkAP9U9Aa1uIP8Z2w79Kj+y/dhfmP5txf8D76KE/kZygvvWKk7+/LHI9yf0PwOXhFcCxDDJAFKqYvl0n4T5wHCi/EVDzP469DsBzcHO/36uePtRtBsB6uRM+1b6DP0390z91Se0/xEQjQPKDHD/B66S/Gw1qwJQZrz4n7GLAN388vx5xLD/h8Ta/VtC2Pwoz/j9VdxS+dGaWv0jehT7UCg6+IyCCP4zQub82BhjAF85NwI37nb82IClABumxP1KGhj9C7MY/fmoFQCh1xz5Nkao+EqOsP+1PFEBTW3M/cYs3QFx1C0Apli9AeHpIP6FUWr/Vfos/Y0sbPTtVDD/P3fY+qrq3P0/gUD7QGnu/lkzxv67nFUCiIM0/uBo2wIFleMCRVW0+JtrwPg==\",\"dtype\":\"float32\",\"shape\":[235]},\"y_backup\":{\"__ndarray__\":\"yHtqQGEfST+j4uw+aiaBwK0TgMCyVp+/jFMCwJP1RL/GAq8/+liFwAimh8DajYfAJ1OHwPJCkD6yp2I+kG+3vhwE5L92FR9A6nwBwCz0N8AtmJU9CEzrvmSsAL8kZnbAM+ugvwdSiL9wpvI+u5JTQGpUlj+5+8Q/qqMEQKI+AEAjuTPAPl2/PaQuWsDakXNAZp4iQCDuUb/qAcI/a1dAPoRh67/iXGpAsl1BwDL5OL9K8BI+ahtYPqL0Zz7d2c8/J9Ojv2MM2T9tadG/YSbMP6Xfzb/M+Qa/hRm6Pz90esCGrHHAAdpoQMD3bUCxsMy/XuwzQF5a6j9I42lAMKsmQLJlbsCsYv6/7RbtvwhQVsAPUhdAwL0QQHnuLsB/Dve/i5ACP73I9r6BWdY/zUKMPoLnhj9ZyzNAubZkvkc7Sz9THSc/5fCaPhWmTcBTBx3AcrCiv4VfK8A9ZmLASSyxP/brWz57uf+/Byx6wMO0yr9EO1m/iaCLv3uc/b/0a1LAqCSNv8FVvj7Q4eW/9LiiP1YTTz/gQiG/LljoP1Qukr8KPcs/wRxvv4ko1L8ur4Y+64sWwN/IcMB7h7g/v/gIQJ8nY8C2ElrA40Z8v+jb9L+LtBA/RPlxwPUzMb9zpPE+2DNev343ZD8ARKm9AgUePlX3+L/ZuUe/E5UCwFLjnz2efvy/MZ02QNrcnL5d5g1ApybiP1889T8Ph9Y/0n1JP88aVUDtjjRAfHMmQIV24z8QCyk+ugDOP5iVgMDkwRzA4+Pmv5pN0j9cefW/r6UGwHLcxD0rYMI/CkK+vij/Jb+L+QC/BGr3PzNdR8CoKb4+kAAzwM4OL8ANM34/7YeMv86xHkAP9U9Aa1uIP8Z2w79Kj+y/dhfmP5txf8D76KE/kZygvvWKk7+/LHI9yf0PwOXhFcCxDDJAFKqYvl0n4T5wHCi/EVDzP469DsBzcHO/36uePtRtBsB6uRM+1b6DP0390z91Se0/xEQjQPKDHD/B66S/Gw1qwJQZrz4n7GLAN388vx5xLD/h8Ta/VtC2Pwoz/j9VdxS+dGaWv0jehT7UCg6+IyCCP4zQub82BhjAF85NwI37nb82IClABumxP1KGhj9C7MY/fmoFQCh1xz5Nkao+EqOsP+1PFEBTW3M/cYs3QFx1C0Apli9AeHpIP6FUWr/Vfos/Y0sbPTtVDD/P3fY+qrq3P0/gUD7QGnu/lkzxv67nFUCiIM0/uBo2wIFleMCRVW0+JtrwPg==\",\"dtype\":\"float32\",\"shape\":[235]}},\"selected\":{\"id\":\"1063\",\"type\":\"Selection\"},\"selection_policy\":{\"id\":\"1062\",\"type\":\"UnionRenderers\"}},\"id\":\"1002\",\"type\":\"ColumnDataSource\"},{\"attributes\":{\"callback\":{\"id\":\"1054\",\"type\":\"CustomJS\"},\"end\":20,\"margin\":[15,15,15,15],\"sizing_mode\":\"stretch_width\",\"start\":0,\"title\":\"Cluster #\",\"value\":20},\"id\":\"1065\",\"type\":\"Slider\"},{\"attributes\":{\"ticker\":{\"id\":\"1017\",\"type\":\"BasicTicker\"}},\"id\":\"1020\",\"type\":\"Grid\"},{\"attributes\":{\"formatter\":{\"id\":\"1048\",\"type\":\"BasicTickFormatter\"},\"ticker\":{\"id\":\"1022\",\"type\":\"BasicTicker\"}},\"id\":\"1021\",\"type\":\"LinearAxis\"},{\"attributes\":{},\"id\":\"1022\",\"type\":\"BasicTicker\"},{\"attributes\":{\"children\":[{\"id\":\"1053\",\"type\":\"Paragraph\"}]},\"id\":\"1069\",\"type\":\"Row\"},{\"attributes\":{\"children\":[{\"id\":\"1055\",\"type\":\"Div\"}]},\"id\":\"1070\",\"type\":\"Row\"},{\"attributes\":{\"args\":{\"out_text\":{\"id\":\"1053\",\"type\":\"Paragraph\"},\"p\":{\"id\":\"1005\",\"subtype\":\"Figure\",\"type\":\"Plot\"},\"slider\":{\"id\":\"1065\",\"type\":\"Slider\"},\"source\":{\"id\":\"1002\",\"type\":\"ColumnDataSource\"},\"text\":{\"id\":\"1066\",\"type\":\"TextInput\"},\"topics\":[\"balance, train, group, reality, adult, old, effect, control, lead, year, participant, efficacy, week, aim, age, program, methods, virtual\\n\",\"system, reality, people, treatment, virtual, stimulus, phobia, subject, intervention, use, rehabilitation, psychological, effect, assessment, life, concept, present\\n\",\"therapy, exposure, phobia, virtual, vret, anxiety, context, disorder, cognitive, dcs, d-cycloserine, outcome, ptsd, reality, measure, case\\n\",\"presence, avatar, visual, fear, anxiety, cue, stress, patient, participant, system, vivo, time, stimulus, virtual, body, technology, measure, field, learn, experience, negative, relationship\\n\",\"virtual, disorder, treatment, therapy, environment, reality, condition, context, socially, fear, change, anxious, evaluation, negative, participant, patient, treat, sad, use, receive, suggest, aim\\n\"]},\"code\":\"\\n\\t\\t\\t\\tvar key = text.value;\\n\\t\\t\\t\\tkey = key.toLowerCase();\\n\\t\\t\\t\\tvar cluster = slider.value;\\n                var data = source.data; \\n                \\n                \\n                x = data['x'];\\n                y = data['y'];\\n                x_backup = data['x_backup'];\\n                y_backup = data['y_backup'];\\n                labels = data['desc'];\\n                abstract = data['abstract'];\\n                titles = data['titles'];\\n                authors = data['authors'];\\n                journal = data['journal'];\\n                if (cluster == '20') {\\n                    out_text.text = 'Keywords: Slide to specific cluster to see the keywords.';\\n                    for (i = 0; i < x.length; i++) {\\n\\t\\t\\t\\t\\t\\tif(abstract[i].includes(key) || \\n\\t\\t\\t\\t\\t\\ttitles[i].includes(key) || \\n\\t\\t\\t\\t\\t\\tauthors[i].includes(key) || \\n\\t\\t\\t\\t\\t\\tjournal[i].includes(key)) {\\n\\t\\t\\t\\t\\t\\t\\tx[i] = x_backup[i];\\n\\t\\t\\t\\t\\t\\t\\ty[i] = y_backup[i];\\n\\t\\t\\t\\t\\t\\t} else {\\n\\t\\t\\t\\t\\t\\t\\tx[i] = undefined;\\n\\t\\t\\t\\t\\t\\t\\ty[i] = undefined;\\n\\t\\t\\t\\t\\t\\t}\\n                    }\\n                }\\n                else {\\n                    out_text.text = 'Keywords: ' + topics[Number(cluster)];\\n                    for (i = 0; i < x.length; i++) {\\n                        if(labels[i] == cluster) {\\n\\t\\t\\t\\t\\t\\t\\tif(abstract[i].includes(key) || \\n\\t\\t\\t\\t\\t\\t\\ttitles[i].includes(key) || \\n\\t\\t\\t\\t\\t\\t\\tauthors[i].includes(key) || \\n\\t\\t\\t\\t\\t\\t\\tjournal[i].includes(key)) {\\n\\t\\t\\t\\t\\t\\t\\t\\tx[i] = x_backup[i];\\n\\t\\t\\t\\t\\t\\t\\t\\ty[i] = y_backup[i];\\n\\t\\t\\t\\t\\t\\t\\t} else {\\n\\t\\t\\t\\t\\t\\t\\t\\tx[i] = undefined;\\n\\t\\t\\t\\t\\t\\t\\t\\ty[i] = undefined;\\n\\t\\t\\t\\t\\t\\t\\t}\\n                        } else {\\n                            x[i] = undefined;\\n                            y[i] = undefined;\\n                        }\\n                    }\\n                }\\n            source.change.emit();\\n            \"},\"id\":\"1054\",\"type\":\"CustomJS\"},{\"attributes\":{\"active_drag\":\"auto\",\"active_inspect\":\"auto\",\"active_multi\":null,\"active_scroll\":\"auto\",\"active_tap\":\"auto\",\"tools\":[{\"id\":\"1003\",\"type\":\"HoverTool\"},{\"id\":\"1026\",\"type\":\"PanTool\"},{\"id\":\"1027\",\"type\":\"WheelZoomTool\"},{\"id\":\"1028\",\"type\":\"BoxZoomTool\"},{\"id\":\"1029\",\"type\":\"ResetTool\"},{\"id\":\"1030\",\"type\":\"SaveTool\"},{\"id\":\"1031\",\"type\":\"TapTool\"}]},\"id\":\"1032\",\"type\":\"Toolbar\"},{\"attributes\":{\"height\":45,\"margin\":[20,20,20,20],\"sizing_mode\":\"scale_both\",\"style\":{\"color\":\"#0269A4\",\"font-family\":\"Helvetica Neue, Helvetica, Arial, sans-serif;\",\"font-size\":\"1.1em\"},\"text\":\"Keywords: Slide to specific cluster to see the keywords.\"},\"id\":\"1053\",\"type\":\"Paragraph\"},{\"attributes\":{\"data_source\":{\"id\":\"1002\",\"type\":\"ColumnDataSource\"},\"glyph\":{\"id\":\"1041\",\"type\":\"Scatter\"},\"hover_glyph\":null,\"muted_glyph\":null,\"nonselection_glyph\":{\"id\":\"1042\",\"type\":\"Scatter\"},\"selection_glyph\":null,\"view\":{\"id\":\"1044\",\"type\":\"CDSView\"}},\"id\":\"1043\",\"type\":\"GlyphRenderer\"},{\"attributes\":{\"height\":150,\"margin\":[20,20,20,20],\"sizing_mode\":\"scale_both\",\"style\":{\"color\":\"#BF0A30\",\"font-family\":\"Helvetica Neue, Helvetica, Arial, sans-serif;\",\"font-size\":\"1.1em\"},\"text\":\"Click on a plot to see the link to the article.\"},\"id\":\"1055\",\"type\":\"Div\"},{\"attributes\":{\"dimension\":1,\"ticker\":{\"id\":\"1022\",\"type\":\"BasicTicker\"}},\"id\":\"1025\",\"type\":\"Grid\"},{\"attributes\":{\"children\":[{\"id\":\"1005\",\"subtype\":\"Figure\",\"type\":\"Plot\"}]},\"id\":\"1071\",\"type\":\"Row\"},{\"attributes\":{\"text\":\"Clustering of the COVID-19 Literature with t-SNE and K-Means\"},\"id\":\"1006\",\"type\":\"Title\"},{\"attributes\":{\"source\":{\"id\":\"1002\",\"type\":\"ColumnDataSource\"}},\"id\":\"1044\",\"type\":\"CDSView\"},{\"attributes\":{},\"id\":\"1062\",\"type\":\"UnionRenderers\"},{\"attributes\":{\"below\":[{\"id\":\"1016\",\"type\":\"LinearAxis\"}],\"center\":[{\"id\":\"1020\",\"type\":\"Grid\"},{\"id\":\"1025\",\"type\":\"Grid\"},{\"id\":\"1051\",\"type\":\"Legend\"}],\"left\":[{\"id\":\"1021\",\"type\":\"LinearAxis\"}],\"margin\":[5,5,5,5],\"plot_height\":850,\"plot_width\":1200,\"renderers\":[{\"id\":\"1043\",\"type\":\"GlyphRenderer\"}],\"sizing_mode\":\"scale_both\",\"title\":{\"id\":\"1006\",\"type\":\"Title\"},\"toolbar\":{\"id\":\"1032\",\"type\":\"Toolbar\"},\"toolbar_location\":\"above\",\"x_range\":{\"id\":\"1008\",\"type\":\"DataRange1d\"},\"x_scale\":{\"id\":\"1012\",\"type\":\"LinearScale\"},\"y_range\":{\"id\":\"1010\",\"type\":\"DataRange1d\"},\"y_scale\":{\"id\":\"1014\",\"type\":\"LinearScale\"}},\"id\":\"1005\",\"subtype\":\"Figure\",\"type\":\"Plot\"},{\"attributes\":{\"fill_color\":{\"field\":\"desc\",\"transform\":{\"id\":\"1004\",\"type\":\"LinearColorMapper\"}},\"line_alpha\":{\"value\":0.3},\"size\":{\"units\":\"screen\",\"value\":5},\"x\":{\"field\":\"x\"},\"y\":{\"field\":\"y\"}},\"id\":\"1041\",\"type\":\"Scatter\"},{\"attributes\":{\"args\":{\"current_selection\":{\"id\":\"1055\",\"type\":\"Div\"},\"source\":{\"id\":\"1002\",\"type\":\"ColumnDataSource\"}},\"code\":\"\\n            var titles = [];\\n            var authors = [];\\n            var journals = [];\\n            var links = [];\\n            cb_data.source.selected.indices.forEach(index => titles.push(source.data['titles'][index]));\\n            cb_data.source.selected.indices.forEach(index => authors.push(source.data['authors'][index]));\\n            cb_data.source.selected.indices.forEach(index => journals.push(source.data['journal'][index]));\\n            cb_data.source.selected.indices.forEach(index => links.push(source.data['links'][index]));\\n            title = \\\"<h4>\\\" + titles[0].toString().replace(/<br>/g, ' ') + \\\"</h4>\\\";\\n            authors = \\\"<p1><b>Authors:</b> \\\" + authors[0].toString().replace(/<br>/g, ' ') + \\\"<br>\\\"\\n            // journal = \\\"<b>Journal</b>\\\" + journals[0].toString() + \\\"<br>\\\"\\n            link = \\\"<b>Link:</b> <a href='\\\" + \\\"http://doi.org/\\\" + links[0].toString() + \\\"'>\\\" + \\\"http://doi.org/\\\" + links[0].toString() + \\\"</a></p1>\\\"\\n            current_selection.text = title + authors + link\\n            current_selection.change.emit();\\n    \"},\"id\":\"1056\",\"type\":\"CustomJS\"},{\"attributes\":{\"callback\":null},\"id\":\"1008\",\"type\":\"DataRange1d\"},{\"attributes\":{},\"id\":\"1063\",\"type\":\"Selection\"},{\"attributes\":{\"callback\":{\"id\":\"1054\",\"type\":\"CustomJS\"},\"margin\":[15,15,15,15],\"sizing_mode\":\"scale_both\",\"title\":\"Search:\"},\"id\":\"1066\",\"type\":\"TextInput\"},{\"attributes\":{},\"id\":\"1026\",\"type\":\"PanTool\"},{\"attributes\":{},\"id\":\"1048\",\"type\":\"BasicTickFormatter\"},{\"attributes\":{},\"id\":\"1027\",\"type\":\"WheelZoomTool\"},{\"attributes\":{\"callback\":null},\"id\":\"1010\",\"type\":\"DataRange1d\"},{\"attributes\":{\"overlay\":{\"id\":\"1050\",\"type\":\"BoxAnnotation\"}},\"id\":\"1028\",\"type\":\"BoxZoomTool\"},{\"attributes\":{},\"id\":\"1012\",\"type\":\"LinearScale\"},{\"attributes\":{\"fill_alpha\":{\"value\":0.1},\"fill_color\":{\"value\":\"#1f77b4\"},\"line_alpha\":{\"value\":0.1},\"line_color\":{\"value\":\"#1f77b4\"},\"size\":{\"units\":\"screen\",\"value\":5},\"x\":{\"field\":\"x\"},\"y\":{\"field\":\"y\"}},\"id\":\"1042\",\"type\":\"Scatter\"},{\"attributes\":{},\"id\":\"1046\",\"type\":\"BasicTickFormatter\"},{\"attributes\":{},\"id\":\"1029\",\"type\":\"ResetTool\"},{\"attributes\":{\"background_fill_alpha\":{\"value\":0.6},\"items\":[{\"id\":\"1052\",\"type\":\"LegendItem\"}]},\"id\":\"1051\",\"type\":\"Legend\"},{\"attributes\":{\"children\":[{\"id\":\"1065\",\"type\":\"Slider\"},{\"id\":\"1066\",\"type\":\"TextInput\"}]},\"id\":\"1068\",\"type\":\"Row\"},{\"attributes\":{\"callback\":null,\"point_policy\":\"follow_mouse\",\"tooltips\":[[\"Title\",\"@titles{safe}\"],[\"Label\",\"@Labels{safe}\"],[\"Cluster\",\"@clusters{safe}\"]]},\"id\":\"1003\",\"type\":\"HoverTool\"},{\"attributes\":{},\"id\":\"1030\",\"type\":\"SaveTool\"},{\"attributes\":{\"bottom_units\":\"screen\",\"fill_alpha\":{\"value\":0.5},\"fill_color\":{\"value\":\"lightgrey\"},\"left_units\":\"screen\",\"level\":\"overlay\",\"line_alpha\":{\"value\":1.0},\"line_color\":{\"value\":\"black\"},\"line_dash\":[4,4],\"line_width\":{\"value\":2},\"render_mode\":\"css\",\"right_units\":\"screen\",\"top_units\":\"screen\"},\"id\":\"1050\",\"type\":\"BoxAnnotation\"},{\"attributes\":{\"formatter\":{\"id\":\"1046\",\"type\":\"BasicTickFormatter\"},\"ticker\":{\"id\":\"1017\",\"type\":\"BasicTicker\"}},\"id\":\"1016\",\"type\":\"LinearAxis\"},{\"attributes\":{\"label\":{\"field\":\"labels\"},\"renderers\":[{\"id\":\"1043\",\"type\":\"GlyphRenderer\"}]},\"id\":\"1052\",\"type\":\"LegendItem\"},{\"attributes\":{},\"id\":\"1014\",\"type\":\"LinearScale\"},{\"attributes\":{\"callback\":{\"id\":\"1056\",\"type\":\"CustomJS\"}},\"id\":\"1031\",\"type\":\"TapTool\"},{\"attributes\":{\"high\":4,\"low\":0,\"palette\":[\"#1f77b4\",\"#aec7e8\",\"#ff7f0e\",\"#ffbb78\",\"#2ca02c\",\"#98df8a\",\"#d62728\",\"#ff9896\",\"#9467bd\",\"#c5b0d5\",\"#8c564b\",\"#c49c94\",\"#e377c2\",\"#f7b6d2\",\"#7f7f7f\",\"#c7c7c7\",\"#bcbd22\",\"#dbdb8d\",\"#17becf\",\"#9edae5\"]},\"id\":\"1004\",\"type\":\"LinearColorMapper\"},{\"attributes\":{},\"id\":\"1017\",\"type\":\"BasicTicker\"}],\"root_ids\":[\"1072\"]},\"title\":\"Bokeh Application\",\"version\":\"1.4.0\"}};\n",
       "  var render_items = [{\"docid\":\"dafdf151-a969-4f14-ab73-0a2fd25417fc\",\"roots\":{\"1072\":\"576d0dd4-f225-455a-b21d-c6d990461dbc\"}}];\n",
       "  root.Bokeh.embed.embed_items_notebook(docs_json, render_items);\n",
       "\n",
       "  }\n",
       "  if (root.Bokeh !== undefined) {\n",
       "    embed_document(root);\n",
       "  } else {\n",
       "    var attempts = 0;\n",
       "    var timer = setInterval(function(root) {\n",
       "      if (root.Bokeh !== undefined) {\n",
       "        clearInterval(timer);\n",
       "        embed_document(root);\n",
       "      } else {\n",
       "        attempts++;\n",
       "        if (attempts > 100) {\n",
       "          clearInterval(timer);\n",
       "          console.log(\"Bokeh: ERROR: Unable to run BokehJS code because BokehJS library is missing\");\n",
       "        }\n",
       "      }\n",
       "    }, 10, root)\n",
       "  }\n",
       "})(window);"
      ],
      "application/vnd.bokehjs_exec.v0+json": ""
     },
     "metadata": {
      "application/vnd.bokehjs_exec.v0+json": {
       "id": "1072"
      }
     },
     "output_type": "display_data"
    }
   ],
   "source": [
    "# LAYOUT OF THE PAGE\n",
    "l = layout([\n",
    "    [slider, keyword],\n",
    "    [text_banner],\n",
    "    [div_curr],\n",
    "    [plot],\n",
    "])\n",
    "l.sizing_mode = \"scale_both\"\n",
    "\n",
    "# show\n",
    "output_file('t-sne_covid-19_interactive.html')\n",
    "show(l)"
   ]
  },
  {
   "cell_type": "markdown",
   "metadata": {},
   "source": [
    "# 횟수 기반 검색"
   ]
  },
  {
   "cell_type": "markdown",
   "metadata": {},
   "source": [
    "정수 인코딩"
   ]
  },
  {
   "cell_type": "code",
   "execution_count": 33,
   "metadata": {},
   "outputs": [
    {
     "data": {
      "text/plain": [
       "235"
      ]
     },
     "execution_count": 33,
     "metadata": {},
     "output_type": "execute_result"
    }
   ],
   "source": [
    "tokenizer_keras = Tokenizer()\n",
    "\n",
    "tokenizer_keras.fit_on_texts(token_forTF)\n",
    "token_indexing = tokenizer_keras.texts_to_sequences(token_forTF)  # 상위빈도수 적용x\n",
    "token_indexing\n",
    "len(token_indexing)"
   ]
  },
  {
   "cell_type": "markdown",
   "metadata": {},
   "source": [
    "문서 단어 행렬 (Document-Term Matrix, DTM)"
   ]
  },
  {
   "cell_type": "code",
   "execution_count": 34,
   "metadata": {},
   "outputs": [
    {
     "data": {
      "text/plain": [
       "(235, 3594)"
      ]
     },
     "execution_count": 34,
     "metadata": {},
     "output_type": "execute_result"
    }
   ],
   "source": [
    "\n",
    "cVector = CountVectorizer(stop_words=None, max_features=None, lowercase=False, ngram_range=(1,1))\n",
    "\n",
    "DTM_vector = cVector.fit_transform(token_forTF).toarray()   # =BOW\n",
    "# len(DTM_vector)\n",
    "DTM_vector.shape"
   ]
  },
  {
   "cell_type": "markdown",
   "metadata": {},
   "source": [
    "TF-IDF"
   ]
  },
  {
   "cell_type": "code",
   "execution_count": 35,
   "metadata": {},
   "outputs": [
    {
     "data": {
      "text/plain": [
       "(235, 3594)"
      ]
     },
     "execution_count": 35,
     "metadata": {},
     "output_type": "execute_result"
    }
   ],
   "source": [
    "\n",
    "tfidfVector = TfidfVectorizer(stop_words=None, ngram_range=(1,1)) # ngram_range: (1,1) unigram, (2,2) bigram\n",
    "tfidf_matrix = tfidfVector.fit_transform(token_forTF).toarray()\n",
    "tfidf_matrix.shape\n",
    "tfidf_matrix_m = tfidf_matrix-tfidf_matrix.mean()\n",
    "tfidf_matrix_m.shape\n",
    "# print(tfidfVector.transform(token_forTF).toarray())\n",
    "# print(tfidfVector.vocabulary_)\n",
    "# token_forTF"
   ]
  },
  {
   "cell_type": "markdown",
   "metadata": {},
   "source": [
    "LDA"
   ]
  },
  {
   "cell_type": "code",
   "execution_count": 36,
   "metadata": {},
   "outputs": [
    {
     "data": {
      "text/plain": [
       "(235, 5)"
      ]
     },
     "execution_count": 36,
     "metadata": {},
     "output_type": "execute_result"
    }
   ],
   "source": [
    "from sklearn.decomposition import LatentDirichletAllocation\n",
    "\n",
    "NUM_TOPICS = 5   # 만들 토필 수 지정\n",
    "lda = LatentDirichletAllocation(n_components=NUM_TOPICS, max_iter=10, random_state=np.random.RandomState(10))\n",
    "lda_vector = lda.fit_transform(DTM_vector)\n",
    "\n",
    "lda_vector.shape\n",
    "# len(lda_vector)"
   ]
  },
  {
   "cell_type": "markdown",
   "metadata": {},
   "source": [
    "truncated SVD"
   ]
  },
  {
   "cell_type": "code",
   "execution_count": 37,
   "metadata": {},
   "outputs": [
    {
     "data": {
      "text/plain": [
       "array([[ 0.22107219,  0.01590442, -0.16628801, -0.03941185,  0.05159315],\n",
       "       [ 0.29249371, -0.03032733, -0.1403613 , -0.07332448, -0.0146883 ],\n",
       "       [ 0.19187674, -0.07620144,  0.01748328, -0.00486139, -0.01026394],\n",
       "       ...,\n",
       "       [ 0.10925631, -0.06070623,  0.14024768, -0.11832945,  0.44822249],\n",
       "       [ 0.11663929,  0.01124245, -0.02683234, -0.04419143, -0.01605807],\n",
       "       [ 0.30080385, -0.2130708 ,  0.09702119,  0.10408969, -0.00397035]])"
      ]
     },
     "execution_count": 37,
     "metadata": {},
     "output_type": "execute_result"
    }
   ],
   "source": [
    "from sklearn.decomposition import TruncatedSVD\n",
    "\n",
    "svd = TruncatedSVD(n_components=5, n_iter=100)\n",
    "svd_vector = svd.fit_transform(tfidf_matrix_m)\n",
    "# svd_vector = pd.DataFrame(svd_vector)\n",
    "svd_vector"
   ]
  },
  {
   "cell_type": "markdown",
   "metadata": {},
   "source": [
    "# 유사도 검색"
   ]
  },
  {
   "cell_type": "markdown",
   "metadata": {},
   "source": [
    "유클리디안 거리"
   ]
  },
  {
   "cell_type": "code",
   "execution_count": 38,
   "metadata": {},
   "outputs": [
    {
     "name": "stdout",
     "output_type": "stream",
     "text": [
      "seed number : 215\n"
     ]
    }
   ],
   "source": [
    "## seed literature 제목입력해서 행 값 찾기\n",
    "# print(df_nullout.loc[df_nullout['Title'] == 'A virtual reality application in role-plays of social skills training for schizophrenia: a randomized, controlled trial'].index)\n",
    "seed_idxnum = df_nullout.loc[df_nullout['Title'] == 'Virtual reality exposure therapy for social anxiety disorder: a randomized controlled trial.'].index[0]\n",
    "print('seed number :',seed_idxnum)"
   ]
  },
  {
   "cell_type": "code",
   "execution_count": 39,
   "metadata": {},
   "outputs": [],
   "source": [
    "def get_recommendation_euclidean(title, n, vector_form=tfidf_matrix_m):\n",
    "    '''title: 논문제목, n: 몇 개 까지 띄울지'''\n",
    "    idx = indices[title]\n",
    "    euclidean_sim = []\n",
    "    for i in range(0, len(vector_form)):\n",
    "        euclidean_sim.append(0+(euclidean(vector_form[idx], vector_form[i])))\n",
    "    \n",
    "    # euclidean distance가 1이상 값이 나와서 0~1로 nomalization\n",
    "    temp = euclidean_sim[idx]\n",
    "    del euclidean_sim[idx]     # normalization 하기위해 동일 문서에 대한 값 제거했다가 추가\n",
    "    euclidean_sim = scaler.fit_transform(np.reshape(euclidean_sim, (-1,1))).flatten().tolist()\n",
    "    euclidean_sim.insert(idx, temp)\n",
    "    euclidean_sim = [1-i for i in euclidean_sim] # distance -> similarity\n",
    "    euclidean_scores = list(enumerate(euclidean_sim))\n",
    "    \n",
    "    df_euclisim = df_nullout\n",
    "    df_euclisim['Similarity'] = [i[1] for i in euclidean_scores]\n",
    "    euc_scores_sort = sorted(euclidean_scores, key=lambda x: x[1], reverse=True)\n",
    "    euc_scores_sort = euc_scores_sort[0:n+1]\n",
    "    article_indices = [i[0] for i in euc_scores_sort]\n",
    "    \n",
    "    return df_euclisim[['Title', 'Label', 'Similarity']].iloc[article_indices]"
   ]
  },
  {
   "cell_type": "code",
   "execution_count": 40,
   "metadata": {},
   "outputs": [
    {
     "name": "stdout",
     "output_type": "stream",
     "text": [
      "11\n"
     ]
    },
    {
     "data": {
      "text/html": [
       "<div>\n",
       "<style scoped>\n",
       "    .dataframe tbody tr th:only-of-type {\n",
       "        vertical-align: middle;\n",
       "    }\n",
       "\n",
       "    .dataframe tbody tr th {\n",
       "        vertical-align: top;\n",
       "    }\n",
       "\n",
       "    .dataframe thead th {\n",
       "        text-align: right;\n",
       "    }\n",
       "</style>\n",
       "<table border=\"1\" class=\"dataframe\">\n",
       "  <thead>\n",
       "    <tr style=\"text-align: right;\">\n",
       "      <th></th>\n",
       "      <th>index</th>\n",
       "      <th>Title</th>\n",
       "      <th>Label</th>\n",
       "      <th>Similarity</th>\n",
       "    </tr>\n",
       "  </thead>\n",
       "  <tbody>\n",
       "    <tr>\n",
       "      <th>16</th>\n",
       "      <td>30</td>\n",
       "      <td>Cognitive-behavioral treatment and antidepress...</td>\n",
       "      <td>1.0</td>\n",
       "      <td>0.601643</td>\n",
       "    </tr>\n",
       "    <tr>\n",
       "      <th>14</th>\n",
       "      <td>31</td>\n",
       "      <td>The combined use of virtual reality exposure i...</td>\n",
       "      <td>1.0</td>\n",
       "      <td>0.641218</td>\n",
       "    </tr>\n",
       "    <tr>\n",
       "      <th>42</th>\n",
       "      <td>36</td>\n",
       "      <td>A controlled study of agoraphobia and the inde...</td>\n",
       "      <td>1.0</td>\n",
       "      <td>0.458543</td>\n",
       "    </tr>\n",
       "    <tr>\n",
       "      <th>20</th>\n",
       "      <td>61</td>\n",
       "      <td>Effectiveness of cognitive behavioral therapy ...</td>\n",
       "      <td>1.0</td>\n",
       "      <td>0.543875</td>\n",
       "    </tr>\n",
       "    <tr>\n",
       "      <th>2</th>\n",
       "      <td>81</td>\n",
       "      <td>Exposure to virtual social interactions in the...</td>\n",
       "      <td>1.0</td>\n",
       "      <td>0.951354</td>\n",
       "    </tr>\n",
       "    <tr>\n",
       "      <th>7</th>\n",
       "      <td>111</td>\n",
       "      <td>In Vivo versus augmented reality exposure in t...</td>\n",
       "      <td>1.0</td>\n",
       "      <td>0.722884</td>\n",
       "    </tr>\n",
       "    <tr>\n",
       "      <th>17</th>\n",
       "      <td>134</td>\n",
       "      <td>One session treatment of cognitive and behavio...</td>\n",
       "      <td>1.0</td>\n",
       "      <td>0.596737</td>\n",
       "    </tr>\n",
       "    <tr>\n",
       "      <th>0</th>\n",
       "      <td>208</td>\n",
       "      <td>Virtual reality compared with in vivo exposure...</td>\n",
       "      <td>1.0</td>\n",
       "      <td>1.000000</td>\n",
       "    </tr>\n",
       "    <tr>\n",
       "      <th>8</th>\n",
       "      <td>214</td>\n",
       "      <td>Virtual reality exposure therapy does not prov...</td>\n",
       "      <td>1.0</td>\n",
       "      <td>0.721483</td>\n",
       "    </tr>\n",
       "    <tr>\n",
       "      <th>1</th>\n",
       "      <td>215</td>\n",
       "      <td>Virtual reality exposure therapy for social an...</td>\n",
       "      <td>1.0</td>\n",
       "      <td>1.000000</td>\n",
       "    </tr>\n",
       "    <tr>\n",
       "      <th>37</th>\n",
       "      <td>217</td>\n",
       "      <td>Virtual reality exposure therapy versus cognit...</td>\n",
       "      <td>1.0</td>\n",
       "      <td>0.462231</td>\n",
       "    </tr>\n",
       "  </tbody>\n",
       "</table>\n",
       "</div>"
      ],
      "text/plain": [
       "    index                                              Title  Label  \\\n",
       "16     30  Cognitive-behavioral treatment and antidepress...    1.0   \n",
       "14     31  The combined use of virtual reality exposure i...    1.0   \n",
       "42     36  A controlled study of agoraphobia and the inde...    1.0   \n",
       "20     61  Effectiveness of cognitive behavioral therapy ...    1.0   \n",
       "2      81  Exposure to virtual social interactions in the...    1.0   \n",
       "7     111  In Vivo versus augmented reality exposure in t...    1.0   \n",
       "17    134  One session treatment of cognitive and behavio...    1.0   \n",
       "0     208  Virtual reality compared with in vivo exposure...    1.0   \n",
       "8     214  Virtual reality exposure therapy does not prov...    1.0   \n",
       "1     215  Virtual reality exposure therapy for social an...    1.0   \n",
       "37    217  Virtual reality exposure therapy versus cognit...    1.0   \n",
       "\n",
       "    Similarity  \n",
       "16    0.601643  \n",
       "14    0.641218  \n",
       "42    0.458543  \n",
       "20    0.543875  \n",
       "2     0.951354  \n",
       "7     0.722884  \n",
       "17    0.596737  \n",
       "0     1.000000  \n",
       "8     0.721483  \n",
       "1     1.000000  \n",
       "37    0.462231  "
      ]
     },
     "execution_count": 40,
     "metadata": {},
     "output_type": "execute_result"
    }
   ],
   "source": [
    "df_eucl = get_recommendation_euclidean(df_nullout['Title'].loc[seed_idxnum],\n",
    "                                      150).reset_index()\n",
    "\n",
    "print(len(df_eucl[df_eucl['Label'].isin(['1'])]))\n",
    "df_eucl[df_eucl['Label'].isin(['1'])].sort_values(by='index')\n",
    "# df_eucl.head()"
   ]
  },
  {
   "cell_type": "markdown",
   "metadata": {},
   "source": [
    "코사인 유사도"
   ]
  },
  {
   "cell_type": "code",
   "execution_count": 41,
   "metadata": {},
   "outputs": [],
   "source": [
    "def get_recommendation(title, n, tfidf_matrix_m=tfidf_matrix_m):\n",
    "    '''title: 논문제목, n: 몇 개 까지 띄울지'''\n",
    "    cosine_sim = cosine_similarity(tfidf_matrix_m, tfidf_matrix_m)\n",
    "    \n",
    "    idx = indices[title]\n",
    "#     print(cosine_sim)\n",
    "    sim_scores = list(enumerate(cosine_sim[idx]))\n",
    "#     print(sim_scores)\n",
    "    df_cossim = df_nullout\n",
    "    df_cossim['Similarity'] = [i[1] for i in sim_scores]\n",
    "    sim_scores_sort = sorted(sim_scores, key=lambda x: x[1], reverse=True)\n",
    "    sim_scores_sort = sim_scores_sort[0:n+1]\n",
    "    article_indices = [i[0] for i in sim_scores_sort]\n",
    "#     print(article_indices)\n",
    "#     article_indices = article_indices[1:11]\n",
    "#     print(article_indices)\n",
    "    \n",
    "#     return df_nullout['Title'].iloc[article_indices]\n",
    "    return df_cossim[['Title', 'Label', 'Similarity']].iloc[article_indices]"
   ]
  },
  {
   "cell_type": "code",
   "execution_count": 42,
   "metadata": {},
   "outputs": [
    {
     "name": "stdout",
     "output_type": "stream",
     "text": [
      "11\n"
     ]
    },
    {
     "data": {
      "text/html": [
       "<div>\n",
       "<style scoped>\n",
       "    .dataframe tbody tr th:only-of-type {\n",
       "        vertical-align: middle;\n",
       "    }\n",
       "\n",
       "    .dataframe tbody tr th {\n",
       "        vertical-align: top;\n",
       "    }\n",
       "\n",
       "    .dataframe thead th {\n",
       "        text-align: right;\n",
       "    }\n",
       "</style>\n",
       "<table border=\"1\" class=\"dataframe\">\n",
       "  <thead>\n",
       "    <tr style=\"text-align: right;\">\n",
       "      <th></th>\n",
       "      <th>index</th>\n",
       "      <th>Title</th>\n",
       "      <th>Label</th>\n",
       "      <th>Similarity</th>\n",
       "    </tr>\n",
       "  </thead>\n",
       "  <tbody>\n",
       "    <tr>\n",
       "      <th>16</th>\n",
       "      <td>30</td>\n",
       "      <td>Cognitive-behavioral treatment and antidepressants combined with virtual reality exposure for pa...</td>\n",
       "      <td>1.0</td>\n",
       "      <td>0.214255</td>\n",
       "    </tr>\n",
       "    <tr>\n",
       "      <th>14</th>\n",
       "      <td>31</td>\n",
       "      <td>The combined use of virtual reality exposure in the treatment of agoraphobia.</td>\n",
       "      <td>1.0</td>\n",
       "      <td>0.231382</td>\n",
       "    </tr>\n",
       "    <tr>\n",
       "      <th>41</th>\n",
       "      <td>36</td>\n",
       "      <td>A controlled study of agoraphobia and the independent effect of virtual reality exposure therapy.</td>\n",
       "      <td>1.0</td>\n",
       "      <td>0.163773</td>\n",
       "    </tr>\n",
       "    <tr>\n",
       "      <th>19</th>\n",
       "      <td>61</td>\n",
       "      <td>Effectiveness of cognitive behavioral therapy integrated with systematic desensitization, cognit...</td>\n",
       "      <td>1.0</td>\n",
       "      <td>0.195501</td>\n",
       "    </tr>\n",
       "    <tr>\n",
       "      <th>2</th>\n",
       "      <td>81</td>\n",
       "      <td>Exposure to virtual social interactions in the treatment of social anxiety disorder: A randomize...</td>\n",
       "      <td>1.0</td>\n",
       "      <td>0.334183</td>\n",
       "    </tr>\n",
       "    <tr>\n",
       "      <th>8</th>\n",
       "      <td>111</td>\n",
       "      <td>In Vivo versus augmented reality exposure in the treatment of small animal phobia: A randomized ...</td>\n",
       "      <td>1.0</td>\n",
       "      <td>0.256213</td>\n",
       "    </tr>\n",
       "    <tr>\n",
       "      <th>17</th>\n",
       "      <td>134</td>\n",
       "      <td>One session treatment of cognitive and behavioral therapy and virtual reality for social and spe...</td>\n",
       "      <td>1.0</td>\n",
       "      <td>0.213466</td>\n",
       "    </tr>\n",
       "    <tr>\n",
       "      <th>1</th>\n",
       "      <td>208</td>\n",
       "      <td>Virtual reality compared with in vivo exposure in the treatment of social anxiety disorder: a th...</td>\n",
       "      <td>1.0</td>\n",
       "      <td>0.350211</td>\n",
       "    </tr>\n",
       "    <tr>\n",
       "      <th>7</th>\n",
       "      <td>214</td>\n",
       "      <td>Virtual reality exposure therapy does not provide any additional value in agoraphobic patients: ...</td>\n",
       "      <td>1.0</td>\n",
       "      <td>0.256743</td>\n",
       "    </tr>\n",
       "    <tr>\n",
       "      <th>0</th>\n",
       "      <td>215</td>\n",
       "      <td>Virtual reality exposure therapy for social anxiety disorder: a randomized controlled trial.</td>\n",
       "      <td>1.0</td>\n",
       "      <td>1.000000</td>\n",
       "    </tr>\n",
       "    <tr>\n",
       "      <th>37</th>\n",
       "      <td>217</td>\n",
       "      <td>Virtual reality exposure therapy versus cognitive behavior therapy for panic disorder with agora...</td>\n",
       "      <td>1.0</td>\n",
       "      <td>0.165384</td>\n",
       "    </tr>\n",
       "  </tbody>\n",
       "</table>\n",
       "</div>"
      ],
      "text/plain": [
       "    index  \\\n",
       "16     30   \n",
       "14     31   \n",
       "41     36   \n",
       "19     61   \n",
       "2      81   \n",
       "8     111   \n",
       "17    134   \n",
       "1     208   \n",
       "7     214   \n",
       "0     215   \n",
       "37    217   \n",
       "\n",
       "                                                                                                  Title  \\\n",
       "16  Cognitive-behavioral treatment and antidepressants combined with virtual reality exposure for pa...   \n",
       "14                        The combined use of virtual reality exposure in the treatment of agoraphobia.   \n",
       "41    A controlled study of agoraphobia and the independent effect of virtual reality exposure therapy.   \n",
       "19  Effectiveness of cognitive behavioral therapy integrated with systematic desensitization, cognit...   \n",
       "2   Exposure to virtual social interactions in the treatment of social anxiety disorder: A randomize...   \n",
       "8   In Vivo versus augmented reality exposure in the treatment of small animal phobia: A randomized ...   \n",
       "17  One session treatment of cognitive and behavioral therapy and virtual reality for social and spe...   \n",
       "1   Virtual reality compared with in vivo exposure in the treatment of social anxiety disorder: a th...   \n",
       "7   Virtual reality exposure therapy does not provide any additional value in agoraphobic patients: ...   \n",
       "0          Virtual reality exposure therapy for social anxiety disorder: a randomized controlled trial.   \n",
       "37  Virtual reality exposure therapy versus cognitive behavior therapy for panic disorder with agora...   \n",
       "\n",
       "    Label  Similarity  \n",
       "16    1.0    0.214255  \n",
       "14    1.0    0.231382  \n",
       "41    1.0    0.163773  \n",
       "19    1.0    0.195501  \n",
       "2     1.0    0.334183  \n",
       "8     1.0    0.256213  \n",
       "17    1.0    0.213466  \n",
       "1     1.0    0.350211  \n",
       "7     1.0    0.256743  \n",
       "0     1.0    1.000000  \n",
       "37    1.0    0.165384  "
      ]
     },
     "execution_count": 42,
     "metadata": {},
     "output_type": "execute_result"
    }
   ],
   "source": [
    "'''get_recommendation에 논문제목(title) 넣어주어야함'''\n",
    "df_tfidf = pd.DataFrame(get_recommendation(df_nullout['Title'].loc[seed_idxnum], \n",
    "                                           250)).reset_index()\n",
    "\n",
    "pd.set_option('display.max.colwidth', 100)\n",
    "\n",
    "print(len(df_tfidf[df_tfidf['Label'].isin(['1'])]))\n",
    "df_tfidf[df_tfidf['Label'].isin(['1'])].sort_values(by='index')\n",
    "\n",
    "# cosine_similarity(DTM_vector[215], DTM_vector[208])"
   ]
  },
  {
   "cell_type": "markdown",
   "metadata": {},
   "source": [
    "Hellinger 유사도"
   ]
  },
  {
   "cell_type": "code",
   "execution_count": 43,
   "metadata": {},
   "outputs": [],
   "source": [
    "def get_recommendation_hellinger(title, n, lda_result=lda_vector):\n",
    "    idx = indices[title]\n",
    "    hellinger_sim = []\n",
    "    for i in range(0, len(lda_result)):\n",
    "        hellinger_sim.append(1-(hellinger(lda_result[idx], lda_result[i])))\n",
    "\n",
    "    hellinger_scores = list(enumerate(hellinger_sim))\n",
    "#     print(hellinger_scores)\n",
    "    df_hellsim = df_nullout\n",
    "    df_hellsim['Similarity'] = [i[1] for i in hellinger_scores]\n",
    "    hell_scores_sort = sorted(hellinger_scores, key=lambda x: x[1], reverse=True)\n",
    "    hell_scores_sort = hell_scores_sort[0:n+1]\n",
    "    article_indices = [i[0] for i in hell_scores_sort]\n",
    "    \n",
    "    return df_hellsim[['Title', 'Label', 'Similarity']].iloc[article_indices]"
   ]
  },
  {
   "cell_type": "code",
   "execution_count": 44,
   "metadata": {},
   "outputs": [
    {
     "name": "stdout",
     "output_type": "stream",
     "text": [
      "11\n"
     ]
    },
    {
     "data": {
      "text/html": [
       "<div>\n",
       "<style scoped>\n",
       "    .dataframe tbody tr th:only-of-type {\n",
       "        vertical-align: middle;\n",
       "    }\n",
       "\n",
       "    .dataframe tbody tr th {\n",
       "        vertical-align: top;\n",
       "    }\n",
       "\n",
       "    .dataframe thead th {\n",
       "        text-align: right;\n",
       "    }\n",
       "</style>\n",
       "<table border=\"1\" class=\"dataframe\">\n",
       "  <thead>\n",
       "    <tr style=\"text-align: right;\">\n",
       "      <th></th>\n",
       "      <th>index</th>\n",
       "      <th>Title</th>\n",
       "      <th>Label</th>\n",
       "      <th>Similarity</th>\n",
       "    </tr>\n",
       "  </thead>\n",
       "  <tbody>\n",
       "    <tr>\n",
       "      <th>65</th>\n",
       "      <td>30</td>\n",
       "      <td>Cognitive-behavioral treatment and antidepressants combined with virtual reality exposure for pa...</td>\n",
       "      <td>1.0</td>\n",
       "      <td>0.675888</td>\n",
       "    </tr>\n",
       "    <tr>\n",
       "      <th>14</th>\n",
       "      <td>31</td>\n",
       "      <td>The combined use of virtual reality exposure in the treatment of agoraphobia.</td>\n",
       "      <td>1.0</td>\n",
       "      <td>0.856066</td>\n",
       "    </tr>\n",
       "    <tr>\n",
       "      <th>58</th>\n",
       "      <td>36</td>\n",
       "      <td>A controlled study of agoraphobia and the independent effect of virtual reality exposure therapy.</td>\n",
       "      <td>1.0</td>\n",
       "      <td>0.677228</td>\n",
       "    </tr>\n",
       "    <tr>\n",
       "      <th>78</th>\n",
       "      <td>61</td>\n",
       "      <td>Effectiveness of cognitive behavioral therapy integrated with systematic desensitization, cognit...</td>\n",
       "      <td>1.0</td>\n",
       "      <td>0.674033</td>\n",
       "    </tr>\n",
       "    <tr>\n",
       "      <th>88</th>\n",
       "      <td>81</td>\n",
       "      <td>Exposure to virtual social interactions in the treatment of social anxiety disorder: A randomize...</td>\n",
       "      <td>1.0</td>\n",
       "      <td>0.671959</td>\n",
       "    </tr>\n",
       "    <tr>\n",
       "      <th>91</th>\n",
       "      <td>111</td>\n",
       "      <td>In Vivo versus augmented reality exposure in the treatment of small animal phobia: A randomized ...</td>\n",
       "      <td>1.0</td>\n",
       "      <td>0.671743</td>\n",
       "    </tr>\n",
       "    <tr>\n",
       "      <th>41</th>\n",
       "      <td>134</td>\n",
       "      <td>One session treatment of cognitive and behavioral therapy and virtual reality for social and spe...</td>\n",
       "      <td>1.0</td>\n",
       "      <td>0.679279</td>\n",
       "    </tr>\n",
       "    <tr>\n",
       "      <th>6</th>\n",
       "      <td>208</td>\n",
       "      <td>Virtual reality compared with in vivo exposure in the treatment of social anxiety disorder: a th...</td>\n",
       "      <td>1.0</td>\n",
       "      <td>0.929891</td>\n",
       "    </tr>\n",
       "    <tr>\n",
       "      <th>92</th>\n",
       "      <td>214</td>\n",
       "      <td>Virtual reality exposure therapy does not provide any additional value in agoraphobic patients: ...</td>\n",
       "      <td>1.0</td>\n",
       "      <td>0.671740</td>\n",
       "    </tr>\n",
       "    <tr>\n",
       "      <th>0</th>\n",
       "      <td>215</td>\n",
       "      <td>Virtual reality exposure therapy for social anxiety disorder: a randomized controlled trial.</td>\n",
       "      <td>1.0</td>\n",
       "      <td>1.000000</td>\n",
       "    </tr>\n",
       "    <tr>\n",
       "      <th>54</th>\n",
       "      <td>217</td>\n",
       "      <td>Virtual reality exposure therapy versus cognitive behavior therapy for panic disorder with agora...</td>\n",
       "      <td>1.0</td>\n",
       "      <td>0.677655</td>\n",
       "    </tr>\n",
       "  </tbody>\n",
       "</table>\n",
       "</div>"
      ],
      "text/plain": [
       "    index  \\\n",
       "65     30   \n",
       "14     31   \n",
       "58     36   \n",
       "78     61   \n",
       "88     81   \n",
       "91    111   \n",
       "41    134   \n",
       "6     208   \n",
       "92    214   \n",
       "0     215   \n",
       "54    217   \n",
       "\n",
       "                                                                                                  Title  \\\n",
       "65  Cognitive-behavioral treatment and antidepressants combined with virtual reality exposure for pa...   \n",
       "14                        The combined use of virtual reality exposure in the treatment of agoraphobia.   \n",
       "58    A controlled study of agoraphobia and the independent effect of virtual reality exposure therapy.   \n",
       "78  Effectiveness of cognitive behavioral therapy integrated with systematic desensitization, cognit...   \n",
       "88  Exposure to virtual social interactions in the treatment of social anxiety disorder: A randomize...   \n",
       "91  In Vivo versus augmented reality exposure in the treatment of small animal phobia: A randomized ...   \n",
       "41  One session treatment of cognitive and behavioral therapy and virtual reality for social and spe...   \n",
       "6   Virtual reality compared with in vivo exposure in the treatment of social anxiety disorder: a th...   \n",
       "92  Virtual reality exposure therapy does not provide any additional value in agoraphobic patients: ...   \n",
       "0          Virtual reality exposure therapy for social anxiety disorder: a randomized controlled trial.   \n",
       "54  Virtual reality exposure therapy versus cognitive behavior therapy for panic disorder with agora...   \n",
       "\n",
       "    Label  Similarity  \n",
       "65    1.0    0.675888  \n",
       "14    1.0    0.856066  \n",
       "58    1.0    0.677228  \n",
       "78    1.0    0.674033  \n",
       "88    1.0    0.671959  \n",
       "91    1.0    0.671743  \n",
       "41    1.0    0.679279  \n",
       "6     1.0    0.929891  \n",
       "92    1.0    0.671740  \n",
       "0     1.0    1.000000  \n",
       "54    1.0    0.677655  "
      ]
     },
     "execution_count": 44,
     "metadata": {},
     "output_type": "execute_result"
    }
   ],
   "source": [
    "df_hell = get_recommendation_hellinger(df_nullout['Title'].loc[seed_idxnum], \n",
    "                                       260).reset_index()\n",
    "\n",
    "print(len(df_hell[df_hell['Label'].isin(['1'])]))\n",
    "df_hell[df_hell['Label'].isin(['1'])].sort_values(by='index')"
   ]
  },
  {
   "cell_type": "markdown",
   "metadata": {},
   "source": [
    "Jaccard 유사도"
   ]
  },
  {
   "cell_type": "code",
   "execution_count": 45,
   "metadata": {},
   "outputs": [],
   "source": [
    "def get_recommendation_jaccard(title, n, token_word=token_word):\n",
    "    idx = indices[title]\n",
    "    jaccard_sim = []\n",
    "    for i in range(0, len(token_word)):\n",
    "        jaccard_sim.append(1-(jaccard(token_word[idx], token_word[i])))\n",
    "\n",
    "    jaccard_scores = list(enumerate(jaccard_sim))\n",
    "#     print(hellinger_scores)\n",
    "    df_jacsim = df_nullout\n",
    "    df_jacsim['Similarity'] = [i[1] for i in jaccard_scores]\n",
    "    jac_scores_sort = sorted(jaccard_scores, key=lambda x: x[1], reverse=True)\n",
    "    jac_scores_sort = jac_scores_sort[0:n+1]\n",
    "    article_indices = [i[0] for i in jac_scores_sort]\n",
    "    \n",
    "    return df_jacsim[['Title', 'Label', 'Similarity']].iloc[article_indices]"
   ]
  },
  {
   "cell_type": "code",
   "execution_count": 1,
   "metadata": {},
   "outputs": [
    {
     "ename": "NameError",
     "evalue": "name 'get_recommendation_jaccard' is not defined",
     "output_type": "error",
     "traceback": [
      "\u001b[1;31m---------------------------------------------------------------------------\u001b[0m",
      "\u001b[1;31mNameError\u001b[0m                                 Traceback (most recent call last)",
      "\u001b[1;32m<ipython-input-1-553db1004e38>\u001b[0m in \u001b[0;36m<module>\u001b[1;34m\u001b[0m\n\u001b[1;32m----> 1\u001b[1;33m df_jacc = get_recommendation_jaccard(df_nullout['Title'].loc[seed_idxnum], \n\u001b[0m\u001b[0;32m      2\u001b[0m                                     200).reset_index()\n\u001b[0;32m      3\u001b[0m \u001b[1;33m\u001b[0m\u001b[0m\n\u001b[0;32m      4\u001b[0m \u001b[0mprint\u001b[0m\u001b[1;33m(\u001b[0m\u001b[0mlen\u001b[0m\u001b[1;33m(\u001b[0m\u001b[0mdf_jacc\u001b[0m\u001b[1;33m[\u001b[0m\u001b[0mdf_jacc\u001b[0m\u001b[1;33m[\u001b[0m\u001b[1;34m'Label'\u001b[0m\u001b[1;33m]\u001b[0m\u001b[1;33m.\u001b[0m\u001b[0misin\u001b[0m\u001b[1;33m(\u001b[0m\u001b[1;33m[\u001b[0m\u001b[1;34m'1'\u001b[0m\u001b[1;33m]\u001b[0m\u001b[1;33m)\u001b[0m\u001b[1;33m]\u001b[0m\u001b[1;33m)\u001b[0m\u001b[1;33m)\u001b[0m\u001b[1;33m\u001b[0m\u001b[1;33m\u001b[0m\u001b[0m\n\u001b[0;32m      5\u001b[0m \u001b[0mdf_jacc\u001b[0m\u001b[1;33m[\u001b[0m\u001b[0mdf_jacc\u001b[0m\u001b[1;33m[\u001b[0m\u001b[1;34m'Label'\u001b[0m\u001b[1;33m]\u001b[0m\u001b[1;33m.\u001b[0m\u001b[0misin\u001b[0m\u001b[1;33m(\u001b[0m\u001b[1;33m[\u001b[0m\u001b[1;34m'1'\u001b[0m\u001b[1;33m]\u001b[0m\u001b[1;33m)\u001b[0m\u001b[1;33m]\u001b[0m\u001b[1;33m.\u001b[0m\u001b[0msort_values\u001b[0m\u001b[1;33m(\u001b[0m\u001b[0mby\u001b[0m\u001b[1;33m=\u001b[0m\u001b[1;34m'index'\u001b[0m\u001b[1;33m)\u001b[0m\u001b[1;33m\u001b[0m\u001b[1;33m\u001b[0m\u001b[0m\n",
      "\u001b[1;31mNameError\u001b[0m: name 'get_recommendation_jaccard' is not defined"
     ]
    }
   ],
   "source": [
    "df_jacc = get_recommendation_jaccard(df_nullout['Title'].loc[seed_idxnum], \n",
    "                                    200).reset_index()\n",
    "\n",
    "print(len(df_jacc[df_jacc['Label'].isin(['1'])]))\n",
    "df_jacc[df_jacc['Label'].isin(['1'])].sort_values(by='index')"
   ]
  },
  {
   "cell_type": "code",
   "execution_count": 47,
   "metadata": {},
   "outputs": [],
   "source": [
    "class Similarity2xlsx:\n",
    "    def __init__(self, my_dataframe):\n",
    "#         self.save_dataframe = my_dataframe[my_dataframe['Label'].isin(['1'])].rename_axis('Ranking').reset_index()\n",
    "        self.my_dataframe = my_dataframe[my_dataframe['Label'].isin(['1'])].rename_axis('Ranking').reset_index()\n",
    "\n",
    "    def make_columns(self):\n",
    "        N = len(df_nullout)\n",
    "        \n",
    "        df_temp = pd.DataFrame(self.my_dataframe[['Title', 'Ranking', 'Similarity']])\n",
    "#         df_temp = pd.DataFrame()\n",
    "        df_temp['N'] = N-1\n",
    "        df_temp['TP'] = np.arange(len(self.my_dataframe))\n",
    "        df_temp['FN'] = (len(self.my_dataframe)-1) - df_temp['TP']\n",
    "        df_temp['FP'] = df_temp['Ranking'] - df_temp['TP']\n",
    "        df_temp['TN'] = df_temp['N'] - (df_temp['TP']+df_temp['FN']+df_temp['FP'])\n",
    "        df_temp['Accuracy'] = (df_temp['TP']+df_temp['TN'])/N\n",
    "        df_temp['Recall'] = df_temp['TP']/(df_temp['TP']+df_temp['FN'])\n",
    "        df_temp['Precision'] = df_temp['TP']/(df_temp['TP']+df_temp['FP'])\n",
    "        df_temp['F1_score'] = 2 * ((df_temp['Precision']*df_temp['Recall'])/\n",
    "                                   (df_temp['Precision']+df_temp['Recall']))\n",
    "        df_temp['WSS'] = (df_temp['TP']+df_temp['TN'])/df_temp['N'] - (1-df_temp['Recall'])\n",
    "        return df_temp\n",
    "    \n",
    "    def get_csv(self):\n",
    "        index_df = pd.DataFrame(self.my_dataframe[['index', 'Title']])\n",
    "        \n",
    "        df_cos = pd.DataFrame(Similarity2xlsx(df_tfidf).make_columns()).add_suffix('_cos').rename({'Title_cos':'Title'}, axis='columns')\n",
    "        df_hel = pd.DataFrame(Similarity2xlsx(df_hell).make_columns()).add_suffix('_hel').rename({'Title_hel':'Title'}, axis='columns')\n",
    "        df_jac = pd.DataFrame(Similarity2xlsx(df_jacc).make_columns()).add_suffix('_jac').rename({'Title_jac':'Title'}, axis='columns')\n",
    "        df_euc = pd.DataFrame(Similarity2xlsx(df_eucl).make_columns()).add_suffix('_euc').rename({'Title_euc':'Title'}, axis='columns')\n",
    "        merged_df = df_cos.merge(df_euc).merge(df_hel).merge(df_jac).merge(index_df)\n",
    "        \n",
    "        # dataframe에서 'index'열 위치 맨 앞으로\n",
    "        cols = merged_df.columns.tolist()\n",
    "        cols = cols[-1:] + cols[:-1]\n",
    "        merged_df = merged_df[cols].sort_values(by='index')\n",
    "        \n",
    "        # 엑셀파일로 저장\n",
    "        merged_df.to_excel('C:/Users/Euisung/Desktop/Artech/Graduation/dataset/ex.xlsx')\n",
    "        return merged_df"
   ]
  },
  {
   "cell_type": "code",
   "execution_count": 48,
   "metadata": {},
   "outputs": [
    {
     "name": "stdout",
     "output_type": "stream",
     "text": [
      "0      0\n",
      "1      1\n",
      "2      2\n",
      "3      3\n",
      "4      4\n",
      "5      5\n",
      "6      6\n",
      "7      7\n",
      "8      8\n",
      "9      9\n",
      "10    10\n",
      "Name: TP, dtype: int32\n",
      "0      0\n",
      "1      1\n",
      "2      2\n",
      "3      3\n",
      "4      4\n",
      "5      5\n",
      "6      6\n",
      "7      7\n",
      "8      8\n",
      "9      9\n",
      "10    10\n",
      "Name: TP, dtype: int32\n",
      "0      0\n",
      "1      1\n",
      "2      2\n",
      "3      3\n",
      "4      4\n",
      "5      5\n",
      "6      6\n",
      "7      7\n",
      "8      8\n",
      "9      9\n",
      "10    10\n",
      "Name: TP, dtype: int32\n",
      "0      0\n",
      "1      1\n",
      "2      2\n",
      "3      3\n",
      "4      4\n",
      "5      5\n",
      "6      6\n",
      "7      7\n",
      "8      8\n",
      "9      9\n",
      "10    10\n",
      "Name: TP, dtype: int32\n"
     ]
    }
   ],
   "source": [
    "# 3개 유사도 검색 결과 출력\n",
    "sim2xlsx = Similarity2xlsx(df_tfidf)\n",
    "xl_df = sim2xlsx.get_csv()\n",
    "xl_df.info()"
   ]
  },
  {
   "cell_type": "code",
   "execution_count": null,
   "metadata": {},
   "outputs": [],
   "source": []
  }
 ],
 "metadata": {
  "kernelspec": {
   "display_name": "Python 3",
   "language": "python",
   "name": "python3"
  },
  "language_info": {
   "codemirror_mode": {
    "name": "ipython",
    "version": 3
   },
   "file_extension": ".py",
   "mimetype": "text/x-python",
   "name": "python",
   "nbconvert_exporter": "python",
   "pygments_lexer": "ipython3",
   "version": "3.8.5"
  }
 },
 "nbformat": 4,
 "nbformat_minor": 4
}
